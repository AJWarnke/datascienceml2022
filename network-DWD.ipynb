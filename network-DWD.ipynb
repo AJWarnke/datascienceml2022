{
 "cells": [
  {
   "cell_type": "markdown",
   "metadata": {},
   "source": [
    "# Forecasting Water Levels using LSTMs"
   ]
  },
  {
   "cell_type": "code",
   "execution_count": 302,
   "metadata": {},
   "outputs": [],
   "source": [
    "import IPython.display\n",
    "import matplotlib.pyplot as plt\n",
    "import numpy as np\n",
    "import pandas as pd\n",
    "import tensorflow as tf\n",
    "from sklearn.preprocessing import RobustScaler\n",
    "from wetterdienst import Wetterdienst, Period, Resolution\n",
    "from wetterdienst.provider.dwd.observation import DwdObservationRequest, \\\n",
    "    DwdObservationPeriod, DwdObservationResolution, DwdObservationParameter, DwdObservationDataset"
   ]
  },
  {
   "cell_type": "code",
   "execution_count": 303,
   "metadata": {},
   "outputs": [
    {
     "data": {
      "text/plain": "Int64Index([], dtype='int64')"
     },
     "execution_count": 303,
     "metadata": {},
     "output_type": "execute_result"
    }
   ],
   "source": [
    "df = pd.read_csv('data/Kaub_Level_Since_2013_updated_v2.csv')\n",
    "x = df[df.duplicated(['date'])].index\n",
    "x"
   ]
  },
  {
   "cell_type": "code",
   "execution_count": 304,
   "outputs": [
    {
     "name": "stdout",
     "output_type": "stream",
     "text": [
      "These are the missing dates on the updated data: \n",
      " DatetimeIndex([], dtype='datetime64[ns]', freq='D')\n",
      "There are a total of 0 dates missing.\n"
     ]
    }
   ],
   "source": [
    "df_index = df.set_index(df['date'])\n",
    "df_index.index = pd.to_datetime(df_index.index)\n",
    "dates_original = pd.date_range(start=df['date'].iloc[0], end=df['date'].iloc[-1]).difference(df_index.index)\n",
    "print('These are the missing dates on the updated data: \\n', dates_original)\n",
    "print(f'There are a total of {len(dates_original)} dates missing.')"
   ],
   "metadata": {
    "collapsed": false,
    "pycharm": {
     "name": "#%%\n"
    }
   }
  },
  {
   "cell_type": "code",
   "execution_count": 305,
   "metadata": {},
   "outputs": [],
   "source": [
    "for element in x:\n",
    "    df.drop(element, inplace=True)"
   ]
  },
  {
   "cell_type": "code",
   "execution_count": 306,
   "metadata": {},
   "outputs": [],
   "source": [
    "df = df.reset_index(drop=True)"
   ]
  },
  {
   "cell_type": "code",
   "execution_count": 307,
   "metadata": {},
   "outputs": [],
   "source": [
    "path = 'results/' # Path for saving the figures later on"
   ]
  },
  {
   "cell_type": "markdown",
   "source": [
    "Look at available stations near the Rhine. This is done by only filtering the state Baden Württemberg and also using only stations that have also recent data available, because some of the stations have seemingly not been used anymore in the last few years."
   ],
   "metadata": {
    "collapsed": false,
    "pycharm": {
     "name": "#%% md\n"
    }
   }
  },
  {
   "cell_type": "code",
   "execution_count": 308,
   "outputs": [],
   "source": [
    "stations = DwdObservationRequest(parameter=DwdObservationDataset.PRECIPITATION_MORE,resolution=Resolution.DAILY,period=Period.HISTORICAL)"
   ],
   "metadata": {
    "collapsed": false,
    "pycharm": {
     "name": "#%%\n"
    }
   }
  },
  {
   "cell_type": "code",
   "execution_count": 309,
   "outputs": [
    {
     "data": {
      "text/plain": "     station_id                 from_date                   to_date  height  \\\n4         00006 1982-11-01 00:00:00+00:00 2021-12-12 00:00:00+00:00   455.0   \n16        00019 1951-01-01 00:00:00+00:00 2021-12-12 00:00:00+00:00   471.0   \n17        00020 1941-01-01 00:00:00+00:00 2021-12-12 00:00:00+00:00   432.0   \n18        00021 1892-11-01 00:00:00+00:00 2021-12-12 00:00:00+00:00   498.0   \n19        00022 1951-01-01 00:00:00+00:00 2021-12-12 00:00:00+00:00   138.0   \n...         ...                       ...                       ...     ...   \n5153      05711 1941-01-01 00:00:00+00:00 2021-12-12 00:00:00+00:00   392.0   \n5314      06113 1998-01-01 00:00:00+00:00 2021-12-12 00:00:00+00:00   243.0   \n5234      05798 1983-10-01 00:00:00+00:00 2021-12-12 00:00:00+00:00   529.0   \n3365      03761 1889-07-01 00:00:00+00:00 2021-12-12 00:00:00+00:00   276.0   \n437       00498 1901-01-01 00:00:00+00:00 2021-12-12 00:00:00+00:00   760.0   \n\n      latitude  longitude                      name              state  \n4      48.8361    10.0598        Aalen-Unterrombach  Baden-Württemberg  \n16     48.8795     9.9710        Abtsgmünd-Neubronn  Baden-Württemberg  \n17     48.9219     9.9129  Abtsgmünd-Untergröningen  Baden-Württemberg  \n18     47.6104     9.6981    Achberg-Doberatsweiler  Baden-Württemberg  \n19     48.6317     8.0466         Achern-Fautenbach  Baden-Württemberg  \n...        ...        ...                       ...                ...  \n5153   49.1296     9.4945    Wüstenrot-Oberheimbach  Baden-Württemberg  \n5314   48.3443     8.0720       Zell am Harmersbach  Baden-Württemberg  \n5234   48.2198     9.4862                Zwiefalten  Baden-Württemberg  \n3365   49.2070     9.5176                  Öhringen  Baden-Württemberg  \n437    47.7453     8.3111       Ühlingen-Birkendorf  Baden-Württemberg  \n\n[208 rows x 8 columns]",
      "text/html": "<div>\n<style scoped>\n    .dataframe tbody tr th:only-of-type {\n        vertical-align: middle;\n    }\n\n    .dataframe tbody tr th {\n        vertical-align: top;\n    }\n\n    .dataframe thead th {\n        text-align: right;\n    }\n</style>\n<table border=\"1\" class=\"dataframe\">\n  <thead>\n    <tr style=\"text-align: right;\">\n      <th></th>\n      <th>station_id</th>\n      <th>from_date</th>\n      <th>to_date</th>\n      <th>height</th>\n      <th>latitude</th>\n      <th>longitude</th>\n      <th>name</th>\n      <th>state</th>\n    </tr>\n  </thead>\n  <tbody>\n    <tr>\n      <th>4</th>\n      <td>00006</td>\n      <td>1982-11-01 00:00:00+00:00</td>\n      <td>2021-12-12 00:00:00+00:00</td>\n      <td>455.0</td>\n      <td>48.8361</td>\n      <td>10.0598</td>\n      <td>Aalen-Unterrombach</td>\n      <td>Baden-Württemberg</td>\n    </tr>\n    <tr>\n      <th>16</th>\n      <td>00019</td>\n      <td>1951-01-01 00:00:00+00:00</td>\n      <td>2021-12-12 00:00:00+00:00</td>\n      <td>471.0</td>\n      <td>48.8795</td>\n      <td>9.9710</td>\n      <td>Abtsgmünd-Neubronn</td>\n      <td>Baden-Württemberg</td>\n    </tr>\n    <tr>\n      <th>17</th>\n      <td>00020</td>\n      <td>1941-01-01 00:00:00+00:00</td>\n      <td>2021-12-12 00:00:00+00:00</td>\n      <td>432.0</td>\n      <td>48.9219</td>\n      <td>9.9129</td>\n      <td>Abtsgmünd-Untergröningen</td>\n      <td>Baden-Württemberg</td>\n    </tr>\n    <tr>\n      <th>18</th>\n      <td>00021</td>\n      <td>1892-11-01 00:00:00+00:00</td>\n      <td>2021-12-12 00:00:00+00:00</td>\n      <td>498.0</td>\n      <td>47.6104</td>\n      <td>9.6981</td>\n      <td>Achberg-Doberatsweiler</td>\n      <td>Baden-Württemberg</td>\n    </tr>\n    <tr>\n      <th>19</th>\n      <td>00022</td>\n      <td>1951-01-01 00:00:00+00:00</td>\n      <td>2021-12-12 00:00:00+00:00</td>\n      <td>138.0</td>\n      <td>48.6317</td>\n      <td>8.0466</td>\n      <td>Achern-Fautenbach</td>\n      <td>Baden-Württemberg</td>\n    </tr>\n    <tr>\n      <th>...</th>\n      <td>...</td>\n      <td>...</td>\n      <td>...</td>\n      <td>...</td>\n      <td>...</td>\n      <td>...</td>\n      <td>...</td>\n      <td>...</td>\n    </tr>\n    <tr>\n      <th>5153</th>\n      <td>05711</td>\n      <td>1941-01-01 00:00:00+00:00</td>\n      <td>2021-12-12 00:00:00+00:00</td>\n      <td>392.0</td>\n      <td>49.1296</td>\n      <td>9.4945</td>\n      <td>Wüstenrot-Oberheimbach</td>\n      <td>Baden-Württemberg</td>\n    </tr>\n    <tr>\n      <th>5314</th>\n      <td>06113</td>\n      <td>1998-01-01 00:00:00+00:00</td>\n      <td>2021-12-12 00:00:00+00:00</td>\n      <td>243.0</td>\n      <td>48.3443</td>\n      <td>8.0720</td>\n      <td>Zell am Harmersbach</td>\n      <td>Baden-Württemberg</td>\n    </tr>\n    <tr>\n      <th>5234</th>\n      <td>05798</td>\n      <td>1983-10-01 00:00:00+00:00</td>\n      <td>2021-12-12 00:00:00+00:00</td>\n      <td>529.0</td>\n      <td>48.2198</td>\n      <td>9.4862</td>\n      <td>Zwiefalten</td>\n      <td>Baden-Württemberg</td>\n    </tr>\n    <tr>\n      <th>3365</th>\n      <td>03761</td>\n      <td>1889-07-01 00:00:00+00:00</td>\n      <td>2021-12-12 00:00:00+00:00</td>\n      <td>276.0</td>\n      <td>49.2070</td>\n      <td>9.5176</td>\n      <td>Öhringen</td>\n      <td>Baden-Württemberg</td>\n    </tr>\n    <tr>\n      <th>437</th>\n      <td>00498</td>\n      <td>1901-01-01 00:00:00+00:00</td>\n      <td>2021-12-12 00:00:00+00:00</td>\n      <td>760.0</td>\n      <td>47.7453</td>\n      <td>8.3111</td>\n      <td>Ühlingen-Birkendorf</td>\n      <td>Baden-Württemberg</td>\n    </tr>\n  </tbody>\n</table>\n<p>208 rows × 8 columns</p>\n</div>"
     },
     "execution_count": 309,
     "metadata": {},
     "output_type": "execute_result"
    }
   ],
   "source": [
    "stat = stations.all().df\n",
    "stat[(stat['state'] == 'Baden-Württemberg') & (stat['to_date'] == '2021-12-12 00:00:00+00:00')].sort_values(by='name')"
   ],
   "metadata": {
    "collapsed": false,
    "pycharm": {
     "name": "#%%\n"
    }
   }
  },
  {
   "cell_type": "code",
   "execution_count": 310,
   "outputs": [
    {
     "data": {
      "text/plain": "     station_id                 from_date                   to_date  height  \\\n3899      04351 1951-01-01 00:00:00+00:00 2021-12-12 00:00:00+00:00   295.0   \n\n      latitude  longitude                   name              state  \n3899   47.5582     7.9773  Säckingen, Bad/ Rhein  Baden-Württemberg  ",
      "text/html": "<div>\n<style scoped>\n    .dataframe tbody tr th:only-of-type {\n        vertical-align: middle;\n    }\n\n    .dataframe tbody tr th {\n        vertical-align: top;\n    }\n\n    .dataframe thead th {\n        text-align: right;\n    }\n</style>\n<table border=\"1\" class=\"dataframe\">\n  <thead>\n    <tr style=\"text-align: right;\">\n      <th></th>\n      <th>station_id</th>\n      <th>from_date</th>\n      <th>to_date</th>\n      <th>height</th>\n      <th>latitude</th>\n      <th>longitude</th>\n      <th>name</th>\n      <th>state</th>\n    </tr>\n  </thead>\n  <tbody>\n    <tr>\n      <th>3899</th>\n      <td>04351</td>\n      <td>1951-01-01 00:00:00+00:00</td>\n      <td>2021-12-12 00:00:00+00:00</td>\n      <td>295.0</td>\n      <td>47.5582</td>\n      <td>7.9773</td>\n      <td>Säckingen, Bad/ Rhein</td>\n      <td>Baden-Württemberg</td>\n    </tr>\n  </tbody>\n</table>\n</div>"
     },
     "execution_count": 310,
     "metadata": {},
     "output_type": "execute_result"
    }
   ],
   "source": [
    "stat[stat['name'] == 'Säckingen, Bad/ Rhein']"
   ],
   "metadata": {
    "collapsed": false,
    "pycharm": {
     "name": "#%%\n"
    }
   }
  },
  {
   "cell_type": "code",
   "execution_count": 311,
   "outputs": [],
   "source": [
    "def get_station_id(city):\n",
    "    request = DwdObservationRequest(\n",
    "        parameter=DwdObservationDataset.PRECIPITATION_MORE,\n",
    "        resolution=DwdObservationResolution.DAILY,\n",
    "        period=DwdObservationPeriod.HISTORICAL\n",
    "    )\n",
    "    df = request.all().df\n",
    "    station_string = df[df['name'] == city].station_id\n",
    "    return int(station_string.iloc[0][1:])\n"
   ],
   "metadata": {
    "collapsed": false,
    "pycharm": {
     "name": "#%%\n"
    }
   }
  },
  {
   "cell_type": "markdown",
   "source": [
    "There is no Ludwigshafen in the DWD weather API, so I use Mannheim instead."
   ],
   "metadata": {
    "collapsed": false,
    "pycharm": {
     "name": "#%% md\n"
    }
   }
  },
  {
   "cell_type": "code",
   "execution_count": 349,
   "outputs": [],
   "source": [
    "ma_id = get_station_id('Mannheim')\n",
    "frei_id = get_station_id('Freiburg')\n",
    "rheinau_id = get_station_id('Rheinau-Memprechtshofen')\n",
    "rheinfelden_id = get_station_id('Rheinfelden')\n",
    "rheinstetten_id = get_station_id('Rheinstetten')"
   ],
   "metadata": {
    "collapsed": false,
    "pycharm": {
     "name": "#%%\n"
    }
   }
  },
  {
   "cell_type": "markdown",
   "metadata": {},
   "source": [
    "## What variables have an impact on water levels? https://ijc.org/en/lsbc/watershed/faq/3"
   ]
  },
  {
   "cell_type": "markdown",
   "source": [
    "200km: From Freiburg to Ludwigshafen. Rhine has a speed of 10 kph on average => Shift of 20h / approximately 1 day"
   ],
   "metadata": {
    "collapsed": false,
    "pycharm": {
     "name": "#%% md\n"
    }
   }
  },
  {
   "cell_type": "code",
   "execution_count": 350,
   "outputs": [],
   "source": [
    "def get_historical_data(station_id):\n",
    "    request = DwdObservationRequest(\n",
    "        parameter=[\n",
    "            DwdObservationParameter.DAILY.PRECIPITATION_HEIGHT\n",
    "        ],\n",
    "        resolution=DwdObservationResolution.DAILY,\n",
    "        period=DwdObservationPeriod.HISTORICAL\n",
    "    ).filter_by_station_id(station_id=(station_id, ))\n",
    "\n",
    "    return request.values.all().df\n",
    "\n",
    "def get_recent_data(station_id):\n",
    "    request = DwdObservationRequest(\n",
    "        parameter=[\n",
    "            DwdObservationParameter.DAILY.PRECIPITATION_HEIGHT\n",
    "        ],\n",
    "        resolution=DwdObservationResolution.DAILY,\n",
    "        period=DwdObservationPeriod.RECENT\n",
    "    ).filter_by_station_id(station_id=(station_id, ))\n",
    "\n",
    "    return request.values.all().df"
   ],
   "metadata": {
    "collapsed": false,
    "pycharm": {
     "name": "#%%\n"
    }
   }
  },
  {
   "cell_type": "code",
   "execution_count": 351,
   "outputs": [],
   "source": [
    "precipitation_rheinstetten_historical = get_historical_data(rheinstetten_id)\n",
    "precipitation_rheinstetten_recent = get_recent_data(rheinstetten_id)"
   ],
   "metadata": {
    "collapsed": false,
    "pycharm": {
     "name": "#%%\n"
    }
   }
  },
  {
   "cell_type": "code",
   "execution_count": 315,
   "outputs": [],
   "source": [
    "precipitation_rheinfelden_historical = get_historical_data(rheinfelden_id)\n",
    "precipitation_rheinfelden_recent = get_recent_data(rheinfelden_id)"
   ],
   "metadata": {
    "collapsed": false,
    "pycharm": {
     "name": "#%%\n"
    }
   }
  },
  {
   "cell_type": "code",
   "execution_count": 316,
   "outputs": [],
   "source": [
    "precipitation_rheinau_historical = get_historical_data(rheinau_id)\n",
    "precipitation_rheinau_recent = get_recent_data(rheinau_id)"
   ],
   "metadata": {
    "collapsed": false,
    "pycharm": {
     "name": "#%%\n"
    }
   }
  },
  {
   "cell_type": "code",
   "execution_count": 317,
   "outputs": [],
   "source": [
    "precipitation_frei_historical = get_historical_data(frei_id)\n",
    "precipitation_frei_recent = get_recent_data(frei_id)\n",
    "\n",
    "precipitation_ma_historical = get_historical_data(ma_id)\n",
    "precipitation_ma_recent= get_recent_data(ma_id)\n"
   ],
   "metadata": {
    "collapsed": false,
    "pycharm": {
     "name": "#%%\n"
    }
   }
  },
  {
   "cell_type": "markdown",
   "metadata": {},
   "source": [
    "brequest = DwdObservationRequest(\n",
    "    parameter=[\n",
    "        DwdObservationParameter.DAILY.PRECIPITATION_HEIGHT,\n",
    "        DwdObservationParameter.DAILY.PRESSURE_AIR_SITE,\n",
    "        DwdObservationParameter.DAILY.TEMPERATURE_AIR_MEAN_200,\n",
    "        DwdObservationParameter.DAILY.WIND_SPEED\n",
    "    ],\n",
    "    resolution=DwdObservationResolution.DAILY,\n",
    "    period=DwdObservationPeriod.HISTORICAL\n",
    ").filter_by_station_id(station_id=(5906, ))\n",
    "\n",
    "station_data = request.values.all().df\n",
    "station_data"
   ]
  },
  {
   "cell_type": "code",
   "execution_count": 318,
   "outputs": [
    {
     "data": {
      "text/plain": "<AxesSubplot:xlabel='date'>"
     },
     "execution_count": 318,
     "metadata": {},
     "output_type": "execute_result"
    },
    {
     "data": {
      "text/plain": "<Figure size 432x288 with 1 Axes>",
      "image/png": "[encoded data removed]"
     },
     "metadata": {
      "needs_background": "light"
     },
     "output_type": "display_data"
    },
    {
     "data": {
      "text/plain": "<Figure size 432x288 with 1 Axes>",
      "image/png": "[encoded data removed]"
     },
     "metadata": {
      "needs_background": "light"
     },
     "output_type": "display_data"
    },
    {
     "data": {
      "text/plain": "<Figure size 432x288 with 1 Axes>",
      "image/png": "[encoded data removed]"
     },
     "metadata": {
      "needs_background": "light"
     },
     "output_type": "display_data"
    },
    {
     "data": {
      "text/plain": "<Figure size 432x288 with 1 Axes>",
      "image/png": "[encoded data removed]"
     },
     "metadata": {
      "needs_background": "light"
     },
     "output_type": "display_data"
    },
    {
     "data": {
      "text/plain": "<Figure size 432x288 with 1 Axes>",
      "image/png": "[encoded data removed]"
     },
     "metadata": {
      "needs_background": "light"
     },
     "output_type": "display_data"
    }
   ],
   "source": [
    "precipitation_ma_historical.plot(x=\"date\", y=\"value\")\n",
    "precipitation_frei_historical.plot(x='date', y='value')\n",
    "precipitation_rheinau_historical.plot(x='date', y='value')\n",
    "precipitation_rheinfelden_historical.plot(x='date', y='value')\n",
    "precipitation_rheinstetten_historical.plot(x='date', y='value')"
   ],
   "metadata": {
    "collapsed": false,
    "pycharm": {
     "name": "#%%\n"
    }
   }
  },
  {
   "cell_type": "markdown",
   "source": [
    "Based on the above data, there seems to be only minor problems: Most often the missing data is of no concern, since the Rhine water level data is just from 2013 onwards, but for Rheinfelden it seems like there are some missing values in the year 2015."
   ],
   "metadata": {
    "collapsed": false,
    "pycharm": {
     "name": "#%% md\n"
    }
   }
  },
  {
   "cell_type": "code",
   "execution_count": 319,
   "outputs": [
    {
     "data": {
      "text/plain": "<AxesSubplot:xlabel='date'>"
     },
     "execution_count": 319,
     "metadata": {},
     "output_type": "execute_result"
    },
    {
     "data": {
      "text/plain": "<Figure size 432x288 with 1 Axes>",
      "image/png": "[encoded data removed]"
     },
     "metadata": {
      "needs_background": "light"
     },
     "output_type": "display_data"
    }
   ],
   "source": [
    "precipitation_rheinfelden_historical.loc[22000:23000].plot(x='date', y='value')"
   ],
   "metadata": {
    "collapsed": false,
    "pycharm": {
     "name": "#%%\n"
    }
   }
  },
  {
   "cell_type": "code",
   "execution_count": 320,
   "outputs": [
    {
     "data": {
      "text/plain": "      station_id          dataset             parameter  \\\n22200      04175  climate_summary  precipitation_height   \n22201      04175  climate_summary  precipitation_height   \n22202      04175  climate_summary  precipitation_height   \n22203      04175  climate_summary  precipitation_height   \n22204      04175  climate_summary  precipitation_height   \n...          ...              ...                   ...   \n22496      04175  climate_summary  precipitation_height   \n22497      04175  climate_summary  precipitation_height   \n22498      04175  climate_summary  precipitation_height   \n22499      04175  climate_summary  precipitation_height   \n22500      04175  climate_summary  precipitation_height   \n\n                           date  value  quality  \n22200 2014-06-13 00:00:00+00:00    0.0     10.0  \n22201 2014-06-14 00:00:00+00:00    0.0     10.0  \n22202 2014-06-15 00:00:00+00:00    0.0     10.0  \n22203 2014-06-16 00:00:00+00:00    0.0     10.0  \n22204 2014-06-17 00:00:00+00:00    0.1     10.0  \n...                         ...    ...      ...  \n22496 2016-10-03 00:00:00+00:00    0.0     10.0  \n22497 2016-10-04 00:00:00+00:00    0.0     10.0  \n22498 2016-10-05 00:00:00+00:00    0.0     10.0  \n22499 2016-10-06 00:00:00+00:00    0.0     10.0  \n22500 2016-10-07 00:00:00+00:00    0.0     10.0  \n\n[301 rows x 6 columns]",
      "text/html": "<div>\n<style scoped>\n    .dataframe tbody tr th:only-of-type {\n        vertical-align: middle;\n    }\n\n    .dataframe tbody tr th {\n        vertical-align: top;\n    }\n\n    .dataframe thead th {\n        text-align: right;\n    }\n</style>\n<table border=\"1\" class=\"dataframe\">\n  <thead>\n    <tr style=\"text-align: right;\">\n      <th></th>\n      <th>station_id</th>\n      <th>dataset</th>\n      <th>parameter</th>\n      <th>date</th>\n      <th>value</th>\n      <th>quality</th>\n    </tr>\n  </thead>\n  <tbody>\n    <tr>\n      <th>22200</th>\n      <td>04175</td>\n      <td>climate_summary</td>\n      <td>precipitation_height</td>\n      <td>2014-06-13 00:00:00+00:00</td>\n      <td>0.0</td>\n      <td>10.0</td>\n    </tr>\n    <tr>\n      <th>22201</th>\n      <td>04175</td>\n      <td>climate_summary</td>\n      <td>precipitation_height</td>\n      <td>2014-06-14 00:00:00+00:00</td>\n      <td>0.0</td>\n      <td>10.0</td>\n    </tr>\n    <tr>\n      <th>22202</th>\n      <td>04175</td>\n      <td>climate_summary</td>\n      <td>precipitation_height</td>\n      <td>2014-06-15 00:00:00+00:00</td>\n      <td>0.0</td>\n      <td>10.0</td>\n    </tr>\n    <tr>\n      <th>22203</th>\n      <td>04175</td>\n      <td>climate_summary</td>\n      <td>precipitation_height</td>\n      <td>2014-06-16 00:00:00+00:00</td>\n      <td>0.0</td>\n      <td>10.0</td>\n    </tr>\n    <tr>\n      <th>22204</th>\n      <td>04175</td>\n      <td>climate_summary</td>\n      <td>precipitation_height</td>\n      <td>2014-06-17 00:00:00+00:00</td>\n      <td>0.1</td>\n      <td>10.0</td>\n    </tr>\n    <tr>\n      <th>...</th>\n      <td>...</td>\n      <td>...</td>\n      <td>...</td>\n      <td>...</td>\n      <td>...</td>\n      <td>...</td>\n    </tr>\n    <tr>\n      <th>22496</th>\n      <td>04175</td>\n      <td>climate_summary</td>\n      <td>precipitation_height</td>\n      <td>2016-10-03 00:00:00+00:00</td>\n      <td>0.0</td>\n      <td>10.0</td>\n    </tr>\n    <tr>\n      <th>22497</th>\n      <td>04175</td>\n      <td>climate_summary</td>\n      <td>precipitation_height</td>\n      <td>2016-10-04 00:00:00+00:00</td>\n      <td>0.0</td>\n      <td>10.0</td>\n    </tr>\n    <tr>\n      <th>22498</th>\n      <td>04175</td>\n      <td>climate_summary</td>\n      <td>precipitation_height</td>\n      <td>2016-10-05 00:00:00+00:00</td>\n      <td>0.0</td>\n      <td>10.0</td>\n    </tr>\n    <tr>\n      <th>22499</th>\n      <td>04175</td>\n      <td>climate_summary</td>\n      <td>precipitation_height</td>\n      <td>2016-10-06 00:00:00+00:00</td>\n      <td>0.0</td>\n      <td>10.0</td>\n    </tr>\n    <tr>\n      <th>22500</th>\n      <td>04175</td>\n      <td>climate_summary</td>\n      <td>precipitation_height</td>\n      <td>2016-10-07 00:00:00+00:00</td>\n      <td>0.0</td>\n      <td>10.0</td>\n    </tr>\n  </tbody>\n</table>\n<p>301 rows × 6 columns</p>\n</div>"
     },
     "execution_count": 320,
     "metadata": {},
     "output_type": "execute_result"
    }
   ],
   "source": [
    "precipitation_rheinfelden_historical.loc[22200:22500]"
   ],
   "metadata": {
    "collapsed": false,
    "pycharm": {
     "name": "#%%\n"
    }
   }
  },
  {
   "cell_type": "markdown",
   "source": [
    "Upon closer inspection, the entirety of data from 2014 until 2016 is missing. This is of great concern since filling this values with artificially created values, i.e. values that may be wrong would have a bad influence on the model. This is why we decided to simply not include this data."
   ],
   "metadata": {
    "collapsed": false,
    "pycharm": {
     "name": "#%% md\n"
    }
   }
  },
  {
   "cell_type": "code",
   "execution_count": 321,
   "metadata": {},
   "outputs": [
    {
     "data": {
      "text/plain": "<AxesSubplot:xlabel='date'>"
     },
     "execution_count": 321,
     "metadata": {},
     "output_type": "execute_result"
    },
    {
     "data": {
      "text/plain": "<Figure size 432x288 with 1 Axes>",
      "image/png": "[encoded data removed]"
     },
     "metadata": {
      "needs_background": "light"
     },
     "output_type": "display_data"
    },
    {
     "data": {
      "text/plain": "<Figure size 432x288 with 1 Axes>",
      "image/png": "[encoded data removed]"
     },
     "metadata": {
      "needs_background": "light"
     },
     "output_type": "display_data"
    },
    {
     "data": {
      "text/plain": "<Figure size 432x288 with 1 Axes>",
      "image/png": "[encoded data removed]"
     },
     "metadata": {
      "needs_background": "light"
     },
     "output_type": "display_data"
    },
    {
     "data": {
      "text/plain": "<Figure size 432x288 with 1 Axes>",
      "image/png": "[encoded data removed]"
     },
     "metadata": {
      "needs_background": "light"
     },
     "output_type": "display_data"
    }
   ],
   "source": [
    "precipitation_ma_recent.plot(x=\"date\", y=\"value\")\n",
    "precipitation_frei_recent.plot(x=\"date\", y=\"value\")\n",
    "precipitation_rheinau_recent.plot(x=\"date\", y=\"value\")\n",
    "precipitation_rheinfelden_recent.plot(x=\"date\", y=\"value\")"
   ]
  },
  {
   "cell_type": "code",
   "execution_count": 347,
   "outputs": [],
   "source": [
    "assert(len(precipitation_ma_recent) == len(precipitation_frei_recent) == len(precipitation_rheinau_recent) == len(precipitation_rheinfelden_recent))"
   ],
   "metadata": {
    "collapsed": false,
    "pycharm": {
     "name": "#%%\n"
    }
   }
  },
  {
   "cell_type": "code",
   "execution_count": 348,
   "outputs": [],
   "source": [
    "assert(precipitation_ma_recent['date'].loc[0] == precipitation_frei_recent['date'].loc[0].date() == precipitation_rheinau_recent['date'].loc[0].date() == precipitation_rheinfelden_recent['date'].loc[0].date())"
   ],
   "metadata": {
    "collapsed": false,
    "pycharm": {
     "name": "#%%\n"
    }
   }
  },
  {
   "cell_type": "code",
   "execution_count": null,
   "outputs": [],
   "source": [],
   "metadata": {
    "collapsed": false,
    "pycharm": {
     "name": "#%%\n"
    }
   }
  },
  {
   "cell_type": "markdown",
   "source": [
    "Luckily, the recent data seem to be not missing any values."
   ],
   "metadata": {
    "collapsed": false,
    "pycharm": {
     "name": "#%% md\n"
    }
   }
  },
  {
   "cell_type": "code",
   "execution_count": 323,
   "metadata": {
    "scrolled": true
   },
   "outputs": [
    {
     "name": "stdout",
     "output_type": "stream",
     "text": [
      "28125 550\n"
     ]
    }
   ],
   "source": [
    "print(len(precipitation_ma_historical), len(precipitation_ma_recent))"
   ]
  },
  {
   "cell_type": "markdown",
   "source": [
    "Adjust the data to be in the right range:"
   ],
   "metadata": {
    "collapsed": false,
    "pycharm": {
     "name": "#%% md\n"
    }
   }
  },
  {
   "cell_type": "code",
   "execution_count": 324,
   "metadata": {},
   "outputs": [],
   "source": [
    "precipitation_ma_historical['date'] = pd.to_datetime(precipitation_ma_historical['date'], unit='s').dt.date\n",
    "precipitation_ma_recent['date'] = pd.to_datetime(precipitation_ma_recent['date'], unit='s').dt.date"
   ]
  },
  {
   "cell_type": "code",
   "execution_count": 326,
   "metadata": {},
   "outputs": [
    {
     "name": "stderr",
     "output_type": "stream",
     "text": [
      "/tmp/ipykernel_218998/1414486555.py:3: FutureWarning: Boolean inputs to the `inclusive` argument are deprecated infavour of `both` or `neither`.\n",
      "  precipitation_ma_historical = precipitation_ma_historical.loc[precipitation_ma_historical['date'].between(startdate, enddate, inclusive=True)]\n"
     ]
    },
    {
     "data": {
      "text/plain": "datetime.date(2013, 1, 1)"
     },
     "execution_count": 326,
     "metadata": {},
     "output_type": "execute_result"
    }
   ],
   "source": [
    "startdate = pd.to_datetime(df['date'].iloc[0]).date()\n",
    "inter_enddate = pd.to_datetime(precipitation_ma_historical['date'].iloc[-1]).date()\n",
    "precipitation_ma_historical = precipitation_ma_historical.loc[precipitation_ma_historical['date'].between(startdate, inter_enddate, inclusive=True)]\n",
    "startdate"
   ]
  },
  {
   "cell_type": "code",
   "execution_count": 327,
   "outputs": [
    {
     "data": {
      "text/plain": "datetime.date(2020, 12, 31)"
     },
     "execution_count": 327,
     "metadata": {},
     "output_type": "execute_result"
    }
   ],
   "source": [
    "inter_enddate"
   ],
   "metadata": {
    "collapsed": false,
    "pycharm": {
     "name": "#%%\n"
    }
   }
  },
  {
   "cell_type": "code",
   "execution_count": null,
   "metadata": {},
   "outputs": [],
   "source": [
    "precipitation_ma_historical"
   ]
  },
  {
   "cell_type": "code",
   "execution_count": null,
   "metadata": {},
   "outputs": [],
   "source": [
    "inter_startdate = pd.to_datetime(\"2021-1-1\").date()\n",
    "enddate = pd.to_datetime(df['date'].iloc[-1]).date()\n",
    "precipitation_ma_recent = precipitation_ma_recent.loc[precipitation_ma_recent['date'].between(inter_startdate, enddate, inclusive=True)]"
   ]
  },
  {
   "cell_type": "code",
   "execution_count": null,
   "metadata": {},
   "outputs": [],
   "source": [
    "precipitation_ma_historical[precipitation_ma_historical.isna().any(axis=1)]\n"
   ]
  },
  {
   "cell_type": "code",
   "execution_count": null,
   "metadata": {},
   "outputs": [],
   "source": [
    "precipitation_ma_recent[precipitation_ma_recent.isna().any(axis=1)]\n"
   ]
  },
  {
   "cell_type": "markdown",
   "source": [
    "Unfortunately, the the historical data of the DWD has two NaN values in it. In the following, I will simply interpolate these missing values using ffill. This will propagate the last observed value to it. This may not be the optimal solution for dealing with these two specific missing values, but in the grand scheme of things, when using an LSTM, this should not be an issue."
   ],
   "metadata": {
    "collapsed": false,
    "pycharm": {
     "name": "#%% md\n"
    }
   }
  },
  {
   "cell_type": "code",
   "execution_count": null,
   "metadata": {},
   "outputs": [],
   "source": [
    "precipitation_ma_historical = precipitation_ma_historical.fillna(method='ffill')"
   ]
  },
  {
   "cell_type": "code",
   "execution_count": null,
   "metadata": {},
   "outputs": [],
   "source": [
    "precipitation_total = precipitation_ma_historical.append(precipitation_ma_recent).reset_index(drop=True)"
   ]
  },
  {
   "cell_type": "code",
   "execution_count": null,
   "metadata": {},
   "outputs": [],
   "source": [
    "precipitation_total = precipitation_total.rename({'value':'precipitation_height'}, axis=1)\n",
    "precipitation_total = precipitation_total.drop(['parameter', 'dataset', 'station_id', 'quality'], axis=1)"
   ]
  },
  {
   "cell_type": "code",
   "execution_count": null,
   "metadata": {},
   "outputs": [],
   "source": [
    "print(f'Length of data: {len(df)}, length of DWD data: {len(precipitation_total)}')\n",
    "assert(len(precipitation_total) == len(df))"
   ]
  },
  {
   "cell_type": "code",
   "execution_count": null,
   "metadata": {},
   "outputs": [],
   "source": [
    "df = df.drop('date', axis = 1)"
   ]
  },
  {
   "cell_type": "code",
   "execution_count": null,
   "metadata": {},
   "outputs": [],
   "source": [
    "precipitation_total = precipitation_total.drop('date', axis = 1)"
   ]
  },
  {
   "cell_type": "code",
   "execution_count": null,
   "metadata": {},
   "outputs": [],
   "source": [
    "df['precipitation_height'] = precipitation_total['precipitation_height']"
   ]
  },
  {
   "cell_type": "markdown",
   "source": [
    "## Correlation between precipitation and water level"
   ],
   "metadata": {
    "collapsed": false,
    "pycharm": {
     "name": "#%% md\n"
    }
   }
  },
  {
   "cell_type": "code",
   "execution_count": null,
   "metadata": {},
   "outputs": [],
   "source": [
    "df['precipitation_height'].corr(df['level'], method='pearson')"
   ]
  },
  {
   "cell_type": "code",
   "execution_count": null,
   "outputs": [],
   "source": [
    "df['precipitation_height'].corr(df['level'], method='spearman')"
   ],
   "metadata": {
    "collapsed": false,
    "pycharm": {
     "name": "#%%\n"
    }
   }
  },
  {
   "cell_type": "code",
   "execution_count": null,
   "outputs": [],
   "source": [
    "df['precipitation_height'].corr(df['level'], method='kendall')"
   ],
   "metadata": {
    "collapsed": false,
    "pycharm": {
     "name": "#%%\n"
    }
   }
  },
  {
   "cell_type": "markdown",
   "source": [
    "When looking at every different correlation method, it would seem like precipitation is not correlated to the water level. An interesting thing is that spearman correlation > pearson correlation, which means that the correlation is rather monotonic than linear. Interestingly enough, it still seems that the correlation is pretty low between these two variables even though intuitively, precipitation should have a large effect on the water level. Maybe the precipitation takes longer to have an effect on the water level."
   ],
   "metadata": {
    "collapsed": false,
    "pycharm": {
     "name": "#%% md\n"
    }
   }
  },
  {
   "cell_type": "markdown",
   "metadata": {},
   "source": [
    "Split the data in train-validation-test split: 70:20:10 ratio. In order to get a more accurate overall presentation of the data, i.e. to guarantee that the data is i.i.d, one could randomly shuffle the data. This generally leads to lower variance and less overfitting when training a neural network. I did not decide to do this however, since this would badly influence the performance of the model because the data points are time dependent on each other.\n",
    "\n",
    "Not shuffling the data leads to another problem: The distributions of the training/validation/test-dataset may be different. This can mean, that the model is fitting nicely on the training data, but is having trouble generalizing its \"findings\" onto the test dataset, since the test dataset is from another distribution. This could lead to underfitting. (I also tested this briefly and like I stated, the model then underfitted)"
   ]
  },
  {
   "cell_type": "code",
   "execution_count": null,
   "outputs": [],
   "source": [
    "column_indices = {name: i for i, name in enumerate(df.columns)}\n",
    "train_df = df[0:int(len(df)*0.7)]\n",
    "val_df = df[int(len(df)*0.7):int(len(df)*0.9)]\n",
    "test_df = df[int(len(df)*0.9):]\n",
    "\n",
    "num_features = df.shape[1]"
   ],
   "metadata": {
    "collapsed": false,
    "pycharm": {
     "name": "#%%\n"
    }
   }
  },
  {
   "cell_type": "code",
   "execution_count": null,
   "metadata": {},
   "outputs": [],
   "source": [
    "train_df.describe()"
   ]
  },
  {
   "cell_type": "code",
   "execution_count": null,
   "metadata": {
    "scrolled": true
   },
   "outputs": [],
   "source": [
    "test_df.describe()"
   ]
  },
  {
   "cell_type": "code",
   "execution_count": null,
   "metadata": {},
   "outputs": [],
   "source": [
    "print(f'Train mean: {train_df[\"level\"].mean()}, Train std: {train_df[\"level\"].std()}')"
   ]
  },
  {
   "cell_type": "code",
   "execution_count": null,
   "metadata": {},
   "outputs": [],
   "source": [
    "print(f'Validation mean: {val_df[\"level\"].mean()}, {val_df[\"level\"].std()}')"
   ]
  },
  {
   "cell_type": "code",
   "execution_count": null,
   "metadata": {
    "scrolled": true
   },
   "outputs": [],
   "source": [
    "print(f'Test mean: {test_df[\"level\"].mean()}, {test_df[\"level\"].std()}')"
   ]
  },
  {
   "cell_type": "markdown",
   "metadata": {},
   "source": [
    "As could be seen in the notebook 'analysis', there is a trend in the data. While there exists an overall downward trend in the water levels of the rhine, as can be seen via linear regression, the overall mean level in the last 10% of the time series actually rose significantly. This is also due to the higher standard deviation, i.e. the water levels have higher highs and lower lows."
   ]
  },
  {
   "cell_type": "markdown",
   "metadata": {},
   "source": [
    "Test, if split was successful."
   ]
  },
  {
   "cell_type": "code",
   "execution_count": null,
   "metadata": {},
   "outputs": [],
   "source": [
    "assert(len(train_df) + len(val_df) + len(test_df) == len(df))"
   ]
  },
  {
   "cell_type": "markdown",
   "metadata": {},
   "source": [
    "Maybe use moving averages instead of average in the next cell since the model shouldn't have access to future values in the training set when training?!"
   ]
  },
  {
   "cell_type": "code",
   "execution_count": null,
   "metadata": {},
   "outputs": [],
   "source": [
    "pre_transformation = train_df"
   ]
  },
  {
   "cell_type": "markdown",
   "metadata": {},
   "source": [
    "Since there are many outliers, we use the RobustScaler instead of the StandardScaler."
   ]
  },
  {
   "cell_type": "code",
   "execution_count": null,
   "metadata": {},
   "outputs": [],
   "source": [
    "scaler = RobustScaler().fit(train_df.values)\n",
    "train_scaled = scaler.transform(train_df)\n",
    "val_scaled = scaler.transform(val_df)\n",
    "test_scaled = scaler.transform(test_df)"
   ]
  },
  {
   "cell_type": "code",
   "execution_count": null,
   "metadata": {},
   "outputs": [],
   "source": [
    "train_df = pd.DataFrame(train_scaled, index=train_df.index, columns=train_df.columns)\n",
    "val_df = pd.DataFrame(val_scaled, index=val_df.index, columns=val_df.columns)\n",
    "test_df = pd.DataFrame(test_scaled, index=test_df.index, columns=test_df.columns)"
   ]
  },
  {
   "cell_type": "code",
   "execution_count": null,
   "metadata": {},
   "outputs": [],
   "source": [
    "pre_transformation.plot()\n",
    "train_df.plot()"
   ]
  },
  {
   "cell_type": "code",
   "execution_count": null,
   "metadata": {},
   "outputs": [],
   "source": [
    "print(f' The data pre transformation is in range [{pre_transformation[\"level\"].min()},  {pre_transformation[\"level\"].max()}]\\n'\n",
    "      f' the data after transformation is in range: [{round(test_df[\"level\"].min(),2)}, {round(test_df[\"level\"].max(), 2)}]')\n",
    "      "
   ]
  },
  {
   "cell_type": "code",
   "execution_count": null,
   "metadata": {},
   "outputs": [],
   "source": [
    "class WindowGenerator():\n",
    "    def __init__(self, input_width, label_width, shift,\n",
    "                   train_df=train_df, val_df=val_df, test_df=test_df,\n",
    "                   label_columns=None):\n",
    "        # Store the raw data.\n",
    "        self.train_df = train_df\n",
    "        self.val_df = val_df\n",
    "        self.test_df = test_df\n",
    "\n",
    "        # Work out the label column indices.\n",
    "        self.label_columns = label_columns\n",
    "        if label_columns is not None:\n",
    "            self.label_columns_indices = {name: i for i, name in\n",
    "                                        enumerate(label_columns)}\n",
    "        self.column_indices = {name: i for i, name in\n",
    "                               enumerate(train_df.columns)}\n",
    "\n",
    "        # Work out the window parameters.\n",
    "        self.input_width = input_width\n",
    "        self.label_width = label_width\n",
    "        self.shift = shift\n",
    "\n",
    "        self.total_window_size = input_width + shift\n",
    "\n",
    "        self.input_slice = slice(0, input_width)\n",
    "        self.input_indices = np.arange(self.total_window_size)[self.input_slice]\n",
    "\n",
    "        self.label_start = self.total_window_size - self.label_width\n",
    "        self.labels_slice = slice(self.label_start, None)\n",
    "        self.label_indices = np.arange(self.total_window_size)[self.labels_slice]\n",
    "        \n",
    "    \n",
    "    def __repr__(self):\n",
    "        return '\\n'.join([\n",
    "            f'Total window size: {self.total_window_size}',\n",
    "            f'Input indices: {self.input_indices}',\n",
    "            f'Label indices: {self.label_indices}',\n",
    "            f'Label column name(s): {self.label_columns}'])"
   ]
  },
  {
   "cell_type": "code",
   "execution_count": null,
   "metadata": {},
   "outputs": [],
   "source": [
    "def split_window(self, features):\n",
    "    inputs = features[:, self.input_slice, :]\n",
    "    labels = features[:, self.labels_slice, :]\n",
    "    if self.label_columns is not None:\n",
    "        labels = tf.stack(\n",
    "            [labels[:, :, self.column_indices[name]] for name in self.label_columns],\n",
    "            axis=-1)\n",
    "\n",
    "    # Slicing doesn't preserve static shape information, so set the shapes\n",
    "    # manually. This way the `tf.data.Datasets` are easier to inspect.\n",
    "    inputs.set_shape([None, self.input_width, None])\n",
    "    labels.set_shape([None, self.label_width, None])\n",
    "\n",
    "    return inputs, labels\n",
    "\n",
    "WindowGenerator.split_window = split_window"
   ]
  },
  {
   "cell_type": "code",
   "execution_count": null,
   "metadata": {},
   "outputs": [],
   "source": [
    "def plot(self, model=None, plot_col='level', max_subplots=3):\n",
    "    inputs, labels = self.example\n",
    "    plt.figure(figsize=(12, 8))\n",
    "    plot_col_index = self.column_indices[plot_col]\n",
    "    max_n = min(max_subplots, len(inputs))\n",
    "    for n in range(max_n):\n",
    "        plt.subplot(max_n, 1, n+1)\n",
    "        plt.ylabel(f'{plot_col} [normed]')\n",
    "        plt.plot(self.input_indices, inputs[n, :, plot_col_index], label='Inputs', marker='.', zorder=-10)\n",
    "\n",
    "        if self.label_columns:\n",
    "            label_col_index = self.label_columns_indices.get(plot_col, None)\n",
    "        else:\n",
    "            label_col_index = plot_col_index\n",
    "\n",
    "        if label_col_index is None:\n",
    "            continue\n",
    "    \n",
    "        plt.scatter(self.label_indices, labels[n, :, label_col_index],\n",
    "                    edgecolors='k', label='Labels', c='#2ca02c', s=64)\n",
    "        if model is not None:\n",
    "            predictions = model(inputs)\n",
    "            plt.scatter(self.label_indices, predictions[n, :, label_col_index],\n",
    "                      marker='X', edgecolors='k', label='Predictions',\n",
    "                      c='#ff7f0e', s=64)\n",
    "\n",
    "        if n == 0:\n",
    "            plt.legend()\n",
    "\n",
    "    plt.xlabel('Day')\n",
    "\n",
    "WindowGenerator.plot = plot\n"
   ]
  },
  {
   "cell_type": "code",
   "execution_count": null,
   "metadata": {},
   "outputs": [],
   "source": [
    "@property\n",
    "def train(self):\n",
    "    return self.make_dataset(self.train_df)\n",
    "\n",
    "@property\n",
    "def val(self):\n",
    "    return self.make_dataset(self.val_df)\n",
    "\n",
    "@property\n",
    "def test(self):\n",
    "    return self.make_dataset(self.test_df)\n",
    "\n",
    "@property\n",
    "def example(self):\n",
    "    \"\"\"Get and cache an example batch of `inputs, labels` for plotting.\"\"\"\n",
    "    result = getattr(self, '_example', None)\n",
    "    if result is None:\n",
    "        # No example batch was found, so get one from the `.train` dataset\n",
    "        result = next(iter(self.train))\n",
    "        # And cache it for next time\n",
    "        self._example = result\n",
    "    return result\n",
    "\n",
    "WindowGenerator.train = train\n",
    "WindowGenerator.val = val\n",
    "WindowGenerator.test = test\n",
    "WindowGenerator.example = example"
   ]
  },
  {
   "cell_type": "code",
   "execution_count": null,
   "metadata": {},
   "outputs": [],
   "source": [
    "def make_dataset(self, data):\n",
    "    data = np.array(data, dtype=np.float32)\n",
    "    ds = tf.keras.preprocessing.timeseries_dataset_from_array(\n",
    "      data=data,\n",
    "      targets=None,\n",
    "      sequence_length=self.total_window_size,\n",
    "      sequence_stride=1,\n",
    "      shuffle=True,\n",
    "      batch_size=32,)\n",
    "\n",
    "    ds = ds.map(self.split_window)\n",
    "\n",
    "    return ds\n",
    "\n",
    "WindowGenerator.make_dataset = make_dataset"
   ]
  },
  {
   "cell_type": "code",
   "execution_count": null,
   "metadata": {},
   "outputs": [],
   "source": [
    "single_step_window = WindowGenerator(\n",
    "    input_width=30, label_width=30, shift=7,\n",
    "    label_columns=['level'])\n",
    "single_step_window\n",
    "\n",
    "single_step_window\n"
   ]
  },
  {
   "cell_type": "code",
   "execution_count": null,
   "metadata": {
    "scrolled": true
   },
   "outputs": [],
   "source": [
    "for example_inputs, example_labels in single_step_window.train.take(1):\n",
    "    print(f'Inputs shape (batch, time, features): {example_inputs.shape}')\n",
    "    print(f'Labels shape (batch, time, features): {example_labels.shape}')\n",
    "    "
   ]
  },
  {
   "cell_type": "code",
   "execution_count": null,
   "metadata": {},
   "outputs": [],
   "source": [
    "class Baseline(tf.keras.Model):\n",
    "    def __init__(self, label_index=None):\n",
    "        super().__init__()\n",
    "        self.label_index = label_index\n",
    "\n",
    "    def call(self, inputs):\n",
    "        if self.label_index is None:\n",
    "            return inputs\n",
    "        result = inputs[:, :, self.label_index]\n",
    "        return result[:, :, tf.newaxis]\n"
   ]
  },
  {
   "cell_type": "code",
   "execution_count": null,
   "metadata": {
    "scrolled": true
   },
   "outputs": [],
   "source": [
    "baseline = Baseline(label_index=column_indices['level'])\n",
    "\n",
    "baseline.compile(loss=tf.losses.MeanSquaredError(),\n",
    "                 metrics=[tf.metrics.MeanAbsoluteError()])\n",
    "\n",
    "train_performance = {}\n",
    "val_performance = {}\n",
    "performance = {}\n",
    "train_performance['Baseline'] = baseline.evaluate(single_step_window.train)\n",
    "val_performance['Baseline'] = baseline.evaluate(single_step_window.val)\n",
    "performance['Baseline'] = baseline.evaluate(single_step_window.test, verbose=0)\n"
   ]
  },
  {
   "cell_type": "code",
   "execution_count": null,
   "metadata": {
    "scrolled": true
   },
   "outputs": [],
   "source": [
    "single_step_window.plot(baseline)\n"
   ]
  },
  {
   "cell_type": "code",
   "execution_count": null,
   "metadata": {},
   "outputs": [],
   "source": [
    "MAX_EPOCHS = 200\n",
    "\n",
    "def compile_and_fit(model, window, patience=2):\n",
    "    early_stopping = tf.keras.callbacks.EarlyStopping(monitor='val_loss',\n",
    "                                                    patience=patience,\n",
    "                                                    mode='min')\n",
    "\n",
    "    model.compile(loss=tf.keras.losses.Huber(),\n",
    "                optimizer=tf.optimizers.Adam(),\n",
    "                metrics=[tf.metrics.MeanAbsoluteError()])\n",
    "\n",
    "    history = model.fit(window.train, epochs=MAX_EPOCHS,\n",
    "                      validation_data=window.val,\n",
    "                      callbacks=[early_stopping])\n",
    "    return history"
   ]
  },
  {
   "cell_type": "markdown",
   "metadata": {},
   "source": [
    "Using Huber Loss for more robustness against outliers (vs for example mean squared error)"
   ]
  },
  {
   "cell_type": "code",
   "execution_count": null,
   "metadata": {},
   "outputs": [],
   "source": [
    "lstm_model = tf.keras.models.Sequential([\n",
    "    # Shape [batch, time, features] => [batch, time, lstm_units]\n",
    "    tf.keras.layers.LSTM(6, return_sequences=True),\n",
    "    tf.keras.layers.LSTM(4, return_sequences=True),\n",
    "    tf.keras.layers.Dense(units=1)\n",
    "])\n"
   ]
  },
  {
   "cell_type": "code",
   "execution_count": null,
   "metadata": {},
   "outputs": [],
   "source": [
    "history = compile_and_fit(lstm_model, single_step_window)\n",
    "IPython.display.clear_output()\n",
    "train_performance['LSTM'] = lstm_model.evaluate(single_step_window.train)\n",
    "val_performance['LSTM'] = lstm_model.evaluate(single_step_window.val)\n",
    "performance['LSTM'] = lstm_model.evaluate(single_step_window.test, verbose=0)\n",
    "\n"
   ]
  },
  {
   "cell_type": "code",
   "execution_count": null,
   "metadata": {
    "scrolled": false
   },
   "outputs": [],
   "source": [
    "lstm_model.summary()"
   ]
  },
  {
   "cell_type": "code",
   "execution_count": null,
   "metadata": {},
   "outputs": [],
   "source": [
    "plt.plot(history.history['val_mean_absolute_error'])\n",
    "plt.plot(history.history['mean_absolute_error'])"
   ]
  },
  {
   "cell_type": "code",
   "execution_count": null,
   "metadata": {},
   "outputs": [],
   "source": [
    "plt.plot(history.history['loss'])\n",
    "plt.plot(history.history['val_loss'])"
   ]
  },
  {
   "cell_type": "code",
   "execution_count": null,
   "metadata": {
    "scrolled": true
   },
   "outputs": [],
   "source": [
    "single_step_window.plot(lstm_model)"
   ]
  },
  {
   "cell_type": "markdown",
   "metadata": {},
   "source": [
    "StandardScaler:\n",
    "Baseline test: 0.1192\n",
    "LSTM test: 0.0842\n",
    "\n",
    "RobustScaler:\n",
    "Baseline test    : 0.1040\n",
    "LSTM test     : 0.0708\n",
    "\n",
    "PowerTransformer:\n",
    "Baseline test: 0.1016\n",
    "LSTM test: 0.0721\n",
    "\n",
    "When deleting the data with zscore < 3 and RobustScaler:\n",
    "Baseline test   : 0.0960\n",
    "LSTM test        : 0.0675\n"
   ]
  },
  {
   "cell_type": "markdown",
   "metadata": {},
   "source": [
    "Test Mean absolute Error Baseline    : 0.4157\n",
    "Test Mean absolute Error LSTM        : 0.4026"
   ]
  },
  {
   "cell_type": "markdown",
   "metadata": {},
   "source": [
    "with 30 index, 30 label, 7 shift:\n",
    "\n",
    "\n",
    "Feed forward network: 16, 4 layers: \n",
    "\n",
    "Test Mean absolute Error Baseline    : 0.4157\n",
    "Test Mean absolute Error LSTM        : 0.3795\n",
    "\n",
    "\n",
    "\n",
    "LSTM: 6,4 layers:\n",
    "\n",
    "Test Mean absolute Error Baseline    : 0.4157\n",
    "Test Mean absolute Error LSTM        : 0.3875"
   ]
  },
  {
   "cell_type": "code",
   "execution_count": null,
   "metadata": {},
   "outputs": [],
   "source": [
    "plt.ylabel('mean_absolute_error (water level, standardized)')\n",
    "x = np.arange(3)\n",
    "LSTM_performance = [train_performance['LSTM'][1], val_performance['LSTM'][1], performance['LSTM'][1]]\n",
    "barlist = plt.bar(x, LSTM_performance)\n",
    "plt.xticks(ticks=x, labels=['train error', 'val error', 'test error'],\n",
    "           rotation=45)\n",
    "plt.title('LSTM Error')\n",
    "barlist[0].set_color('orange')\n",
    "barlist[1].set_color('g')"
   ]
  },
  {
   "cell_type": "markdown",
   "metadata": {},
   "source": [
    "plt.scatter(self.label_indices, labels[n, :, label_col_index],\n",
    "                    edgecolors='k', label='Labels', c='#2ca02c', s=64)\n",
    "predictions = model(inputs)\n",
    "plt.scatter(self.label_indices, predictions[n, :, label_col_index], marker='X', edgecolors='k', label='Predictions', c='#ff7f0e', s=64)"
   ]
  },
  {
   "cell_type": "code",
   "execution_count": null,
   "metadata": {},
   "outputs": [],
   "source": [
    "ffn_model = tf.keras.models.Sequential([\n",
    "    # Shape [batch, time, features] => [batch, time, lstm_units]\n",
    "    tf.keras.layers.Dense(6),\n",
    "    tf.keras.layers.Dense(4),\n",
    "    tf.keras.layers.Dense(units=1)\n",
    "])\n"
   ]
  },
  {
   "cell_type": "code",
   "execution_count": null,
   "metadata": {},
   "outputs": [],
   "source": [
    "history = compile_and_fit(ffn_model, single_step_window)\n",
    "IPython.display.clear_output()\n",
    "train_performance['Dense'] = ffn_model.evaluate(single_step_window.train)\n",
    "val_performance['Dense'] = ffn_model.evaluate(single_step_window.val)\n",
    "performance['Dense'] = ffn_model.evaluate(single_step_window.test, verbose=0)\n",
    "\n"
   ]
  },
  {
   "cell_type": "code",
   "execution_count": null,
   "metadata": {
    "scrolled": true
   },
   "outputs": [],
   "source": [
    "ffn_model.summary()"
   ]
  },
  {
   "cell_type": "code",
   "execution_count": null,
   "metadata": {},
   "outputs": [],
   "source": [
    "print(history.history.keys())"
   ]
  },
  {
   "cell_type": "code",
   "execution_count": null,
   "metadata": {},
   "outputs": [],
   "source": [
    "plt.plot(history.history['val_mean_absolute_error'])\n",
    "plt.plot(history.history['mean_absolute_error'])"
   ]
  },
  {
   "cell_type": "code",
   "execution_count": null,
   "metadata": {
    "scrolled": true
   },
   "outputs": [],
   "source": [
    "single_step_window.plot(ffn_model)"
   ]
  },
  {
   "cell_type": "code",
   "execution_count": null,
   "metadata": {
    "scrolled": false
   },
   "outputs": [],
   "source": [
    "for name, value in performance.items():\n",
    "    print(f'Test Mean absolute Error {name}: {value[1]:0.4f}')\n"
   ]
  },
  {
   "cell_type": "code",
   "execution_count": null,
   "outputs": [],
   "source": [
    "print(f\"LSTM: Train: {train_performance['LSTM'][1]:.2f}, Validation: {val_performance['LSTM'][1]:.2f}, Test: {performance['LSTM'][1]:.2f}\")\n",
    "print(f\"Baseline: Train: {train_performance['Baseline'][1]:.2f}, Validation: {val_performance['Baseline'][1]:.2f}, Test: {performance['Baseline'][1]:.2f}\")\n",
    "print(f\"Dense: Train: {train_performance['Dense'][1]:.2f}, Validation: {val_performance['Dense'][1]:.2f}, Test: {performance['Dense'][1]:.2f}\")\n"
   ],
   "metadata": {
    "collapsed": false,
    "pycharm": {
     "name": "#%%\n"
    }
   }
  },
  {
   "cell_type": "markdown",
   "metadata": {},
   "source": [
    "StandardScaler:\n",
    "Baseline test: 0.1192\n",
    "LSTM test: 0.0842\n",
    "\n",
    "RobustScaler:\n",
    "Baseline test    : 0.1040\n",
    "LSTM test     : 0.0708\n",
    "\n",
    "PowerTransformer:\n",
    "Baseline test: 0.1016\n",
    "LSTM test: 0.0721\n",
    "\n",
    "When deleting the data with zscore < 3 and RobustScaler:\n",
    "Baseline test   : 0.0960\n",
    "LSTM test        : 0.0675\n"
   ]
  },
  {
   "cell_type": "markdown",
   "metadata": {},
   "source": [
    "Test Mean absolute Error Baseline    : 0.4157\n",
    "Test Mean absolute Error LSTM        : 0.4026"
   ]
  },
  {
   "cell_type": "markdown",
   "metadata": {},
   "source": [
    "with 30 index, 30 label, 7 shift:\n",
    "\n",
    "\n",
    "Feed forward network: 16, 4 layers: \n",
    "\n",
    "Test Mean absolute Error Baseline    : 0.4157\n",
    "Test Mean absolute Error LSTM        : 0.3795\n",
    "\n",
    "\n",
    "\n",
    "LSTM: 6,4 layers:\n",
    "\n",
    "Test Mean absolute Error Baseline    : 0.4157\n",
    "Test Mean absolute Error LSTM        : 0.3875"
   ]
  },
  {
   "cell_type": "code",
   "execution_count": null,
   "metadata": {
    "scrolled": false
   },
   "outputs": [],
   "source": [
    "x = np.arange(len(performance))\n",
    "width = 0.3\n",
    "metric_name = 'mean_absolute_error'\n",
    "metric_index = lstm_model.metrics_names.index('mean_absolute_error')\n",
    "val_mae = [v[metric_index] for v in val_performance.values()]\n",
    "test_mae = [v[metric_index] for v in performance.values()]\n",
    "\n",
    "plt.ylabel('mean_absolute_error (normalized)]')\n",
    "plt.bar(x - 0.17, val_mae, width, label='Validation')\n",
    "plt.bar(x + 0.17, test_mae, width, label='Test')\n",
    "plt.xticks(ticks=x, labels=performance.keys(),\n",
    "           rotation=45)\n",
    "_ = plt.legend()\n"
   ]
  },
  {
   "cell_type": "code",
   "execution_count": null,
   "metadata": {},
   "outputs": [],
   "source": [
    "plt.ylabel('mean_absolute_error [T (degC), normalized]')\n",
    "x = np.arange(3)\n",
    "dense_performance = [train_performance['Dense'][1], val_performance['Dense'][1], performance['Dense'][1]]\n",
    "barlist = plt.bar(x, dense_performance)\n",
    "plt.xticks(ticks=x, labels=['train error', 'val error', 'test error'],\n",
    "           rotation=45)\n",
    "barlist[0].set_color('orange')\n",
    "barlist[1].set_color('g')"
   ]
  },
  {
   "cell_type": "code",
   "execution_count": null,
   "metadata": {},
   "outputs": [],
   "source": []
  },
  {
   "cell_type": "code",
   "execution_count": null,
   "metadata": {},
   "outputs": [],
   "source": []
  }
 ],
 "metadata": {
  "kernelspec": {
   "display_name": "Python forecasting",
   "language": "python",
   "name": "forecasting"
  },
  "language_info": {
   "codemirror_mode": {
    "name": "ipython",
    "version": 3
   },
   "file_extension": ".py",
   "mimetype": "text/x-python",
   "name": "python",
   "nbconvert_exporter": "python",
   "pygments_lexer": "ipython3",
   "version": "3.9.7"
  }
 },
 "nbformat": 4,
 "nbformat_minor": 4
}
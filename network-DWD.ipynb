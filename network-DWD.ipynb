{
 "cells": [
  {
   "cell_type": "markdown",
   "metadata": {},
   "source": [
    "# Forecasting Water Levels using LSTMs"
   ]
  },
  {
   "cell_type": "code",
   "execution_count": 32,
   "metadata": {},
   "outputs": [],
   "source": [
    "import IPython.display\n",
    "from operator import itemgetter\n",
    "import matplotlib.pyplot as plt\n",
    "import numpy as np\n",
    "import pandas as pd\n",
    "import tensorflow as tf\n",
    "from sklearn.preprocessing import RobustScaler\n",
    "from datetime import timedelta\n",
    "from wetterdienst import Wetterdienst, Period, Resolution\n",
    "from wetterdienst.provider.dwd.observation import DwdObservationRequest, \\\n",
    "    DwdObservationPeriod, DwdObservationResolution, DwdObservationParameter, DwdObservationDataset\n",
    "from pmdarima.arima import auto_arima, ADFTest\n",
    "from statsmodels.tsa.statespace.sarimax import SARIMAX"
   ]
  },
  {
   "cell_type": "code",
   "execution_count": 33,
   "outputs": [],
   "source": [
    "path = 'results/'  # Path for saving the figures later on"
   ],
   "metadata": {
    "collapsed": false,
    "pycharm": {
     "name": "#%%\n"
    }
   }
  },
  {
   "cell_type": "markdown",
   "source": [
    "## Ensuring that no data is missing (for analysis see, analysis.ipynb"
   ],
   "metadata": {
    "collapsed": false,
    "pycharm": {
     "name": "#%% md\n"
    }
   }
  },
  {
   "cell_type": "markdown",
   "source": [
    "First, look again at any missing or duplicate values in the dataset."
   ],
   "metadata": {
    "collapsed": false,
    "pycharm": {
     "name": "#%% md\n"
    }
   }
  },
  {
   "cell_type": "code",
   "execution_count": 34,
   "metadata": {},
   "outputs": [
    {
     "name": "stdout",
     "output_type": "stream",
     "text": [
      " Show duplicate values, if any: []\n"
     ]
    }
   ],
   "source": [
    "df = pd.read_csv('data/Kaub_Level_Since_2013_updated_v2.csv')\n",
    "df_original = df\n",
    "x = df[df.duplicated(['date'])].index\n",
    "print(f' Show duplicate values, if any: {x.values}')"
   ]
  },
  {
   "cell_type": "code",
   "execution_count": 35,
   "outputs": [
    {
     "name": "stdout",
     "output_type": "stream",
     "text": [
      "These are the missing dates on the updated data, if any: \n",
      " []\n",
      "There are a total of 0 dates missing.\n"
     ]
    }
   ],
   "source": [
    "df_index = df.set_index(df['date'])\n",
    "df_index.index = pd.to_datetime(df_index.index)\n",
    "dates_original = pd.date_range(start=df['date'].iloc[0], end=df['date'].iloc[-1]).difference(df_index.index)\n",
    "print('These are the missing dates on the updated data, if any: \\n', dates_original.values)\n",
    "print(f'There are a total of {len(dates_original)} dates missing.')"
   ],
   "metadata": {
    "collapsed": false,
    "pycharm": {
     "name": "#%%\n"
    }
   }
  },
  {
   "cell_type": "markdown",
   "source": [
    "## Add precipitation data from DWD (Deutscher Wetterdienst) using the wetterdienst API"
   ],
   "metadata": {
    "collapsed": false,
    "pycharm": {
     "name": "#%% md\n"
    }
   }
  },
  {
   "cell_type": "markdown",
   "source": [
    "Implement a function in order to get the station ID given a name of a city. This is needed for the later API calls on the DWD data."
   ],
   "metadata": {
    "collapsed": false,
    "pycharm": {
     "name": "#%% md\n"
    }
   }
  },
  {
   "cell_type": "code",
   "execution_count": 36,
   "outputs": [],
   "source": [
    "def get_station_id(city):\n",
    "    request = DwdObservationRequest(\n",
    "        parameter=DwdObservationDataset.PRECIPITATION_MORE,\n",
    "        resolution=DwdObservationResolution.DAILY,\n",
    "        period=DwdObservationPeriod.HISTORICAL\n",
    "    )\n",
    "    df = request.all().df\n",
    "    station_string = df[df['name'] == city].station_id\n",
    "    return int(station_string.iloc[0][1:])"
   ],
   "metadata": {
    "collapsed": false,
    "pycharm": {
     "name": "#%%\n"
    }
   }
  },
  {
   "cell_type": "markdown",
   "source": [
    "We looked at different available stations along the rhine to use as a additional data. Note: There is no Ludwigshafen in the DWD weather API, so we use Mannheim instead."
   ],
   "metadata": {
    "collapsed": false,
    "pycharm": {
     "name": "#%% md\n"
    }
   }
  },
  {
   "cell_type": "code",
   "execution_count": 37,
   "outputs": [],
   "source": [
    "ma_id = get_station_id('Mannheim')\n",
    "frei_id = get_station_id('Freiburg')\n",
    "rheinau_id = get_station_id('Rheinau-Memprechtshofen')\n",
    "rheinfelden_id = get_station_id('Rheinfelden')\n",
    "rheinstetten_id = get_station_id('Rheinstetten')"
   ],
   "metadata": {
    "collapsed": false,
    "pycharm": {
     "name": "#%%\n"
    }
   }
  },
  {
   "cell_type": "markdown",
   "source": [
    "The next two functions return precipitation data of the DWD given a specified station."
   ],
   "metadata": {
    "collapsed": false,
    "pycharm": {
     "name": "#%% md\n"
    }
   }
  },
  {
   "cell_type": "code",
   "execution_count": 38,
   "outputs": [],
   "source": [
    "def get_historical_data(station_id):\n",
    "    request = DwdObservationRequest(\n",
    "        parameter=[\n",
    "            DwdObservationParameter.DAILY.PRECIPITATION_HEIGHT\n",
    "        ],\n",
    "        resolution=DwdObservationResolution.DAILY,\n",
    "        period=DwdObservationPeriod.HISTORICAL\n",
    "    ).filter_by_station_id(station_id=(station_id, ))\n",
    "\n",
    "    return request.values.all().df\n",
    "\n",
    "def get_recent_data(station_id):\n",
    "    request = DwdObservationRequest(\n",
    "        parameter=[\n",
    "            DwdObservationParameter.DAILY.PRECIPITATION_HEIGHT\n",
    "        ],\n",
    "        resolution=DwdObservationResolution.DAILY,\n",
    "        period=DwdObservationPeriod.RECENT\n",
    "    ).filter_by_station_id(station_id=(station_id, ))\n",
    "\n",
    "    return request.values.all().df"
   ],
   "metadata": {
    "collapsed": false,
    "pycharm": {
     "name": "#%%\n"
    }
   }
  },
  {
   "cell_type": "code",
   "execution_count": 39,
   "outputs": [],
   "source": [
    "precipitation_frei_historical = get_historical_data(frei_id)\n",
    "precipitation_frei_recent = get_recent_data(frei_id)\n",
    "\n",
    "precipitation_ma_historical = get_historical_data(ma_id)\n",
    "precipitation_ma_recent= get_recent_data(ma_id)\n",
    "\n",
    "precipitation_rheinau_historical = get_historical_data(rheinau_id)\n",
    "precipitation_rheinau_recent = get_recent_data(rheinau_id)\n",
    "\n",
    "precipitation_rheinfelden_historical = get_historical_data(rheinfelden_id)\n",
    "precipitation_rheinfelden_recent = get_recent_data(rheinfelden_id)\n",
    "\n",
    "precipitation_rheinstetten_historical = get_historical_data(rheinstetten_id)\n",
    "precipitation_rheinstetten_recent = get_recent_data(rheinstetten_id)"
   ],
   "metadata": {
    "collapsed": false,
    "pycharm": {
     "name": "#%%\n"
    }
   }
  },
  {
   "cell_type": "code",
   "execution_count": 40,
   "outputs": [
    {
     "data": {
      "text/plain": "    station_id          dataset             parameter  \\\n0        01443  climate_summary  precipitation_height   \n1        01443  climate_summary  precipitation_height   \n2        01443  climate_summary  precipitation_height   \n3        01443  climate_summary  precipitation_height   \n4        01443  climate_summary  precipitation_height   \n..         ...              ...                   ...   \n360      01443  climate_summary  precipitation_height   \n361      01443  climate_summary  precipitation_height   \n362      01443  climate_summary  precipitation_height   \n363      01443  climate_summary  precipitation_height   \n364      01443  climate_summary  precipitation_height   \n\n                         date  value  quality  \n0   1874-01-01 00:00:00+00:00    0.0      1.0  \n1   1874-01-02 00:00:00+00:00    4.2      1.0  \n2   1874-01-03 00:00:00+00:00    2.2      1.0  \n3   1874-01-04 00:00:00+00:00    1.1      1.0  \n4   1874-01-05 00:00:00+00:00    0.0      1.0  \n..                        ...    ...      ...  \n360 1874-12-27 00:00:00+00:00    0.8      1.0  \n361 1874-12-28 00:00:00+00:00    0.0      1.0  \n362 1874-12-29 00:00:00+00:00    0.0      1.0  \n363 1874-12-30 00:00:00+00:00    0.0      1.0  \n364 1874-12-31 00:00:00+00:00    0.0      1.0  \n\n[365 rows x 6 columns]",
      "text/html": "<div>\n<style scoped>\n    .dataframe tbody tr th:only-of-type {\n        vertical-align: middle;\n    }\n\n    .dataframe tbody tr th {\n        vertical-align: top;\n    }\n\n    .dataframe thead th {\n        text-align: right;\n    }\n</style>\n<table border=\"1\" class=\"dataframe\">\n  <thead>\n    <tr style=\"text-align: right;\">\n      <th></th>\n      <th>station_id</th>\n      <th>dataset</th>\n      <th>parameter</th>\n      <th>date</th>\n      <th>value</th>\n      <th>quality</th>\n    </tr>\n  </thead>\n  <tbody>\n    <tr>\n      <th>0</th>\n      <td>01443</td>\n      <td>climate_summary</td>\n      <td>precipitation_height</td>\n      <td>1874-01-01 00:00:00+00:00</td>\n      <td>0.0</td>\n      <td>1.0</td>\n    </tr>\n    <tr>\n      <th>1</th>\n      <td>01443</td>\n      <td>climate_summary</td>\n      <td>precipitation_height</td>\n      <td>1874-01-02 00:00:00+00:00</td>\n      <td>4.2</td>\n      <td>1.0</td>\n    </tr>\n    <tr>\n      <th>2</th>\n      <td>01443</td>\n      <td>climate_summary</td>\n      <td>precipitation_height</td>\n      <td>1874-01-03 00:00:00+00:00</td>\n      <td>2.2</td>\n      <td>1.0</td>\n    </tr>\n    <tr>\n      <th>3</th>\n      <td>01443</td>\n      <td>climate_summary</td>\n      <td>precipitation_height</td>\n      <td>1874-01-04 00:00:00+00:00</td>\n      <td>1.1</td>\n      <td>1.0</td>\n    </tr>\n    <tr>\n      <th>4</th>\n      <td>01443</td>\n      <td>climate_summary</td>\n      <td>precipitation_height</td>\n      <td>1874-01-05 00:00:00+00:00</td>\n      <td>0.0</td>\n      <td>1.0</td>\n    </tr>\n    <tr>\n      <th>...</th>\n      <td>...</td>\n      <td>...</td>\n      <td>...</td>\n      <td>...</td>\n      <td>...</td>\n      <td>...</td>\n    </tr>\n    <tr>\n      <th>360</th>\n      <td>01443</td>\n      <td>climate_summary</td>\n      <td>precipitation_height</td>\n      <td>1874-12-27 00:00:00+00:00</td>\n      <td>0.8</td>\n      <td>1.0</td>\n    </tr>\n    <tr>\n      <th>361</th>\n      <td>01443</td>\n      <td>climate_summary</td>\n      <td>precipitation_height</td>\n      <td>1874-12-28 00:00:00+00:00</td>\n      <td>0.0</td>\n      <td>1.0</td>\n    </tr>\n    <tr>\n      <th>362</th>\n      <td>01443</td>\n      <td>climate_summary</td>\n      <td>precipitation_height</td>\n      <td>1874-12-29 00:00:00+00:00</td>\n      <td>0.0</td>\n      <td>1.0</td>\n    </tr>\n    <tr>\n      <th>363</th>\n      <td>01443</td>\n      <td>climate_summary</td>\n      <td>precipitation_height</td>\n      <td>1874-12-30 00:00:00+00:00</td>\n      <td>0.0</td>\n      <td>1.0</td>\n    </tr>\n    <tr>\n      <th>364</th>\n      <td>01443</td>\n      <td>climate_summary</td>\n      <td>precipitation_height</td>\n      <td>1874-12-31 00:00:00+00:00</td>\n      <td>0.0</td>\n      <td>1.0</td>\n    </tr>\n  </tbody>\n</table>\n<p>365 rows × 6 columns</p>\n</div>"
     },
     "execution_count": 40,
     "metadata": {},
     "output_type": "execute_result"
    }
   ],
   "source": [
    "precipitation_frei_historical[:365]"
   ],
   "metadata": {
    "collapsed": false,
    "pycharm": {
     "name": "#%%\n"
    }
   }
  },
  {
   "cell_type": "code",
   "execution_count": 41,
   "outputs": [
    {
     "data": {
      "text/plain": "    station_id          dataset             parameter  \\\n365      01443  climate_summary  precipitation_height   \n366      01443  climate_summary  precipitation_height   \n367      01443  climate_summary  precipitation_height   \n368      01443  climate_summary  precipitation_height   \n369      01443  climate_summary  precipitation_height   \n..         ...              ...                   ...   \n545      01443  climate_summary  precipitation_height   \n546      01443  climate_summary  precipitation_height   \n547      01443  climate_summary  precipitation_height   \n548      01443  climate_summary  precipitation_height   \n549      01443  climate_summary  precipitation_height   \n\n                         date  value  quality  \n365 2021-06-20 00:00:00+00:00   17.3      3.0  \n366 2021-06-21 00:00:00+00:00    3.7      3.0  \n367 2021-06-22 00:00:00+00:00    5.5      3.0  \n368 2021-06-23 00:00:00+00:00   10.6      3.0  \n369 2021-06-24 00:00:00+00:00    6.4      3.0  \n..                        ...    ...      ...  \n545 2021-12-17 00:00:00+00:00    0.0      1.0  \n546 2021-12-18 00:00:00+00:00    0.0      1.0  \n547 2021-12-19 00:00:00+00:00    0.0      1.0  \n548 2021-12-20 00:00:00+00:00    0.0      1.0  \n549 2021-12-21 00:00:00+00:00    0.0      1.0  \n\n[185 rows x 6 columns]",
      "text/html": "<div>\n<style scoped>\n    .dataframe tbody tr th:only-of-type {\n        vertical-align: middle;\n    }\n\n    .dataframe tbody tr th {\n        vertical-align: top;\n    }\n\n    .dataframe thead th {\n        text-align: right;\n    }\n</style>\n<table border=\"1\" class=\"dataframe\">\n  <thead>\n    <tr style=\"text-align: right;\">\n      <th></th>\n      <th>station_id</th>\n      <th>dataset</th>\n      <th>parameter</th>\n      <th>date</th>\n      <th>value</th>\n      <th>quality</th>\n    </tr>\n  </thead>\n  <tbody>\n    <tr>\n      <th>365</th>\n      <td>01443</td>\n      <td>climate_summary</td>\n      <td>precipitation_height</td>\n      <td>2021-06-20 00:00:00+00:00</td>\n      <td>17.3</td>\n      <td>3.0</td>\n    </tr>\n    <tr>\n      <th>366</th>\n      <td>01443</td>\n      <td>climate_summary</td>\n      <td>precipitation_height</td>\n      <td>2021-06-21 00:00:00+00:00</td>\n      <td>3.7</td>\n      <td>3.0</td>\n    </tr>\n    <tr>\n      <th>367</th>\n      <td>01443</td>\n      <td>climate_summary</td>\n      <td>precipitation_height</td>\n      <td>2021-06-22 00:00:00+00:00</td>\n      <td>5.5</td>\n      <td>3.0</td>\n    </tr>\n    <tr>\n      <th>368</th>\n      <td>01443</td>\n      <td>climate_summary</td>\n      <td>precipitation_height</td>\n      <td>2021-06-23 00:00:00+00:00</td>\n      <td>10.6</td>\n      <td>3.0</td>\n    </tr>\n    <tr>\n      <th>369</th>\n      <td>01443</td>\n      <td>climate_summary</td>\n      <td>precipitation_height</td>\n      <td>2021-06-24 00:00:00+00:00</td>\n      <td>6.4</td>\n      <td>3.0</td>\n    </tr>\n    <tr>\n      <th>...</th>\n      <td>...</td>\n      <td>...</td>\n      <td>...</td>\n      <td>...</td>\n      <td>...</td>\n      <td>...</td>\n    </tr>\n    <tr>\n      <th>545</th>\n      <td>01443</td>\n      <td>climate_summary</td>\n      <td>precipitation_height</td>\n      <td>2021-12-17 00:00:00+00:00</td>\n      <td>0.0</td>\n      <td>1.0</td>\n    </tr>\n    <tr>\n      <th>546</th>\n      <td>01443</td>\n      <td>climate_summary</td>\n      <td>precipitation_height</td>\n      <td>2021-12-18 00:00:00+00:00</td>\n      <td>0.0</td>\n      <td>1.0</td>\n    </tr>\n    <tr>\n      <th>547</th>\n      <td>01443</td>\n      <td>climate_summary</td>\n      <td>precipitation_height</td>\n      <td>2021-12-19 00:00:00+00:00</td>\n      <td>0.0</td>\n      <td>1.0</td>\n    </tr>\n    <tr>\n      <th>548</th>\n      <td>01443</td>\n      <td>climate_summary</td>\n      <td>precipitation_height</td>\n      <td>2021-12-20 00:00:00+00:00</td>\n      <td>0.0</td>\n      <td>1.0</td>\n    </tr>\n    <tr>\n      <th>549</th>\n      <td>01443</td>\n      <td>climate_summary</td>\n      <td>precipitation_height</td>\n      <td>2021-12-21 00:00:00+00:00</td>\n      <td>0.0</td>\n      <td>1.0</td>\n    </tr>\n  </tbody>\n</table>\n<p>185 rows × 6 columns</p>\n</div>"
     },
     "execution_count": 41,
     "metadata": {},
     "output_type": "execute_result"
    }
   ],
   "source": [
    "precipitation_frei_recent[365:]"
   ],
   "metadata": {
    "collapsed": false,
    "pycharm": {
     "name": "#%%\n"
    }
   }
  },
  {
   "cell_type": "markdown",
   "source": [
    "Now, have a rough look at the historical data:"
   ],
   "metadata": {
    "collapsed": false,
    "pycharm": {
     "name": "#%% md\n"
    }
   }
  },
  {
   "cell_type": "code",
   "execution_count": 42,
   "outputs": [
    {
     "data": {
      "text/plain": "[<matplotlib.lines.Line2D at 0x7fd30b2a93a0>]"
     },
     "execution_count": 42,
     "metadata": {},
     "output_type": "execute_result"
    },
    {
     "data": {
      "text/plain": "<Figure size 432x288 with 1 Axes>",
      "image/png": "[encoded data removed]"
     },
     "metadata": {
      "needs_background": "light"
     },
     "output_type": "display_data"
    }
   ],
   "source": [
    "precipitation_ma_historical['value'].loc[:]\n",
    "plt.plot(precipitation_ma_historical['date'], precipitation_ma_historical['value'].loc[:])"
   ],
   "metadata": {
    "collapsed": false,
    "pycharm": {
     "name": "#%%\n"
    }
   }
  },
  {
   "cell_type": "code",
   "execution_count": 43,
   "outputs": [
    {
     "data": {
      "text/plain": "<AxesSubplot:title={'center':'Rheinstetten Historical'}, xlabel='date'>"
     },
     "execution_count": 43,
     "metadata": {},
     "output_type": "execute_result"
    },
    {
     "data": {
      "text/plain": "<Figure size 432x288 with 1 Axes>",
      "image/png": "[encoded data removed]"
     },
     "metadata": {
      "needs_background": "light"
     },
     "output_type": "display_data"
    },
    {
     "data": {
      "text/plain": "<Figure size 432x288 with 1 Axes>",
      "image/png": "[encoded data removed]"
     },
     "metadata": {
      "needs_background": "light"
     },
     "output_type": "display_data"
    },
    {
     "data": {
      "text/plain": "<Figure size 432x288 with 1 Axes>",
      "image/png": "[encoded data removed]"
     },
     "metadata": {
      "needs_background": "light"
     },
     "output_type": "display_data"
    },
    {
     "data": {
      "text/plain": "<Figure size 432x288 with 1 Axes>",
      "image/png": "[encoded data removed]"
     },
     "metadata": {
      "needs_background": "light"
     },
     "output_type": "display_data"
    },
    {
     "data": {
      "text/plain": "<Figure size 432x288 with 1 Axes>",
      "image/png": "[encoded data removed]"
     },
     "metadata": {
      "needs_background": "light"
     },
     "output_type": "display_data"
    }
   ],
   "source": [
    "precipitation_ma_historical.plot(x=\"date\", y=\"value\", title='Mannheim Historical')\n",
    "precipitation_frei_historical.plot(x='date', y='value', title='Freiburg Historical')\n",
    "precipitation_rheinau_historical.plot(x='date', y='value', title='Rheinau Historical')\n",
    "precipitation_rheinfelden_historical.plot(x='date', y='value', title='Rheinfelden Historical')\n",
    "precipitation_rheinstetten_historical.plot(x='date', y='value', title='Rheinstetten Historical')"
   ],
   "metadata": {
    "collapsed": false,
    "pycharm": {
     "name": "#%%\n"
    }
   }
  },
  {
   "cell_type": "markdown",
   "source": [
    "Based on the above data, there seems to be data missing, but because we have to align the data of the DWD to the data of the rhine water level (kaub), the data missing before 01-01-2013 is of no concern, the data missing after that date is a problem though.\n",
    "\n",
    "As one can see from all the historical data plots, the start of the historical data differs from station to station. The end of the historical data is however always the same, i.e. the 31-12-2020."
   ],
   "metadata": {
    "collapsed": false,
    "pycharm": {
     "name": "#%% md\n"
    }
   }
  },
  {
   "cell_type": "markdown",
   "source": [
    "Now, look at the historical precipitation data of Rheinfelden, where there seems to be missing some data, more closely."
   ],
   "metadata": {
    "collapsed": false,
    "pycharm": {
     "name": "#%% md\n"
    }
   }
  },
  {
   "cell_type": "code",
   "execution_count": 44,
   "outputs": [
    {
     "data": {
      "text/plain": "<AxesSubplot:title={'center':'Closeup of Rheinfelden Historical'}, xlabel='date'>"
     },
     "execution_count": 44,
     "metadata": {},
     "output_type": "execute_result"
    },
    {
     "data": {
      "text/plain": "<Figure size 432x288 with 1 Axes>",
      "image/png": "[encoded data removed]"
     },
     "metadata": {
      "needs_background": "light"
     },
     "output_type": "display_data"
    }
   ],
   "source": [
    "precipitation_rheinfelden_historical.loc[22000:23000].plot(x='date', y='value', title='Closeup of Rheinfelden Historical')"
   ],
   "metadata": {
    "collapsed": false,
    "pycharm": {
     "name": "#%%\n"
    }
   }
  },
  {
   "cell_type": "code",
   "execution_count": 45,
   "outputs": [
    {
     "data": {
      "text/plain": "      station_id          dataset             parameter  \\\n22400      04175  climate_summary  precipitation_height   \n22401      04175  climate_summary  precipitation_height   \n22402      04175  climate_summary  precipitation_height   \n22403      04175  climate_summary  precipitation_height   \n22404      04175  climate_summary  precipitation_height   \n22405      04175  climate_summary  precipitation_height   \n22406      04175  climate_summary  precipitation_height   \n22407      04175  climate_summary  precipitation_height   \n22408      04175  climate_summary  precipitation_height   \n22409      04175  climate_summary  precipitation_height   \n22410      04175  climate_summary  precipitation_height   \n\n                           date  value  quality  \n22400 2014-12-30 00:00:00+00:00    0.6     10.0  \n22401 2014-12-31 00:00:00+00:00    0.0     10.0  \n22402 2016-07-01 00:00:00+00:00    0.9     10.0  \n22403 2016-07-02 00:00:00+00:00    0.0     10.0  \n22404 2016-07-03 00:00:00+00:00    0.0     10.0  \n22405 2016-07-04 00:00:00+00:00    0.0     10.0  \n22406 2016-07-05 00:00:00+00:00    0.0     10.0  \n22407 2016-07-06 00:00:00+00:00    0.0     10.0  \n22408 2016-07-07 00:00:00+00:00    0.0     10.0  \n22409 2016-07-08 00:00:00+00:00    0.0     10.0  \n22410 2016-07-09 00:00:00+00:00    0.0     10.0  ",
      "text/html": "<div>\n<style scoped>\n    .dataframe tbody tr th:only-of-type {\n        vertical-align: middle;\n    }\n\n    .dataframe tbody tr th {\n        vertical-align: top;\n    }\n\n    .dataframe thead th {\n        text-align: right;\n    }\n</style>\n<table border=\"1\" class=\"dataframe\">\n  <thead>\n    <tr style=\"text-align: right;\">\n      <th></th>\n      <th>station_id</th>\n      <th>dataset</th>\n      <th>parameter</th>\n      <th>date</th>\n      <th>value</th>\n      <th>quality</th>\n    </tr>\n  </thead>\n  <tbody>\n    <tr>\n      <th>22400</th>\n      <td>04175</td>\n      <td>climate_summary</td>\n      <td>precipitation_height</td>\n      <td>2014-12-30 00:00:00+00:00</td>\n      <td>0.6</td>\n      <td>10.0</td>\n    </tr>\n    <tr>\n      <th>22401</th>\n      <td>04175</td>\n      <td>climate_summary</td>\n      <td>precipitation_height</td>\n      <td>2014-12-31 00:00:00+00:00</td>\n      <td>0.0</td>\n      <td>10.0</td>\n    </tr>\n    <tr>\n      <th>22402</th>\n      <td>04175</td>\n      <td>climate_summary</td>\n      <td>precipitation_height</td>\n      <td>2016-07-01 00:00:00+00:00</td>\n      <td>0.9</td>\n      <td>10.0</td>\n    </tr>\n    <tr>\n      <th>22403</th>\n      <td>04175</td>\n      <td>climate_summary</td>\n      <td>precipitation_height</td>\n      <td>2016-07-02 00:00:00+00:00</td>\n      <td>0.0</td>\n      <td>10.0</td>\n    </tr>\n    <tr>\n      <th>22404</th>\n      <td>04175</td>\n      <td>climate_summary</td>\n      <td>precipitation_height</td>\n      <td>2016-07-03 00:00:00+00:00</td>\n      <td>0.0</td>\n      <td>10.0</td>\n    </tr>\n    <tr>\n      <th>22405</th>\n      <td>04175</td>\n      <td>climate_summary</td>\n      <td>precipitation_height</td>\n      <td>2016-07-04 00:00:00+00:00</td>\n      <td>0.0</td>\n      <td>10.0</td>\n    </tr>\n    <tr>\n      <th>22406</th>\n      <td>04175</td>\n      <td>climate_summary</td>\n      <td>precipitation_height</td>\n      <td>2016-07-05 00:00:00+00:00</td>\n      <td>0.0</td>\n      <td>10.0</td>\n    </tr>\n    <tr>\n      <th>22407</th>\n      <td>04175</td>\n      <td>climate_summary</td>\n      <td>precipitation_height</td>\n      <td>2016-07-06 00:00:00+00:00</td>\n      <td>0.0</td>\n      <td>10.0</td>\n    </tr>\n    <tr>\n      <th>22408</th>\n      <td>04175</td>\n      <td>climate_summary</td>\n      <td>precipitation_height</td>\n      <td>2016-07-07 00:00:00+00:00</td>\n      <td>0.0</td>\n      <td>10.0</td>\n    </tr>\n    <tr>\n      <th>22409</th>\n      <td>04175</td>\n      <td>climate_summary</td>\n      <td>precipitation_height</td>\n      <td>2016-07-08 00:00:00+00:00</td>\n      <td>0.0</td>\n      <td>10.0</td>\n    </tr>\n    <tr>\n      <th>22410</th>\n      <td>04175</td>\n      <td>climate_summary</td>\n      <td>precipitation_height</td>\n      <td>2016-07-09 00:00:00+00:00</td>\n      <td>0.0</td>\n      <td>10.0</td>\n    </tr>\n  </tbody>\n</table>\n</div>"
     },
     "execution_count": 45,
     "metadata": {},
     "output_type": "execute_result"
    }
   ],
   "source": [
    "precipitation_rheinfelden_historical.loc[22400:22410]"
   ],
   "metadata": {
    "collapsed": false,
    "pycharm": {
     "name": "#%%\n"
    }
   }
  },
  {
   "cell_type": "markdown",
   "source": [
    "Upon closer inspecting the rheinfelden precipitation data, the entirety from 2014 until 2016 is missing. This is of great concern since filling these values with artificially created values would certainly do more harm than having the data included would do good. This is why we decided to discard this data."
   ],
   "metadata": {
    "collapsed": false,
    "pycharm": {
     "name": "#%% md\n"
    }
   }
  },
  {
   "cell_type": "code",
   "execution_count": 46,
   "metadata": {},
   "outputs": [
    {
     "data": {
      "text/plain": "<AxesSubplot:title={'center':'Rheinstetten Recent'}, xlabel='date'>"
     },
     "execution_count": 46,
     "metadata": {},
     "output_type": "execute_result"
    },
    {
     "data": {
      "text/plain": "<Figure size 432x288 with 1 Axes>",
      "image/png": "[encoded data removed]"
     },
     "metadata": {
      "needs_background": "light"
     },
     "output_type": "display_data"
    },
    {
     "data": {
      "text/plain": "<Figure size 432x288 with 1 Axes>",
      "image/png": "[encoded data removed]"
     },
     "metadata": {
      "needs_background": "light"
     },
     "output_type": "display_data"
    },
    {
     "data": {
      "text/plain": "<Figure size 432x288 with 1 Axes>",
      "image/png": "[encoded data removed]"
     },
     "metadata": {
      "needs_background": "light"
     },
     "output_type": "display_data"
    },
    {
     "data": {
      "text/plain": "<Figure size 432x288 with 1 Axes>",
      "image/png": "[encoded data removed]"
     },
     "metadata": {
      "needs_background": "light"
     },
     "output_type": "display_data"
    }
   ],
   "source": [
    "precipitation_ma_recent.plot(x=\"date\", y=\"value\", title='Mannheim Recent')\n",
    "precipitation_frei_recent.plot(x=\"date\", y=\"value\", title='Freiburg Recent')\n",
    "precipitation_rheinau_recent.plot(x=\"date\", y=\"value\", title='Rheinau Recent')\n",
    "precipitation_rheinstetten_recent.plot(x=\"date\", y=\"value\", title='Rheinstetten Recent')"
   ]
  },
  {
   "cell_type": "code",
   "execution_count": 47,
   "outputs": [
    {
     "data": {
      "text/plain": "  station_id          dataset             parameter                      date  \\\n0      01443  climate_summary  precipitation_height 2020-06-20 00:00:00+00:00   \n1      01443  climate_summary  precipitation_height 2020-06-21 00:00:00+00:00   \n2      01443  climate_summary  precipitation_height 2020-06-22 00:00:00+00:00   \n3      01443  climate_summary  precipitation_height 2020-06-23 00:00:00+00:00   \n4      01443  climate_summary  precipitation_height 2020-06-24 00:00:00+00:00   \n5      01443  climate_summary  precipitation_height 2020-06-25 00:00:00+00:00   \n6      01443  climate_summary  precipitation_height 2020-06-26 00:00:00+00:00   \n7      01443  climate_summary  precipitation_height 2020-06-27 00:00:00+00:00   \n8      01443  climate_summary  precipitation_height 2020-06-28 00:00:00+00:00   \n9      01443  climate_summary  precipitation_height 2020-06-29 00:00:00+00:00   \n\n   value  quality  \n0    0.0      3.0  \n1    0.1      3.0  \n2    0.0      3.0  \n3    0.0      3.0  \n4    0.0      3.0  \n5    0.2      3.0  \n6    4.3      3.0  \n7    5.9      3.0  \n8    5.5      3.0  \n9    3.3      3.0  ",
      "text/html": "<div>\n<style scoped>\n    .dataframe tbody tr th:only-of-type {\n        vertical-align: middle;\n    }\n\n    .dataframe tbody tr th {\n        vertical-align: top;\n    }\n\n    .dataframe thead th {\n        text-align: right;\n    }\n</style>\n<table border=\"1\" class=\"dataframe\">\n  <thead>\n    <tr style=\"text-align: right;\">\n      <th></th>\n      <th>station_id</th>\n      <th>dataset</th>\n      <th>parameter</th>\n      <th>date</th>\n      <th>value</th>\n      <th>quality</th>\n    </tr>\n  </thead>\n  <tbody>\n    <tr>\n      <th>0</th>\n      <td>01443</td>\n      <td>climate_summary</td>\n      <td>precipitation_height</td>\n      <td>2020-06-20 00:00:00+00:00</td>\n      <td>0.0</td>\n      <td>3.0</td>\n    </tr>\n    <tr>\n      <th>1</th>\n      <td>01443</td>\n      <td>climate_summary</td>\n      <td>precipitation_height</td>\n      <td>2020-06-21 00:00:00+00:00</td>\n      <td>0.1</td>\n      <td>3.0</td>\n    </tr>\n    <tr>\n      <th>2</th>\n      <td>01443</td>\n      <td>climate_summary</td>\n      <td>precipitation_height</td>\n      <td>2020-06-22 00:00:00+00:00</td>\n      <td>0.0</td>\n      <td>3.0</td>\n    </tr>\n    <tr>\n      <th>3</th>\n      <td>01443</td>\n      <td>climate_summary</td>\n      <td>precipitation_height</td>\n      <td>2020-06-23 00:00:00+00:00</td>\n      <td>0.0</td>\n      <td>3.0</td>\n    </tr>\n    <tr>\n      <th>4</th>\n      <td>01443</td>\n      <td>climate_summary</td>\n      <td>precipitation_height</td>\n      <td>2020-06-24 00:00:00+00:00</td>\n      <td>0.0</td>\n      <td>3.0</td>\n    </tr>\n    <tr>\n      <th>5</th>\n      <td>01443</td>\n      <td>climate_summary</td>\n      <td>precipitation_height</td>\n      <td>2020-06-25 00:00:00+00:00</td>\n      <td>0.2</td>\n      <td>3.0</td>\n    </tr>\n    <tr>\n      <th>6</th>\n      <td>01443</td>\n      <td>climate_summary</td>\n      <td>precipitation_height</td>\n      <td>2020-06-26 00:00:00+00:00</td>\n      <td>4.3</td>\n      <td>3.0</td>\n    </tr>\n    <tr>\n      <th>7</th>\n      <td>01443</td>\n      <td>climate_summary</td>\n      <td>precipitation_height</td>\n      <td>2020-06-27 00:00:00+00:00</td>\n      <td>5.9</td>\n      <td>3.0</td>\n    </tr>\n    <tr>\n      <th>8</th>\n      <td>01443</td>\n      <td>climate_summary</td>\n      <td>precipitation_height</td>\n      <td>2020-06-28 00:00:00+00:00</td>\n      <td>5.5</td>\n      <td>3.0</td>\n    </tr>\n    <tr>\n      <th>9</th>\n      <td>01443</td>\n      <td>climate_summary</td>\n      <td>precipitation_height</td>\n      <td>2020-06-29 00:00:00+00:00</td>\n      <td>3.3</td>\n      <td>3.0</td>\n    </tr>\n  </tbody>\n</table>\n</div>"
     },
     "execution_count": 47,
     "metadata": {},
     "output_type": "execute_result"
    }
   ],
   "source": [
    "precipitation_frei_recent[:10]"
   ],
   "metadata": {
    "collapsed": false,
    "pycharm": {
     "name": "#%%\n"
    }
   }
  },
  {
   "cell_type": "markdown",
   "source": [
    "The recent data is in the timespan of [17-07-2020, now], where 'now' is the date before the day this program is run."
   ],
   "metadata": {
    "collapsed": false,
    "pycharm": {
     "name": "#%% md\n"
    }
   }
  },
  {
   "cell_type": "code",
   "execution_count": 48,
   "outputs": [],
   "source": [
    "assert(len(precipitation_ma_recent) == len(precipitation_frei_recent) == len(precipitation_rheinau_recent) == len(precipitation_rheinstetten_recent))"
   ],
   "metadata": {
    "collapsed": false,
    "pycharm": {
     "name": "#%%\n"
    }
   }
  },
  {
   "cell_type": "code",
   "execution_count": 49,
   "outputs": [
    {
     "name": "stderr",
     "output_type": "stream",
     "text": [
      "/tmp/ipykernel_330563/1846286331.py:1: FutureWarning: Comparison of Timestamp with datetime.date is deprecated in order to match the standard library behavior.  In a future version these will be considered non-comparable.Use 'ts == pd.Timestamp(date)' or 'ts.date() == date' instead.\n",
      "  assert(precipitation_ma_recent['date'].loc[0] == precipitation_frei_recent['date'].loc[0].date() == precipitation_rheinau_recent['date'].loc[0].date() == precipitation_rheinstetten_recent['date'].loc[0].date())\n"
     ]
    }
   ],
   "source": [
    "assert(precipitation_ma_recent['date'].loc[0] == precipitation_frei_recent['date'].loc[0].date() == precipitation_rheinau_recent['date'].loc[0].date() == precipitation_rheinstetten_recent['date'].loc[0].date())"
   ],
   "metadata": {
    "collapsed": false,
    "pycharm": {
     "name": "#%%\n"
    }
   }
  },
  {
   "cell_type": "markdown",
   "source": [
    "## In-depth analysis of missing/duplicate values of DWD data"
   ],
   "metadata": {
    "collapsed": false,
    "pycharm": {
     "name": "#%% md\n"
    }
   }
  },
  {
   "cell_type": "markdown",
   "source": [
    "Put the data in lists for convenience."
   ],
   "metadata": {
    "collapsed": false,
    "pycharm": {
     "name": "#%% md\n"
    }
   }
  },
  {
   "cell_type": "code",
   "execution_count": 50,
   "outputs": [],
   "source": [
    "historicals = {'Mannheim_historical' : precipitation_ma_historical,\n",
    "               'Rheinstetten_historical': precipitation_rheinstetten_historical,\n",
    "               'Freiburg_historical' : precipitation_frei_historical,\n",
    "               'Rheinau_historical' : precipitation_rheinau_historical}\n",
    "recents = {'Mannheim_recent' : precipitation_ma_recent,\n",
    "           'Rheinstetten_recent': precipitation_rheinstetten_recent,\n",
    "           'Freiburg_recent' : precipitation_frei_recent,\n",
    "           'Rheinau_recent' : precipitation_rheinau_recent}\n",
    "\n",
    "total = {}\n",
    "total.update(recents)\n",
    "total.update(historicals)"
   ],
   "metadata": {
    "collapsed": false,
    "pycharm": {
     "name": "#%%\n"
    }
   }
  },
  {
   "cell_type": "markdown",
   "source": [
    "First, have a look at duplicate values, i.e. duplicate dates:"
   ],
   "metadata": {
    "collapsed": false,
    "pycharm": {
     "name": "#%% md\n"
    }
   }
  },
  {
   "cell_type": "code",
   "execution_count": 51,
   "outputs": [
    {
     "name": "stdout",
     "output_type": "stream",
     "text": [
      "The Mannheim_recent dataset has [] duplicate values.\n",
      "The Rheinstetten_recent dataset has [] duplicate values.\n",
      "The Freiburg_recent dataset has [] duplicate values.\n",
      "The Rheinau_recent dataset has [] duplicate values.\n",
      "The Mannheim_historical dataset has [] duplicate values.\n",
      "The Rheinstetten_historical dataset has [] duplicate values.\n",
      "The Freiburg_historical dataset has [] duplicate values.\n",
      "The Rheinau_historical dataset has [] duplicate values.\n"
     ]
    }
   ],
   "source": [
    "for name, prec in total.items():\n",
    "    print(f'The {name} dataset has {prec[prec.duplicated([\"date\"])].value.values} duplicate values.')"
   ],
   "metadata": {
    "collapsed": false,
    "pycharm": {
     "name": "#%%\n"
    }
   }
  },
  {
   "cell_type": "markdown",
   "source": [
    "As can be seen above, there are no duplicate values by date."
   ],
   "metadata": {
    "collapsed": false,
    "pycharm": {
     "name": "#%% md\n"
    }
   }
  },
  {
   "cell_type": "markdown",
   "source": [
    "Check that there are no null/NaN values in the data"
   ],
   "metadata": {
    "collapsed": false,
    "pycharm": {
     "name": "#%% md\n"
    }
   }
  },
  {
   "cell_type": "code",
   "execution_count": 52,
   "outputs": [
    {
     "name": "stdout",
     "output_type": "stream",
     "text": [
      "The Mannheim_recent dataset has 0 null values\n",
      "The Rheinstetten_recent dataset has 0 null values\n",
      "The Freiburg_recent dataset has 0 null values\n",
      "The Rheinau_recent dataset has 0 null values\n",
      "The Mannheim_historical dataset has 3 null values\n",
      "The Rheinstetten_historical dataset has 4 null values\n",
      "The Freiburg_historical dataset has 205 null values\n",
      "The Rheinau_historical dataset has 0 null values\n"
     ]
    }
   ],
   "source": [
    "for name, prec in total.items():\n",
    "    print(f'The {name} dataset has {len(prec[prec.isna().any(axis=1)].value.values)} null values')"
   ],
   "metadata": {
    "collapsed": false,
    "pycharm": {
     "name": "#%%\n"
    }
   }
  },
  {
   "cell_type": "markdown",
   "source": [
    "There are some values missing, now show the indices of these null values:"
   ],
   "metadata": {
    "collapsed": false,
    "pycharm": {
     "name": "#%% md\n"
    }
   }
  },
  {
   "cell_type": "code",
   "execution_count": 58,
   "outputs": [
    {
     "name": "stdout",
     "output_type": "stream",
     "text": [
      "The Mannheim_recent dataset has the following null values:\n",
      "No missing values\n",
      "The Rheinstetten_recent dataset has the following null values:\n",
      "No missing values\n",
      "The Freiburg_recent dataset has the following null values:\n",
      "No missing values\n",
      "The Rheinau_recent dataset has the following null values:\n",
      "No missing values\n",
      "The Mannheim_historical dataset has the following null values:\n",
      "1095    1938-12-31 00:00:00+00:00\n",
      "27122   2018-04-04 00:00:00+00:00\n",
      "27123   2018-04-05 00:00:00+00:00\n",
      "Name: date, dtype: datetime64[ns, UTC]\n",
      "The Rheinstetten_historical dataset has the following null values:\n",
      "17256   2018-08-01 00:00:00+00:00\n",
      "17675   2019-09-24 00:00:00+00:00\n",
      "17676   2019-09-25 00:00:00+00:00\n",
      "17678   2019-09-27 00:00:00+00:00\n",
      "Name: date, dtype: datetime64[ns, UTC]\n",
      "The Freiburg_historical dataset has the following null values:\n",
      "58      1874-02-28 00:00:00+00:00\n",
      "84      1874-03-26 00:00:00+00:00\n",
      "177     1874-06-27 00:00:00+00:00\n",
      "178     1874-06-28 00:00:00+00:00\n",
      "441     1875-03-18 00:00:00+00:00\n",
      "                   ...           \n",
      "37966   2005-04-12 00:00:00+00:00\n",
      "42767   2018-06-04 00:00:00+00:00\n",
      "42768   2018-06-05 00:00:00+00:00\n",
      "42769   2018-06-06 00:00:00+00:00\n",
      "42770   2018-06-07 00:00:00+00:00\n",
      "Name: date, Length: 205, dtype: datetime64[ns, UTC]\n",
      "The Rheinau_historical dataset has the following null values:\n",
      "No missing values\n"
     ]
    }
   ],
   "source": [
    "for name, prec in total.items():\n",
    "    print(f'The {name} dataset has the following null values:\\n{prec[\"date\"].loc[prec.isna().any(axis=1)] if len(prec[prec.isna().any(axis=1)].value.values)>0 else \"No missing values\"}')"
   ],
   "metadata": {
    "collapsed": false,
    "pycharm": {
     "name": "#%%\n"
    }
   }
  },
  {
   "cell_type": "markdown",
   "source": [
    "Now output these missing datapoints, s.t. we know the date."
   ],
   "metadata": {
    "collapsed": false,
    "pycharm": {
     "name": "#%% md\n"
    }
   }
  },
  {
   "cell_type": "markdown",
   "source": [
    "As can be seen in the above output, only the values in the mannheim historical dataframe at index 27122, 27123 and in the freiburg historical dataframe at index 42767 to 42770 are of relevance, since they are in the relevant timespan. Also, the 4 null values from Rheinstetten are relevant.\n",
    "\n",
    "We will deal with these data points later on. First, we want to see if there are any dates missing in the data:"
   ],
   "metadata": {
    "collapsed": false,
    "pycharm": {
     "name": "#%% md\n"
    }
   }
  },
  {
   "cell_type": "code",
   "execution_count": 59,
   "outputs": [
    {
     "name": "stdout",
     "output_type": "stream",
     "text": [
      "The Mannheim_historical dataset has the following missing dates\n",
      "No missing dates\n",
      "The Rheinstetten_historical dataset has the following missing dates\n",
      "No missing dates\n",
      "The Freiburg_historical dataset has the following missing dates\n",
      "No missing dates\n",
      "The Rheinau_historical dataset has the following missing dates\n",
      "No missing dates\n"
     ]
    }
   ],
   "source": [
    "for name, prec in historicals.items():\n",
    "    df1 = prec.set_index(prec['date'])\n",
    "    df1.index = pd.to_datetime(df1.index)\n",
    "    dates = pd.date_range(start=\"2013-1-1 00:00:00+00:00\", end='2020-12-31 00:00:00+00:00').difference(df1.index)\n",
    "    print(f'The {name} dataset has the following missing dates\\n{dates.values if len(dates.values)>0 else \"No missing dates\"}')"
   ],
   "metadata": {
    "collapsed": false,
    "pycharm": {
     "name": "#%%\n"
    }
   }
  },
  {
   "cell_type": "code",
   "execution_count": 60,
   "outputs": [
    {
     "name": "stdout",
     "output_type": "stream",
     "text": [
      "The Mannheim_recent dataset has the following missing dates\n",
      "No missing dates\n",
      "The Rheinstetten_recent dataset has the following missing dates\n",
      "No missing dates\n",
      "The Freiburg_recent dataset has the following missing dates\n",
      "No missing dates\n",
      "The Rheinau_recent dataset has the following missing dates\n",
      "No missing dates\n"
     ]
    }
   ],
   "source": [
    "for name, prec in recents.items():\n",
    "    df1 = prec.set_index(prec['date'])\n",
    "    df1.index = pd.to_datetime(df1.index)\n",
    "    dates = pd.date_range(start='2021-1-1 00:00:00+00:00', end='2021-12-18 00:00:00+00:00').difference(df1.index)\n",
    "    print(f'The {name} dataset has the following missing dates\\n{dates.values if len(dates.values)>0 else \"No missing dates\"}')"
   ],
   "metadata": {
    "collapsed": false,
    "pycharm": {
     "name": "#%%\n"
    }
   }
  },
  {
   "cell_type": "code",
   "execution_count": 61,
   "outputs": [
    {
     "data": {
      "text/plain": "    station_id          dataset             parameter  \\\n0        05906  climate_summary  precipitation_height   \n1        05906  climate_summary  precipitation_height   \n2        05906  climate_summary  precipitation_height   \n3        05906  climate_summary  precipitation_height   \n4        05906  climate_summary  precipitation_height   \n..         ...              ...                   ...   \n545      05906  climate_summary  precipitation_height   \n546      05906  climate_summary  precipitation_height   \n547      05906  climate_summary  precipitation_height   \n548      05906  climate_summary  precipitation_height   \n549      05906  climate_summary  precipitation_height   \n\n                         date  value  quality  \n0   2020-06-20 00:00:00+00:00    0.3      3.0  \n1   2020-06-21 00:00:00+00:00    0.0      3.0  \n2   2020-06-22 00:00:00+00:00    0.0      3.0  \n3   2020-06-23 00:00:00+00:00    0.0      3.0  \n4   2020-06-24 00:00:00+00:00    0.0      3.0  \n..                        ...    ...      ...  \n545 2021-12-17 00:00:00+00:00    0.0      1.0  \n546 2021-12-18 00:00:00+00:00    0.0      1.0  \n547 2021-12-19 00:00:00+00:00    0.0      1.0  \n548 2021-12-20 00:00:00+00:00    0.0      1.0  \n549 2021-12-21 00:00:00+00:00    0.0      1.0  \n\n[550 rows x 6 columns]",
      "text/html": "<div>\n<style scoped>\n    .dataframe tbody tr th:only-of-type {\n        vertical-align: middle;\n    }\n\n    .dataframe tbody tr th {\n        vertical-align: top;\n    }\n\n    .dataframe thead th {\n        text-align: right;\n    }\n</style>\n<table border=\"1\" class=\"dataframe\">\n  <thead>\n    <tr style=\"text-align: right;\">\n      <th></th>\n      <th>station_id</th>\n      <th>dataset</th>\n      <th>parameter</th>\n      <th>date</th>\n      <th>value</th>\n      <th>quality</th>\n    </tr>\n  </thead>\n  <tbody>\n    <tr>\n      <th>0</th>\n      <td>05906</td>\n      <td>climate_summary</td>\n      <td>precipitation_height</td>\n      <td>2020-06-20 00:00:00+00:00</td>\n      <td>0.3</td>\n      <td>3.0</td>\n    </tr>\n    <tr>\n      <th>1</th>\n      <td>05906</td>\n      <td>climate_summary</td>\n      <td>precipitation_height</td>\n      <td>2020-06-21 00:00:00+00:00</td>\n      <td>0.0</td>\n      <td>3.0</td>\n    </tr>\n    <tr>\n      <th>2</th>\n      <td>05906</td>\n      <td>climate_summary</td>\n      <td>precipitation_height</td>\n      <td>2020-06-22 00:00:00+00:00</td>\n      <td>0.0</td>\n      <td>3.0</td>\n    </tr>\n    <tr>\n      <th>3</th>\n      <td>05906</td>\n      <td>climate_summary</td>\n      <td>precipitation_height</td>\n      <td>2020-06-23 00:00:00+00:00</td>\n      <td>0.0</td>\n      <td>3.0</td>\n    </tr>\n    <tr>\n      <th>4</th>\n      <td>05906</td>\n      <td>climate_summary</td>\n      <td>precipitation_height</td>\n      <td>2020-06-24 00:00:00+00:00</td>\n      <td>0.0</td>\n      <td>3.0</td>\n    </tr>\n    <tr>\n      <th>...</th>\n      <td>...</td>\n      <td>...</td>\n      <td>...</td>\n      <td>...</td>\n      <td>...</td>\n      <td>...</td>\n    </tr>\n    <tr>\n      <th>545</th>\n      <td>05906</td>\n      <td>climate_summary</td>\n      <td>precipitation_height</td>\n      <td>2021-12-17 00:00:00+00:00</td>\n      <td>0.0</td>\n      <td>1.0</td>\n    </tr>\n    <tr>\n      <th>546</th>\n      <td>05906</td>\n      <td>climate_summary</td>\n      <td>precipitation_height</td>\n      <td>2021-12-18 00:00:00+00:00</td>\n      <td>0.0</td>\n      <td>1.0</td>\n    </tr>\n    <tr>\n      <th>547</th>\n      <td>05906</td>\n      <td>climate_summary</td>\n      <td>precipitation_height</td>\n      <td>2021-12-19 00:00:00+00:00</td>\n      <td>0.0</td>\n      <td>1.0</td>\n    </tr>\n    <tr>\n      <th>548</th>\n      <td>05906</td>\n      <td>climate_summary</td>\n      <td>precipitation_height</td>\n      <td>2021-12-20 00:00:00+00:00</td>\n      <td>0.0</td>\n      <td>1.0</td>\n    </tr>\n    <tr>\n      <th>549</th>\n      <td>05906</td>\n      <td>climate_summary</td>\n      <td>precipitation_height</td>\n      <td>2021-12-21 00:00:00+00:00</td>\n      <td>0.0</td>\n      <td>1.0</td>\n    </tr>\n  </tbody>\n</table>\n<p>550 rows × 6 columns</p>\n</div>"
     },
     "execution_count": 61,
     "metadata": {},
     "output_type": "execute_result"
    }
   ],
   "source": [
    "precipitation_ma_recent"
   ],
   "metadata": {
    "collapsed": false,
    "pycharm": {
     "name": "#%%\n"
    }
   }
  },
  {
   "cell_type": "markdown",
   "source": [
    "## Preparing the DWD data"
   ],
   "metadata": {
    "collapsed": false,
    "pycharm": {
     "name": "#%% md\n"
    }
   }
  },
  {
   "cell_type": "markdown",
   "source": [
    "Prepare the data to be adjusted into the right range. This is done by cutting the historical df into the range [startdate_kaub_data, end_historical_data] and the recent df to [end_historical_data + 1, end_kaub_data]"
   ],
   "metadata": {
    "collapsed": false,
    "pycharm": {
     "name": "#%% md\n"
    }
   }
  },
  {
   "cell_type": "code",
   "execution_count": null,
   "outputs": [],
   "source": [],
   "metadata": {
    "collapsed": false,
    "pycharm": {
     "name": "#%%\n"
    }
   }
  },
  {
   "cell_type": "code",
   "execution_count": null,
   "outputs": [],
   "source": [],
   "metadata": {
    "collapsed": false,
    "pycharm": {
     "name": "#%%\n"
    }
   }
  },
  {
   "cell_type": "code",
   "execution_count": 62,
   "metadata": {},
   "outputs": [],
   "source": [
    "precipitation_ma_historical['date'] = pd.to_datetime(precipitation_ma_historical['date'], unit='s').dt.date\n",
    "precipitation_ma_recent['date'] = pd.to_datetime(precipitation_ma_recent['date'], unit='s').dt.date\n",
    "precipitation_frei_historical['date'] = pd.to_datetime(precipitation_frei_historical['date'], unit='s').dt.date\n",
    "precipitation_frei_recent['date'] = pd.to_datetime(precipitation_frei_recent['date'], unit='s').dt.date\n",
    "precipitation_rheinau_historical['date'] = pd.to_datetime(precipitation_rheinau_historical['date'], unit='s').dt.date\n",
    "precipitation_rheinau_recent['date'] = pd.to_datetime(precipitation_rheinau_recent['date'], unit='s').dt.date\n",
    "precipitation_rheinstetten_historical['date'] = pd.to_datetime(precipitation_rheinstetten_historical['date'], unit='s').dt.date\n",
    "precipitation_rheinstetten_recent['date'] = pd.to_datetime(precipitation_rheinstetten_recent['date'], unit='s').dt.date"
   ]
  },
  {
   "cell_type": "code",
   "execution_count": null,
   "outputs": [],
   "source": [],
   "metadata": {
    "collapsed": false,
    "pycharm": {
     "name": "#%%\n"
    }
   }
  },
  {
   "cell_type": "code",
   "execution_count": 63,
   "outputs": [],
   "source": [
    "startdate = pd.to_datetime(df['date'].iloc[0]).date() # startdate_kaub_data\n",
    "inter_enddate = pd.to_datetime(precipitation_ma_historical['date'].iloc[-1]).date() # end_historical_data\n",
    "inter_startdate = inter_enddate + timedelta(days=1) # end_historical_data + 1\n",
    "enddate = pd.to_datetime(df['date'].iloc[-1]).date() # end_kaub_data"
   ],
   "metadata": {
    "collapsed": false,
    "pycharm": {
     "name": "#%%\n"
    }
   }
  },
  {
   "cell_type": "markdown",
   "source": [
    "Before we can shift the data to be in the right range, we need to know the amount of shifting that needs to be done since precipitation has a delayed effect on water levels. It may need to be shifted even more for the cities Freiburg or Rheinau, since they are farther away from Ludwigshafen/Mannheim."
   ],
   "metadata": {
    "collapsed": false,
    "pycharm": {
     "name": "#%% md\n"
    }
   }
  },
  {
   "cell_type": "markdown",
   "source": [
    "In edit_dataframe, we prepare the DWD dataframes to be added to the Kaub data by dropping columns and adding recent to historical values."
   ],
   "metadata": {
    "collapsed": false,
    "pycharm": {
     "name": "#%% md\n"
    }
   }
  },
  {
   "cell_type": "code",
   "execution_count": 64,
   "outputs": [],
   "source": [
    "def edit_dataframe(prec_historical, prec_recent):\n",
    "    prec_total = prec_historical.append(prec_recent).reset_index(drop=True)\n",
    "    prec_total = prec_total.rename({'value':'precipitation_height'}, axis=1)\n",
    "    prec_total = prec_total.drop(['parameter', 'dataset', 'station_id', 'quality'], axis=1)\n",
    "    assert(len(prec_total) == len(df))\n",
    "    prec_total = prec_total.drop('date', axis = 1)\n",
    "    return prec_total"
   ],
   "metadata": {
    "collapsed": false,
    "pycharm": {
     "name": "#%%\n"
    }
   }
  },
  {
   "cell_type": "markdown",
   "source": [
    "## Getting the shift right"
   ],
   "metadata": {
    "collapsed": false,
    "pycharm": {
     "name": "#%% md\n"
    }
   }
  },
  {
   "cell_type": "markdown",
   "source": [
    "Next, we provide a function which will help as an analysis for the best shift of the precipitation data in contrast to the Kaub data. This function returns the performances of the different shifts using the spearman correlation coefficient as a metric."
   ],
   "metadata": {
    "collapsed": false,
    "pycharm": {
     "name": "#%% md\n"
    }
   }
  },
  {
   "cell_type": "code",
   "execution_count": 65,
   "outputs": [],
   "source": [
    "def get_best_shift(nmbr_shifts, df_recent, df_hist):\n",
    "    totals = []\n",
    "    for i in range(1, nmbr_shifts+1):\n",
    "        recent_shift = df_recent.loc[df_recent['date'].between(inter_startdate-timedelta(days=i), enddate-timedelta(days=i), inclusive=True)]\n",
    "        hist_shift = df_hist.loc[df_hist['date'].between(startdate-timedelta(days=i), inter_enddate-timedelta(days=i), inclusive=True)]\n",
    "        recent_shift = recent_shift.fillna(method='ffill')\n",
    "        hist_shift = hist_shift.fillna(method='ffill')\n",
    "        x = edit_dataframe(hist_shift, recent_shift)\n",
    "        totals.append(x)\n",
    "\n",
    "    best = []\n",
    "    for precipitation in totals:\n",
    "        cor = precipitation['precipitation_height'].corr(df['level'], method='spearman')\n",
    "        best.append(cor)\n",
    "    index, element = max(enumerate(best), key=itemgetter(1))\n",
    "    return (index, element), best"
   ],
   "metadata": {
    "collapsed": false,
    "pycharm": {
     "name": "#%%\n"
    }
   }
  },
  {
   "cell_type": "markdown",
   "source": [],
   "metadata": {
    "collapsed": false
   }
  },
  {
   "cell_type": "code",
   "execution_count": 66,
   "outputs": [
    {
     "name": "stderr",
     "output_type": "stream",
     "text": [
      "/tmp/ipykernel_330563/3256371367.py:4: FutureWarning: Boolean inputs to the `inclusive` argument are deprecated infavour of `both` or `neither`.\n",
      "  recent_shift = df_recent.loc[df_recent['date'].between(inter_startdate-timedelta(days=i), enddate-timedelta(days=i), inclusive=True)]\n",
      "/tmp/ipykernel_330563/3256371367.py:5: FutureWarning: Boolean inputs to the `inclusive` argument are deprecated infavour of `both` or `neither`.\n",
      "  hist_shift = df_hist.loc[df_hist['date'].between(startdate-timedelta(days=i), inter_enddate-timedelta(days=i), inclusive=True)]\n"
     ]
    }
   ],
   "source": [
    "shift_ma, cor_array_ma = get_best_shift(50, precipitation_ma_recent, precipitation_ma_historical)\n",
    "shift_frei, cor_array_frei = get_best_shift(50, precipitation_frei_recent, precipitation_frei_historical)\n",
    "shift_rhei, cor_array_rhei = get_best_shift(50, precipitation_rheinau_recent, precipitation_rheinau_historical)\n",
    "shift_rheinst, cor_array_rheinst = get_best_shift(50, precipitation_rheinstetten_recent, precipitation_rheinstetten_historical)"
   ],
   "metadata": {
    "collapsed": false,
    "pycharm": {
     "name": "#%%\n"
    }
   }
  },
  {
   "cell_type": "code",
   "execution_count": null,
   "outputs": [],
   "source": [
    "print(f'These are the best shifts for Mannheim {shift_ma}\\nFreiburg: {shift_frei}\\nRheinau: {shift_rhei}\\nRheinstetten:{shift_rheinst}')"
   ],
   "metadata": {
    "collapsed": false,
    "pycharm": {
     "name": "#%%\n"
    }
   }
  },
  {
   "cell_type": "code",
   "execution_count": null,
   "outputs": [],
   "source": [
    "print(len(cor_array_ma), len(cor_array_frei), len(cor_array_rhei), len(cor_array_rheinst))"
   ],
   "metadata": {
    "collapsed": false,
    "pycharm": {
     "name": "#%%\n"
    }
   }
  },
  {
   "cell_type": "code",
   "execution_count": null,
   "outputs": [],
   "source": [
    "plt.plot(np.arange(len(cor_array_ma)), cor_array_ma, label='Mannheim')\n",
    "plt.plot(np.arange(len(cor_array_frei)), cor_array_frei, label='Freiburg')\n",
    "plt.plot(np.arange(len(cor_array_rhei)), cor_array_rhei, label='Rheinau')\n",
    "plt.plot(np.arange(len(cor_array_rheinst)), cor_array_rheinst, label='Rheinstetten')\n",
    "plt.xlabel('Dataframe shifting in days')\n",
    "plt.ylabel('Spearman correlation coefficient')\n",
    "plt.legend()\n",
    "plt.title('Impact of precipitation on water level')\n",
    "plt.savefig(path + 'correlation.png')"
   ],
   "metadata": {
    "collapsed": false,
    "pycharm": {
     "name": "#%%\n"
    }
   }
  },
  {
   "cell_type": "markdown",
   "source": [
    "Another interesting bit is, that for every city, whether it be Mannheim or Freiburg, the highest correlation is at a shift of 4 days. This is particularly interesting, since the distance between Freiburg and Mannheim is 200km. It is hard to get information about the velocity of the Rhine. The SWR says, that the water flows at a velocity of 6kp/h at Mannheim (cf. <a href=\"https://www.swr.de/wissen/1000-antworten/wissenschaft-und-forschung/1000-antworten-2894.html#:~:text=Steht%20man%20in%20Mannheim%20am,Schneller%20als%20ein%20z%C3%BCgiger%20Fu%C3%9Fg%C3%A4nger\">this website</a>). This could be faster or slower for the part of the Rhine between Freiburg and Mannheim depending on various different aspects: River width, channel shape, the volume of water and the gradient of its riverbed.\n",
    "\n",
    "If we would assume the river to have a constant velocity of 6km/h between Freiburg and Mannheim, then the precipitation in Freiburg should have at least a 200km/6km/h = 33hours delay in contrast to the precipitation in Mannheim. I.e., the highest impact/correlation should be by shifting the data of precipitation in Freiburg by 5 days, when the correlation of precipitation to water levels in Mannheim takes 4 days.\n",
    "\n",
    "There could be multiple reasons why this is not the case here:\n",
    "1. The weather stations are sometimes far away, sometimes near by river => The data is noisy, since the weather could be vastly different even when the weather station's distance to the Rhine is only a few kilometres.\n",
    "2. The Rhine flows a lot faster between Freiburg and Mannheim => Could be the case, but unlikely, since the Rhine would have to flow much faster\n",
    "3. Different time of recording for the day. A weather station could for example measure its precipitation not until midnight but could stop earlier and could then put the rest of the daily precipitation onto the next day => Also rather unlikely, since I would assume that the stations use the same time period for their measurements nationwide, but definitely statewide."
   ],
   "metadata": {
    "collapsed": false,
    "pycharm": {
     "name": "#%% md\n"
    }
   }
  },
  {
   "cell_type": "markdown",
   "source": [
    "## Splitting and merging the data"
   ],
   "metadata": {
    "collapsed": false,
    "pycharm": {
     "name": "#%% md\n"
    }
   }
  },
  {
   "cell_type": "markdown",
   "source": [
    "Now we split the data accordingly."
   ],
   "metadata": {
    "collapsed": false,
    "pycharm": {
     "name": "#%% md\n"
    }
   }
  },
  {
   "cell_type": "code",
   "execution_count": null,
   "outputs": [],
   "source": [
    "shift_ma = 0,0\n",
    "shift_frei = 0,0\n",
    "shift_rhei = 0,0\n",
    "shift_rheinst = 0,0"
   ],
   "metadata": {
    "collapsed": false,
    "pycharm": {
     "name": "#%%\n"
    }
   }
  },
  {
   "cell_type": "code",
   "execution_count": null,
   "metadata": {},
   "outputs": [],
   "source": [
    "precipitation_ma_historical = precipitation_ma_historical.loc[precipitation_ma_historical['date'].between(startdate-timedelta(days=shift_ma[0]), inter_enddate-timedelta(days=shift_ma[0]), inclusive=True)]\n",
    "precipitation_ma_recent = precipitation_ma_recent.loc[precipitation_ma_recent['date'].between(inter_startdate-timedelta(days=shift_ma[0]), enddate-timedelta(days=shift_ma[0]), inclusive=True)]\n",
    "\n",
    "precipitation_rheinau_historical = precipitation_rheinau_historical.loc[precipitation_rheinau_historical['date'].between(startdate-timedelta(days=shift_rhei[0]), inter_enddate-timedelta(days=shift_rhei[0]), inclusive=True)]\n",
    "precipitation_rheinau_recent = precipitation_rheinau_recent.loc[precipitation_rheinau_recent['date'].between(inter_startdate-timedelta(days=shift_rhei[0]), enddate-timedelta(days=shift_rhei[0]), inclusive=True)]\n",
    "\n",
    "precipitation_frei_historical = precipitation_frei_historical.loc[precipitation_frei_historical['date'].between(startdate-timedelta(days=shift_frei[0]), inter_enddate-timedelta(days=shift_frei[0]), inclusive=True)]\n",
    "precipitation_frei_recent = precipitation_frei_recent.loc[precipitation_frei_recent['date'].between(inter_startdate-timedelta(days=shift_frei[0]), enddate-timedelta(days=shift_frei[0]), inclusive=True)]\n",
    "\n",
    "precipitation_rheinstetten_historical = precipitation_rheinstetten_historical.loc[precipitation_rheinstetten_historical['date'].between(startdate-timedelta(days=shift_rheinst[0]), inter_enddate-timedelta(days=shift_rheinst[0]), inclusive=True)]\n",
    "precipitation_rheinstetten_recent = precipitation_rheinstetten_recent.loc[precipitation_rheinstetten_recent['date'].between(inter_startdate-timedelta(days=shift_rheinst[0]), enddate-timedelta(days=shift_rheinst[0]), inclusive=True)]"
   ]
  },
  {
   "cell_type": "code",
   "execution_count": null,
   "metadata": {},
   "outputs": [],
   "source": [
    "assert(len(precipitation_ma_historical == len(precipitation_rheinau_historical)) == len(precipitation_frei_historical) == len(precipitation_rheinstetten_historical))\n",
    "assert(len(precipitation_ma_recent == len(precipitation_rheinau_recent)) == len(precipitation_frei_recent) == len(precipitation_rheinstetten_recent))"
   ]
  },
  {
   "cell_type": "markdown",
   "source": [
    "Unfortunately, as seen earlier, there are some null/NaN values in the DWD data. In the following, I will simply interpolate these missing values using ffill. This will propagate the last observed value to it. This may not be the optimal solution for dealing with these two specific missing values, but in the grand scheme of things, when using neural networks, this should not be an issue, especially considering that the Baseline model, which will just predict the t for t+1, is a fairly good prediction (we will see this later)."
   ],
   "metadata": {
    "collapsed": false,
    "pycharm": {
     "name": "#%% md\n"
    }
   }
  },
  {
   "cell_type": "code",
   "execution_count": null,
   "outputs": [],
   "source": [
    "precipitation_frei_historical[precipitation_frei_historical.isna().any(axis=1)]"
   ],
   "metadata": {
    "collapsed": false,
    "pycharm": {
     "name": "#%%\n"
    }
   }
  },
  {
   "cell_type": "code",
   "execution_count": null,
   "outputs": [],
   "source": [
    "precipitation_ma_historical[precipitation_ma_historical.isna().any(axis=1)]"
   ],
   "metadata": {
    "collapsed": false,
    "pycharm": {
     "name": "#%%\n"
    }
   }
  },
  {
   "cell_type": "code",
   "execution_count": null,
   "outputs": [],
   "source": [
    "precipitation_rheinstetten_historical[precipitation_rheinstetten_historical.isna().any(axis=1)]"
   ],
   "metadata": {
    "collapsed": false,
    "pycharm": {
     "name": "#%%\n"
    }
   }
  },
  {
   "cell_type": "code",
   "execution_count": null,
   "outputs": [],
   "source": [
    "precipitation_rheinau_historical[precipitation_rheinau_historical.isna().any(axis=1)]"
   ],
   "metadata": {
    "collapsed": false,
    "pycharm": {
     "name": "#%%\n"
    }
   }
  },
  {
   "cell_type": "code",
   "execution_count": null,
   "metadata": {},
   "outputs": [],
   "source": [
    "precipitation_ma_historical = precipitation_ma_historical.fillna(method='ffill')\n",
    "precipitation_frei_historical = precipitation_frei_historical.fillna(method='ffill')\n",
    "precipitation_rheinstetten_historical = precipitation_rheinstetten_historical.fillna(method='ffill')"
   ]
  },
  {
   "cell_type": "code",
   "execution_count": null,
   "outputs": [],
   "source": [
    "precipitation_ma = edit_dataframe(precipitation_ma_historical, precipitation_ma_recent)\n",
    "precipitation_frei = edit_dataframe(precipitation_frei_historical, precipitation_frei_recent)\n",
    "precipitation_rheinau = edit_dataframe(precipitation_rheinau_historical, precipitation_rheinau_recent)\n",
    "precipitation_rheinstetten = edit_dataframe(precipitation_rheinstetten_historical, precipitation_rheinstetten_recent)"
   ],
   "metadata": {
    "collapsed": false,
    "pycharm": {
     "name": "#%%\n"
    }
   }
  },
  {
   "cell_type": "code",
   "execution_count": null,
   "metadata": {},
   "outputs": [],
   "source": [
    "df = df.drop('date', axis = 1)"
   ]
  },
  {
   "cell_type": "code",
   "execution_count": null,
   "metadata": {},
   "outputs": [],
   "source": [
    "df['precipitation_ma_height'] = precipitation_ma['precipitation_height']\n",
    "df['precipitation_frei_height'] = precipitation_frei['precipitation_height']\n",
    "df['precipitation_rheinau_height'] = precipitation_rheinau['precipitation_height']\n",
    "df['precipitation_rheinstetten_height'] = precipitation_rheinstetten['precipitation_height']"
   ]
  },
  {
   "cell_type": "markdown",
   "source": [
    "## Correlation between precipitation and water level"
   ],
   "metadata": {
    "collapsed": false,
    "pycharm": {
     "name": "#%% md\n"
    }
   }
  },
  {
   "cell_type": "code",
   "execution_count": null,
   "metadata": {},
   "outputs": [],
   "source": [
    "df['precipitation_ma_height'].corr(df['level'], method='spearman')"
   ]
  },
  {
   "cell_type": "code",
   "execution_count": null,
   "outputs": [],
   "source": [
    "df['precipitation_frei_height'].corr(df['level'], method='spearman')"
   ],
   "metadata": {
    "collapsed": false,
    "pycharm": {
     "name": "#%%\n"
    }
   }
  },
  {
   "cell_type": "code",
   "execution_count": null,
   "outputs": [],
   "source": [
    "df['precipitation_rheinau_height'].corr(df['level'], method='spearman')"
   ],
   "metadata": {
    "collapsed": false,
    "pycharm": {
     "name": "#%%\n"
    }
   }
  },
  {
   "cell_type": "code",
   "execution_count": null,
   "outputs": [],
   "source": [
    "df['precipitation_rheinstetten_height'].corr(df['level'], method='spearman')"
   ],
   "metadata": {
    "collapsed": false,
    "pycharm": {
     "name": "#%%\n"
    }
   }
  },
  {
   "cell_type": "code",
   "execution_count": null,
   "outputs": [],
   "source": [
    "# df = df.drop(['precipitation_ma_height', 'precipitation_frei_height', 'precipitation_rheinau_height', 'precipitation_rheinstetten_height'], axis=1)"
   ],
   "metadata": {
    "collapsed": false,
    "pycharm": {
     "name": "#%%\n"
    }
   }
  },
  {
   "cell_type": "code",
   "execution_count": null,
   "outputs": [],
   "source": [
    "df"
   ],
   "metadata": {
    "collapsed": false,
    "pycharm": {
     "name": "#%%\n"
    }
   }
  },
  {
   "cell_type": "markdown",
   "source": [
    "## Splitting and Standardizing"
   ],
   "metadata": {
    "collapsed": false,
    "pycharm": {
     "name": "#%% md\n"
    }
   }
  },
  {
   "cell_type": "markdown",
   "metadata": {},
   "source": [
    "Split the data in train-validation-test split: 70:20:10 ratio. In order to get a more accurate overall presentation of the data, i.e. to guarantee that the data is i.i.d, one could randomly shuffle the data. This generally leads to lower variance and less overfitting when training a neural network. I did not decide to do this however, since this would badly influence the performance of the model because the data points are time dependent on each other.\n",
    "\n",
    "Not shuffling the data leads to another problem: The distributions of the training/validation/test-dataset may be different. This can mean, that the model is fitting nicely on the training data, but is having trouble generalizing its \"findings\" onto the test dataset, since the test dataset is from another distribution. This could lead to underfitting."
   ]
  },
  {
   "cell_type": "code",
   "execution_count": null,
   "outputs": [],
   "source": [
    "column_indices = {name: i for i, name in enumerate(df.columns)}\n",
    "train_df = df[0:int(len(df)*0.7)]\n",
    "val_df = df[int(len(df)*0.7):int(len(df)*0.9)]\n",
    "test_df = df[int(len(df)*0.9):]\n",
    "\n",
    "num_features = df.shape[1]"
   ],
   "metadata": {
    "collapsed": false,
    "pycharm": {
     "name": "#%%\n"
    }
   }
  },
  {
   "cell_type": "code",
   "execution_count": null,
   "outputs": [],
   "source": [
    "num_features"
   ],
   "metadata": {
    "collapsed": false,
    "pycharm": {
     "name": "#%%\n"
    }
   }
  },
  {
   "cell_type": "code",
   "execution_count": null,
   "metadata": {},
   "outputs": [],
   "source": [
    "train_df.describe()"
   ]
  },
  {
   "cell_type": "code",
   "execution_count": null,
   "metadata": {
    "scrolled": true
   },
   "outputs": [],
   "source": [
    "test_df.describe()"
   ]
  },
  {
   "cell_type": "code",
   "execution_count": null,
   "metadata": {},
   "outputs": [],
   "source": [
    "print(f'Train mean: {train_df[\"level\"].mean()}, Train std: {train_df[\"level\"].std()}')"
   ]
  },
  {
   "cell_type": "code",
   "execution_count": null,
   "metadata": {},
   "outputs": [],
   "source": [
    "print(f'Validation mean: {val_df[\"level\"].mean()}, {val_df[\"level\"].std()}')"
   ]
  },
  {
   "cell_type": "code",
   "execution_count": null,
   "metadata": {
    "scrolled": true
   },
   "outputs": [],
   "source": [
    "print(f'Test mean: {test_df[\"level\"].mean()}, {test_df[\"level\"].std()}')"
   ]
  },
  {
   "cell_type": "markdown",
   "source": [
    "As already hinted at earlier, the distribution of the data seems to differ a bit, while the train mean is 206, the test mean is now 230. Furthermore, the standard deviation of the training data is 103, while the std of the test data is 127. This can lead to a lower performance of the network on the test data."
   ],
   "metadata": {
    "collapsed": false,
    "pycharm": {
     "name": "#%% md\n"
    }
   }
  },
  {
   "cell_type": "markdown",
   "metadata": {},
   "source": [
    "Test, if split was successful."
   ]
  },
  {
   "cell_type": "code",
   "execution_count": null,
   "metadata": {},
   "outputs": [],
   "source": [
    "assert(len(train_df) + len(val_df) + len(test_df) == len(df))"
   ]
  },
  {
   "cell_type": "markdown",
   "metadata": {},
   "source": [
    "Maybe use moving averages instead of average in the next cell since the model shouldn't have access to future values in the training set when training?!"
   ]
  },
  {
   "cell_type": "code",
   "execution_count": null,
   "metadata": {},
   "outputs": [],
   "source": [
    "pre_transformation = train_df"
   ]
  },
  {
   "cell_type": "markdown",
   "metadata": {},
   "source": [
    "Since there are many outliers on the higher end, we use the RobustScaler instead of the StandardScaler."
   ]
  },
  {
   "cell_type": "code",
   "execution_count": null,
   "metadata": {},
   "outputs": [],
   "source": [
    "scaler = RobustScaler().fit(train_df.values)\n",
    "train_scaled = scaler.transform(train_df)\n",
    "val_scaled = scaler.transform(val_df)\n",
    "test_scaled = scaler.transform(test_df)"
   ]
  },
  {
   "cell_type": "code",
   "execution_count": null,
   "metadata": {},
   "outputs": [],
   "source": [
    "train_df = pd.DataFrame(train_scaled, index=train_df.index, columns=train_df.columns)\n",
    "val_df = pd.DataFrame(val_scaled, index=val_df.index, columns=val_df.columns)\n",
    "test_df = pd.DataFrame(test_scaled, index=test_df.index, columns=test_df.columns)"
   ]
  },
  {
   "cell_type": "code",
   "execution_count": null,
   "outputs": [],
   "source": [
    "train_df.describe()"
   ],
   "metadata": {
    "collapsed": false,
    "pycharm": {
     "name": "#%%\n"
    }
   }
  },
  {
   "cell_type": "code",
   "execution_count": null,
   "outputs": [],
   "source": [
    "pre_transformation"
   ],
   "metadata": {
    "collapsed": false,
    "pycharm": {
     "name": "#%%\n"
    }
   }
  },
  {
   "cell_type": "code",
   "execution_count": null,
   "outputs": [],
   "source": [
    "train_df"
   ],
   "metadata": {
    "collapsed": false,
    "pycharm": {
     "name": "#%%\n"
    }
   }
  },
  {
   "cell_type": "code",
   "execution_count": null,
   "metadata": {},
   "outputs": [],
   "source": [
    "pre_transformation['precipitation_rheinstetten_height'].plot()\n"
   ]
  },
  {
   "cell_type": "code",
   "execution_count": null,
   "outputs": [],
   "source": [
    "train_df['precipitation_rheinstetten_height'].plot()"
   ],
   "metadata": {
    "collapsed": false,
    "pycharm": {
     "name": "#%%\n"
    }
   }
  },
  {
   "cell_type": "markdown",
   "source": [
    "In this exemplary plot, one can see that the scaling of data has worked."
   ],
   "metadata": {
    "collapsed": false,
    "pycharm": {
     "name": "#%% md\n"
    }
   }
  },
  {
   "cell_type": "code",
   "execution_count": null,
   "outputs": [],
   "source": [
    "train_df.plot()"
   ],
   "metadata": {
    "collapsed": false,
    "pycharm": {
     "name": "#%%\n"
    }
   }
  },
  {
   "cell_type": "code",
   "execution_count": null,
   "metadata": {},
   "outputs": [],
   "source": [
    "print(f' The data pre transformation is in range [{pre_transformation[\"level\"].min()},  {pre_transformation[\"level\"].max()}]\\n'\n",
    "      f' the (test) data after transformation is in range: [{round(test_df[\"level\"].min(),2)}, {round(test_df[\"level\"].max(), 2)}]')\n"
   ]
  },
  {
   "cell_type": "code",
   "execution_count": null,
   "outputs": [],
   "source": [
    "test_df.describe()"
   ],
   "metadata": {
    "collapsed": false,
    "pycharm": {
     "name": "#%%\n"
    }
   }
  },
  {
   "cell_type": "markdown",
   "source": [
    "## Initializing a class for training and evaluating the networks"
   ],
   "metadata": {
    "collapsed": false,
    "pycharm": {
     "name": "#%% md\n"
    }
   }
  },
  {
   "cell_type": "code",
   "execution_count": null,
   "metadata": {},
   "outputs": [],
   "source": [
    "class WindowGenerator():\n",
    "    def __init__(self, input_width, label_width, shift,\n",
    "                   train_df=train_df, val_df=val_df, test_df=test_df,\n",
    "                   label_columns=None):\n",
    "        # Store the raw data.\n",
    "        self.train_df = train_df\n",
    "        self.val_df = val_df\n",
    "        self.test_df = test_df\n",
    "\n",
    "        # Work out the label column indices.\n",
    "        self.label_columns = label_columns\n",
    "        if label_columns is not None:\n",
    "            self.label_columns_indices = {name: i for i, name in\n",
    "                                        enumerate(label_columns)}\n",
    "        self.column_indices = {name: i for i, name in\n",
    "                               enumerate(train_df.columns)}\n",
    "\n",
    "        # Work out the window parameters.\n",
    "        self.input_width = input_width\n",
    "        self.label_width = label_width\n",
    "        self.shift = shift\n",
    "\n",
    "        self.total_window_size = input_width + shift\n",
    "\n",
    "        self.input_slice = slice(0, input_width)\n",
    "        self.input_indices = np.arange(self.total_window_size)[self.input_slice]\n",
    "\n",
    "        self.label_start = self.total_window_size - self.label_width\n",
    "        self.labels_slice = slice(self.label_start, None)\n",
    "        self.label_indices = np.arange(self.total_window_size)[self.labels_slice]\n",
    "        \n",
    "    \n",
    "    def __repr__(self):\n",
    "        return '\\n'.join([\n",
    "            f'Total window size: {self.total_window_size}',\n",
    "            f'Input indices: {self.input_indices}',\n",
    "            f'Label indices: {self.label_indices}',\n",
    "            f'Label column name(s): {self.label_columns}'])"
   ]
  },
  {
   "cell_type": "code",
   "execution_count": null,
   "metadata": {},
   "outputs": [],
   "source": [
    "def split_window(self, features):\n",
    "    inputs = features[:, self.input_slice, :]\n",
    "    labels = features[:, self.labels_slice, :]\n",
    "    if self.label_columns is not None:\n",
    "        labels = tf.stack(\n",
    "            [labels[:, :, self.column_indices[name]] for name in self.label_columns],\n",
    "            axis=-1)\n",
    "\n",
    "    # Slicing doesn't preserve static shape information, so set the shapes\n",
    "    # manually. This way the `tf.data.Datasets` are easier to inspect.\n",
    "    inputs.set_shape([None, self.input_width, None])\n",
    "    labels.set_shape([None, self.label_width, None])\n",
    "\n",
    "    return inputs, labels\n",
    "\n",
    "WindowGenerator.split_window = split_window"
   ]
  },
  {
   "cell_type": "code",
   "execution_count": null,
   "metadata": {},
   "outputs": [],
   "source": [
    "def plot(self, name, model=None, plot_col='level', max_subplots=3):\n",
    "    inputs, labels = self.example\n",
    "    plt.figure(figsize=(12, 8))\n",
    "    plot_col_index = self.column_indices[plot_col]\n",
    "    max_n = min(max_subplots, len(inputs))\n",
    "    plt.suptitle('Example predictions of ' + name + ' model')\n",
    "    for n in range(max_n):\n",
    "        plt.subplot(max_n, 1, n+1)\n",
    "        plt.title('Predictions vs true value')\n",
    "        plt.ylabel(f'{plot_col} (standardized)')\n",
    "        plt.plot(self.input_indices, inputs[n, :, plot_col_index], label='Inputs', marker='.', zorder=-10)\n",
    "\n",
    "        if self.label_columns:\n",
    "            label_col_index = self.label_columns_indices.get(plot_col, None)\n",
    "        else:\n",
    "            label_col_index = plot_col_index\n",
    "\n",
    "        if label_col_index is None:\n",
    "            continue\n",
    "    \n",
    "        plt.scatter(self.label_indices, labels[n, :, label_col_index],\n",
    "                    edgecolors='k', label='Labels', c='#2ca02c', s=64)\n",
    "        if model is not None:\n",
    "            predictions = model(inputs)\n",
    "            plt.scatter(self.label_indices, predictions[n, :, label_col_index],\n",
    "                      marker='X', edgecolors='k', label='Predictions',\n",
    "                      c='#ff7f0e', s=64)\n",
    "\n",
    "        if n == 0:\n",
    "            plt.legend()\n",
    "\n",
    "    plt.xlabel('Day')\n",
    "    plt.savefig(path + name + '_example.png')\n",
    "WindowGenerator.plot = plot\n"
   ]
  },
  {
   "cell_type": "code",
   "execution_count": null,
   "metadata": {},
   "outputs": [],
   "source": [
    "@property\n",
    "def train(self):\n",
    "    return self.make_dataset(self.train_df)\n",
    "\n",
    "@property\n",
    "def val(self):\n",
    "    return self.make_dataset(self.val_df)\n",
    "\n",
    "@property\n",
    "def test(self):\n",
    "    return self.make_dataset(self.test_df)\n",
    "\n",
    "@property\n",
    "def example(self):\n",
    "    \"\"\"Get and cache an example batch of `inputs, labels` for plotting.\"\"\"\n",
    "    result = getattr(self, '_example', None)\n",
    "    if result is None:\n",
    "        # No example batch was found, so get one from the `.train` dataset\n",
    "        result = next(iter(self.train))\n",
    "        # And cache it for next time\n",
    "        self._example = result\n",
    "    return result\n",
    "\n",
    "WindowGenerator.train = train\n",
    "WindowGenerator.val = val\n",
    "WindowGenerator.test = test\n",
    "WindowGenerator.example = example"
   ]
  },
  {
   "cell_type": "code",
   "execution_count": null,
   "metadata": {},
   "outputs": [],
   "source": [
    "def make_dataset(self, data):\n",
    "    data = np.array(data, dtype=np.float32)\n",
    "    ds = tf.keras.preprocessing.timeseries_dataset_from_array(\n",
    "      data=data,\n",
    "      targets=None,\n",
    "      sequence_length=self.total_window_size,\n",
    "      sequence_stride=1,\n",
    "      shuffle=True,\n",
    "      batch_size=32,)\n",
    "\n",
    "    ds = ds.map(self.split_window)\n",
    "\n",
    "    return ds\n",
    "\n",
    "WindowGenerator.make_dataset = make_dataset"
   ]
  },
  {
   "cell_type": "markdown",
   "source": [
    "Next, the step window is defined. In our task, we will predict 7 days at once."
   ],
   "metadata": {
    "collapsed": false,
    "pycharm": {
     "name": "#%% md\n"
    }
   }
  },
  {
   "cell_type": "code",
   "execution_count": null,
   "metadata": {},
   "outputs": [],
   "source": [
    "single_step_window = WindowGenerator(\n",
    "    input_width=7, label_width=7, shift=7,\n",
    "    label_columns=['level'])\n",
    "single_step_window\n",
    "\n",
    "single_step_window\n"
   ]
  },
  {
   "cell_type": "code",
   "execution_count": null,
   "metadata": {
    "scrolled": true
   },
   "outputs": [],
   "source": [
    "for example_inputs, example_labels in single_step_window.train.take(1):\n",
    "    print(f'Inputs shape (batch, time, features): {example_inputs.shape}')\n",
    "    print(f'Labels shape (batch, time, features): {example_labels.shape}')\n"
   ]
  },
  {
   "cell_type": "markdown",
   "source": [
    "## 1. Model: Baseline"
   ],
   "metadata": {
    "collapsed": false,
    "pycharm": {
     "name": "#%% md\n"
    }
   }
  },
  {
   "cell_type": "markdown",
   "source": [
    "The baseline model predicts always the water level of the last week as the next week."
   ],
   "metadata": {
    "collapsed": false,
    "pycharm": {
     "name": "#%% md\n"
    }
   }
  },
  {
   "cell_type": "code",
   "execution_count": null,
   "metadata": {},
   "outputs": [],
   "source": [
    "class Baseline(tf.keras.Model):\n",
    "    def __init__(self, label_index=None):\n",
    "        super().__init__()\n",
    "        self.label_index = label_index\n",
    "\n",
    "    def call(self, inputs):\n",
    "        if self.label_index is None:\n",
    "            return inputs\n",
    "        result = inputs[:, :, self.label_index]\n",
    "        return result[:, :, tf.newaxis]\n"
   ]
  },
  {
   "cell_type": "code",
   "execution_count": null,
   "metadata": {
    "scrolled": true
   },
   "outputs": [],
   "source": [
    "baseline = Baseline(label_index=column_indices['level'])\n",
    "\n",
    "baseline.compile(loss=tf.losses.MeanSquaredError(),\n",
    "                 metrics=[tf.metrics.MeanAbsoluteError()])\n",
    "\n",
    "train_performance = {}\n",
    "val_performance = {}\n",
    "performance = {}\n",
    "train_performance['Baseline'] = baseline.evaluate(single_step_window.train)\n",
    "val_performance['Baseline'] = baseline.evaluate(single_step_window.val)\n",
    "performance['Baseline'] = baseline.evaluate(single_step_window.test, verbose=0)\n"
   ]
  },
  {
   "cell_type": "code",
   "execution_count": null,
   "metadata": {
    "scrolled": true
   },
   "outputs": [],
   "source": [
    "single_step_window.plot('baseline', baseline)"
   ]
  },
  {
   "cell_type": "markdown",
   "source": [
    "In the plot the predictions and the actual data (truth values) are shown. One can nicely see, that for our task, the model takes it last observation at timestep t, and predicts with it the next step at t+7."
   ],
   "metadata": {
    "collapsed": false,
    "pycharm": {
     "name": "#%% md\n"
    }
   }
  },
  {
   "cell_type": "markdown",
   "source": [
    "## 2. Model: LSTM"
   ],
   "metadata": {
    "collapsed": false,
    "pycharm": {
     "name": "#%% md\n"
    }
   }
  },
  {
   "cell_type": "markdown",
   "source": [
    "The LSTM model will use early stopping, i.e. it stops when the model does not notably decrease its loss function, evaluated on the validation loss to be precise. This will speed up training and also, as a sideffect, can actually have a positive effect on the test data. This way, it may not overfit on the validation data."
   ],
   "metadata": {
    "collapsed": false,
    "pycharm": {
     "name": "#%% md\n"
    }
   }
  },
  {
   "cell_type": "code",
   "execution_count": null,
   "metadata": {},
   "outputs": [],
   "source": [
    "MAX_EPOCHS = 200\n",
    "\n",
    "def compile_and_fit(model, window, patience=2):\n",
    "    early_stopping = tf.keras.callbacks.EarlyStopping(monitor='val_loss',\n",
    "                                                    patience=patience,\n",
    "                                                    mode='min')\n",
    "\n",
    "    model.compile(loss=tf.keras.losses.Huber(),\n",
    "                optimizer=tf.optimizers.Adam(),\n",
    "                metrics=[tf.metrics.MeanAbsoluteError()])\n",
    "\n",
    "    history = model.fit(window.train, epochs=MAX_EPOCHS,\n",
    "                      validation_data=window.val,\n",
    "                      callbacks=[early_stopping])\n",
    "    return history"
   ]
  },
  {
   "cell_type": "markdown",
   "metadata": {},
   "source": [
    "Using Huber Loss for more robustness against outliers (vs for example mean squared error)"
   ]
  },
  {
   "cell_type": "code",
   "execution_count": null,
   "metadata": {},
   "outputs": [],
   "source": [
    "lstm_model = tf.keras.models.Sequential([\n",
    "    tf.keras.layers.LSTM(18, return_sequences=False),\n",
    "    tf.keras.layers.Dense(7*num_features, kernel_initializer=tf.initializers.zeros()),\n",
    "    tf.keras.layers.Reshape([7, num_features])\n",
    "])\n"
   ]
  },
  {
   "cell_type": "code",
   "execution_count": null,
   "metadata": {},
   "outputs": [],
   "source": [
    "history = compile_and_fit(lstm_model, single_step_window)\n",
    "IPython.display.clear_output()\n",
    "train_performance['LSTM'] = lstm_model.evaluate(single_step_window.train)\n",
    "val_performance['LSTM'] = lstm_model.evaluate(single_step_window.val)\n",
    "performance['LSTM'] = lstm_model.evaluate(single_step_window.test, verbose=0)\n",
    "\n"
   ]
  },
  {
   "cell_type": "code",
   "execution_count": null,
   "metadata": {
    "scrolled": false
   },
   "outputs": [],
   "source": [
    "lstm_model.summary()"
   ]
  },
  {
   "cell_type": "markdown",
   "source": [
    "We decided for a fairly shallow and small LSTM model, otherwise, there would be too many parameters to optimize for the amount of data that we have."
   ],
   "metadata": {
    "collapsed": false,
    "pycharm": {
     "name": "#%% md\n"
    }
   }
  },
  {
   "cell_type": "code",
   "execution_count": null,
   "outputs": [],
   "source": [
    "plt.plot(history.history['val_loss'], label='Validation')\n",
    "plt.plot(history.history['loss'], label='Test')\n",
    "plt.title('Loss per Epoch')\n",
    "plt.ylabel('Loss')\n",
    "plt.xlabel('Epoch')\n",
    "plt.legend()\n",
    "plt.savefig(path + 'loss_lstm.png')"
   ],
   "metadata": {
    "collapsed": false,
    "pycharm": {
     "name": "#%%\n"
    }
   }
  },
  {
   "cell_type": "code",
   "execution_count": null,
   "metadata": {},
   "outputs": [],
   "source": [
    "plt.plot(history.history['val_mean_absolute_error'], label='Validation')\n",
    "plt.plot(history.history['mean_absolute_error'], label='Test')\n",
    "plt.title('Error per Epoch')\n",
    "plt.ylabel('Mean Absolute Error')\n",
    "plt.xlabel('Epoch')\n",
    "plt.legend()\n",
    "plt.savefig(path + 'error_epoch_lstm.png')"
   ]
  },
  {
   "cell_type": "markdown",
   "source": [
    "Interestingly, the model is not really taking many epochs to optimize itself on the data. After already 4 epochs it only marginally decreases its loss / the mean absolute error."
   ],
   "metadata": {
    "collapsed": false,
    "pycharm": {
     "name": "#%% md\n"
    }
   }
  },
  {
   "cell_type": "code",
   "execution_count": null,
   "metadata": {
    "scrolled": true
   },
   "outputs": [],
   "source": [
    "single_step_window.plot('LSTM', lstm_model)"
   ]
  },
  {
   "cell_type": "code",
   "execution_count": null,
   "metadata": {},
   "outputs": [],
   "source": [
    "plt.ylabel('mean_absolute_error (standardized)')\n",
    "x = np.arange(3)\n",
    "LSTM_performance = [train_performance['LSTM'][1], val_performance['LSTM'][1], performance['LSTM'][1]]\n",
    "barlist = plt.bar(x, LSTM_performance)\n",
    "plt.xticks(ticks=x, labels=['train error', 'val error', 'test error'],\n",
    "           rotation=45)\n",
    "plt.title('LSTM Error')\n",
    "barlist[0].set_color('orange')\n",
    "barlist[1].set_color('g')\n",
    "plt.gcf().subplots_adjust(bottom=0.15)\n",
    "plt.savefig(path + 'error_lstm.png')"
   ]
  },
  {
   "cell_type": "markdown",
   "source": [
    "## 3. Model: Feed Forward Network"
   ],
   "metadata": {
    "collapsed": false,
    "pycharm": {
     "name": "#%% md\n"
    }
   }
  },
  {
   "cell_type": "code",
   "execution_count": null,
   "metadata": {},
   "outputs": [],
   "source": [
    "ffn_model = tf.keras.models.Sequential([\n",
    "    # Shape [batch, time, features] => [batch, time, lstm_units]\n",
    "    tf.keras.layers.Lambda(lambda x: x[:, -1:, :]),\n",
    "    # Shape => [batch, 1, dense_units]\n",
    "    tf.keras.layers.Dense(256, activation='relu'),\n",
    "    # Shape => [batch, out_steps*features]\n",
    "    tf.keras.layers.Dense(7*num_features,\n",
    "                          kernel_initializer=tf.initializers.zeros()),\n",
    "    # Shape => [batch, out_steps, features]\n",
    "    tf.keras.layers.Reshape([7, num_features])\n",
    "])\n"
   ]
  },
  {
   "cell_type": "code",
   "execution_count": null,
   "metadata": {},
   "outputs": [],
   "source": [
    "history = compile_and_fit(ffn_model, single_step_window)\n",
    "IPython.display.clear_output()\n",
    "train_performance['Dense'] = ffn_model.evaluate(single_step_window.train)\n",
    "val_performance['Dense'] = ffn_model.evaluate(single_step_window.val)\n",
    "performance['Dense'] = ffn_model.evaluate(single_step_window.test, verbose=0)\n",
    "\n"
   ]
  },
  {
   "cell_type": "code",
   "execution_count": null,
   "metadata": {
    "scrolled": true
   },
   "outputs": [],
   "source": [
    "ffn_model.summary()"
   ]
  },
  {
   "cell_type": "code",
   "execution_count": null,
   "outputs": [],
   "source": [
    "plt.plot(history.history['val_loss'], label='Validation')\n",
    "plt.plot(history.history['loss'], label='Test')\n",
    "plt.title('Loss per Epoch')\n",
    "plt.ylabel('Loss')\n",
    "plt.xlabel('Epoch')\n",
    "plt.legend()\n",
    "plt.savefig(path + 'loss_ffn.png')"
   ],
   "metadata": {
    "collapsed": false,
    "pycharm": {
     "name": "#%%\n"
    }
   }
  },
  {
   "cell_type": "code",
   "execution_count": null,
   "metadata": {},
   "outputs": [],
   "source": [
    "plt.plot(history.history['val_mean_absolute_error'], label='Validation')\n",
    "plt.plot(history.history['mean_absolute_error'], label='Test')\n",
    "plt.title('Error per Epoch')\n",
    "plt.ylabel('Error')\n",
    "plt.xlabel('Epoch')\n",
    "plt.legend()\n",
    "plt.savefig(path + 'error_epoch_ffn.png')"
   ]
  },
  {
   "cell_type": "code",
   "execution_count": null,
   "metadata": {
    "scrolled": true
   },
   "outputs": [],
   "source": [
    "single_step_window.plot('FFN', ffn_model)"
   ]
  },
  {
   "cell_type": "code",
   "execution_count": null,
   "outputs": [],
   "source": [
    "plt.title('Error of Feed Forward Network')\n",
    "plt.ylabel('Mean absolute error (standardized)')\n",
    "x = np.arange(3)\n",
    "dense_performance = [train_performance['Dense'][1], val_performance['Dense'][1], performance['Dense'][1]]\n",
    "barlist = plt.bar(x, dense_performance)\n",
    "plt.xticks(ticks=x, labels=['train error', 'val error', 'test error'],\n",
    "           rotation=45)\n",
    "barlist[0].set_color('orange')\n",
    "barlist[1].set_color('g')\n",
    "plt.savefig(path + 'error_ffn.png')"
   ],
   "metadata": {
    "collapsed": false,
    "pycharm": {
     "name": "#%%\n"
    }
   }
  },
  {
   "cell_type": "markdown",
   "source": [
    "## 4. Autoregressive LSTM"
   ],
   "metadata": {
    "collapsed": false,
    "pycharm": {
     "name": "#%% md\n"
    }
   }
  },
  {
   "cell_type": "code",
   "execution_count": null,
   "outputs": [],
   "source": [
    "class FeedBack(tf.keras.Model):\n",
    "    def __init__(self, units, out_steps):\n",
    "        super().__init__()\n",
    "        self.out_steps = out_steps\n",
    "        self.units = units\n",
    "        self.lstm_cell = tf.keras.layers.LSTMCell(units)\n",
    "        # Also wrap the LSTMCell in an RNN to simplify the `warmup` method.\n",
    "        self.lstm_rnn = tf.keras.layers.RNN(self.lstm_cell, return_state=True)\n",
    "        self.dense = tf.keras.layers.Dense(num_features)\n"
   ],
   "metadata": {
    "collapsed": false,
    "pycharm": {
     "name": "#%%\n"
    }
   }
  },
  {
   "cell_type": "code",
   "execution_count": null,
   "outputs": [],
   "source": [
    "feedback_model = FeedBack(units=32, out_steps=7)\n"
   ],
   "metadata": {
    "collapsed": false,
    "pycharm": {
     "name": "#%%\n"
    }
   }
  },
  {
   "cell_type": "code",
   "execution_count": null,
   "outputs": [],
   "source": [
    "def warmup(self, inputs):\n",
    "    # inputs.shape => (batch, time, features)\n",
    "    # x.shape => (batch, lstm_units)\n",
    "    x, *state = self.lstm_rnn(inputs)\n",
    "\n",
    "    # predictions.shape => (batch, features)\n",
    "    prediction = self.dense(x)\n",
    "    return prediction, state\n",
    "\n",
    "FeedBack.warmup = warmup"
   ],
   "metadata": {
    "collapsed": false,
    "pycharm": {
     "name": "#%%\n"
    }
   }
  },
  {
   "cell_type": "code",
   "execution_count": null,
   "outputs": [],
   "source": [
    "prediction, state = feedback_model.warmup(single_step_window.example[0])\n",
    "prediction.shape\n"
   ],
   "metadata": {
    "collapsed": false,
    "pycharm": {
     "name": "#%%\n"
    }
   }
  },
  {
   "cell_type": "code",
   "execution_count": null,
   "outputs": [],
   "source": [
    "def call(self, inputs, training=None):\n",
    "    # Use a TensorArray to capture dynamically unrolled outputs.\n",
    "    predictions = []\n",
    "    # Initialize the LSTM state.\n",
    "    prediction, state = self.warmup(inputs)\n",
    "\n",
    "    # Insert the first prediction.\n",
    "    predictions.append(prediction)\n",
    "\n",
    "    # Run the rest of the prediction steps.\n",
    "    for n in range(1, self.out_steps):\n",
    "        # Use the last prediction as input.\n",
    "        x = prediction\n",
    "        # Execute one lstm step.\n",
    "        x, state = self.lstm_cell(x, states=state,\n",
    "                                  training=training)\n",
    "        # Convert the lstm output to a prediction.\n",
    "        prediction = self.dense(x)\n",
    "        # Add the prediction to the output.\n",
    "        predictions.append(prediction)\n",
    "\n",
    "    # predictions.shape => (time, batch, features)\n",
    "    predictions = tf.stack(predictions)\n",
    "    # predictions.shape => (batch, time, features)\n",
    "    predictions = tf.transpose(predictions, [1, 0, 2])\n",
    "    return predictions\n",
    "\n",
    "FeedBack.call = call\n"
   ],
   "metadata": {
    "collapsed": false,
    "pycharm": {
     "name": "#%%\n"
    }
   }
  },
  {
   "cell_type": "code",
   "execution_count": null,
   "outputs": [],
   "source": [
    "history = compile_and_fit(feedback_model, single_step_window)\n",
    "\n",
    "IPython.display.clear_output()\n",
    "\n",
    "train_performance['AR'] = feedback_model.evaluate(single_step_window.train)\n",
    "val_performance['AR'] = feedback_model.evaluate(single_step_window.val)\n",
    "performance['AR'] = feedback_model.evaluate(single_step_window.test, verbose=0)\n",
    "single_step_window.plot('AR', feedback_model)"
   ],
   "metadata": {
    "collapsed": false,
    "pycharm": {
     "name": "#%%\n"
    }
   }
  },
  {
   "cell_type": "code",
   "execution_count": null,
   "outputs": [],
   "source": [
    "plt.plot(history.history['val_loss'], label='Validation')\n",
    "plt.plot(history.history['loss'], label='Test')\n",
    "plt.title('Loss per Epoch')\n",
    "plt.ylabel('Loss')\n",
    "plt.xlabel('Epoch')\n",
    "plt.savefig(path + 'loss_ar.png')"
   ],
   "metadata": {
    "collapsed": false,
    "pycharm": {
     "name": "#%%\n"
    }
   }
  },
  {
   "cell_type": "code",
   "execution_count": null,
   "outputs": [],
   "source": [
    "plt.plot(history.history['val_mean_absolute_error'], label='Validation')\n",
    "plt.plot(history.history['mean_absolute_error'], label='Test')\n",
    "plt.title('Error per Epoch')\n",
    "plt.ylabel('Error')\n",
    "plt.xlabel('Epoch')\n",
    "plt.legend()\n",
    "plt.savefig(path + 'error_epoch_ar.png')"
   ],
   "metadata": {
    "collapsed": false,
    "pycharm": {
     "name": "#%%\n"
    }
   }
  },
  {
   "cell_type": "markdown",
   "source": [
    "## Performance of all models in comparison"
   ],
   "metadata": {
    "collapsed": false,
    "pycharm": {
     "name": "#%% md\n"
    }
   }
  },
  {
   "cell_type": "code",
   "execution_count": null,
   "metadata": {
    "scrolled": false
   },
   "outputs": [],
   "source": [
    "for name, value in performance.items():\n",
    "    print(f'Test Mean absolute Error {name}: {value[1]:0.4f}')\n"
   ]
  },
  {
   "cell_type": "code",
   "execution_count": null,
   "outputs": [],
   "source": [
    "print(f\"Baseline: Train: {train_performance['Baseline'][1]:.3f}, Validation: {val_performance['Baseline'][1]:.3f}, Test: {performance['Baseline'][1]:.2f}\")\n",
    "print(f\"LSTM: Train: {train_performance['LSTM'][1]:.3f}, Validation: {val_performance['LSTM'][1]:.3f}, Test: {performance['LSTM'][1]:.3f}\")\n",
    "print(f\"Dense: Train: {train_performance['Dense'][1]:.3f}, Validation: {val_performance['Dense'][1]:.3f}, Test: {performance['Dense'][1]:.3f}\")\n",
    "print(f\"AR: Train: {train_performance['AR'][1]:.3f}, Validation: {val_performance['AR'][1]:.3f}, Test: {performance['AR'][1]:.3f}\")"
   ],
   "metadata": {
    "collapsed": false,
    "pycharm": {
     "name": "#%%\n"
    }
   }
  },
  {
   "cell_type": "code",
   "execution_count": null,
   "metadata": {
    "scrolled": false
   },
   "outputs": [],
   "source": [
    "x = np.arange(len(performance))\n",
    "width = 0.3\n",
    "metric_name = 'mean_absolute_error'\n",
    "metric_index = lstm_model.metrics_names.index('mean_absolute_error')\n",
    "val_mae = [v[metric_index] for v in val_performance.values()]\n",
    "test_mae = [v[metric_index] for v in performance.values()]\n",
    "\n",
    "plt.ylabel('Mean absolute error (standardized)')\n",
    "plt.bar(x - 0.20, val_mae, width, label='Validation')\n",
    "plt.bar(x + 0.20, test_mae, width, label='Test')\n",
    "plt.xticks(ticks=x, labels=performance.keys(),\n",
    "           rotation=45)\n",
    "plt.title('Performances in comparison')\n",
    "_ = plt.legend()\n",
    "plt.gcf().subplots_adjust(bottom=0.15)\n",
    "plt.savefig(path + 'comparison_neural.png')\n"
   ]
  },
  {
   "cell_type": "markdown",
   "metadata": {
    "pycharm": {
     "name": "#%% md\n"
    }
   },
   "source": [
    "## A comparable Sarima model"
   ]
  },
  {
   "cell_type": "markdown",
   "source": [
    "We are also going to make a short and basic Sarima model. It should be noted, that there is definitely more performance possible than is being shown here."
   ],
   "metadata": {
    "collapsed": false,
    "pycharm": {
     "name": "#%% md\n"
    }
   }
  },
  {
   "cell_type": "code",
   "execution_count": null,
   "outputs": [],
   "source": [
    "df = df_original"
   ],
   "metadata": {
    "collapsed": false,
    "pycharm": {
     "name": "#%%\n"
    }
   }
  },
  {
   "cell_type": "code",
   "execution_count": null,
   "outputs": [],
   "source": [
    "df.set_index('date', inplace=True)"
   ],
   "metadata": {
    "collapsed": false,
    "pycharm": {
     "name": "#%%\n"
    }
   }
  },
  {
   "cell_type": "markdown",
   "source": [
    "Augmented Dickey-Fuller test, to see if there is a unit root present in the timeseries, which can cause problems for statistical inferences."
   ],
   "metadata": {
    "collapsed": false,
    "pycharm": {
     "name": "#%% md\n"
    }
   }
  },
  {
   "cell_type": "code",
   "execution_count": null,
   "outputs": [],
   "source": [
    "adf_test = ADFTest(alpha=0.05)\n",
    "adf_test.should_diff(df_original['level'])"
   ],
   "metadata": {
    "collapsed": false,
    "pycharm": {
     "name": "#%%\n"
    }
   }
  },
  {
   "cell_type": "markdown",
   "source": [
    "To make the Sarima model somehow comparable to the neural networks we've implemented above, we chose to make a 90/10 train/test split, since the neural networks also uses 90 percent for training (technically, it uses only 70% for training and uses 20% for validation, i.e. to tune the hyperparameters on it).\n",
    "\n",
    "We then standardize the data using the RobustScaler, as it was for the neural networks."
   ],
   "metadata": {
    "collapsed": false
   }
  },
  {
   "cell_type": "code",
   "execution_count": null,
   "outputs": [],
   "source": [
    "train_df = df[:int(len(df)*0.9)]\n",
    "test_df = df[int(0.9*len(df)):]"
   ],
   "metadata": {
    "collapsed": false,
    "pycharm": {
     "name": "#%%\n"
    }
   }
  },
  {
   "cell_type": "code",
   "execution_count": null,
   "outputs": [],
   "source": [
    "assert(len(train_df) + len(test_df) == len(df))"
   ],
   "metadata": {
    "collapsed": false,
    "pycharm": {
     "name": "#%%\n"
    }
   }
  },
  {
   "cell_type": "code",
   "execution_count": null,
   "outputs": [],
   "source": [
    "print(len(train_df), len(test_df))"
   ],
   "metadata": {
    "collapsed": false,
    "pycharm": {
     "name": "#%%\n"
    }
   }
  },
  {
   "cell_type": "code",
   "execution_count": null,
   "outputs": [],
   "source": [
    "scaler = RobustScaler().fit(train_df.values)\n",
    "train_scaled = scaler.transform(train_df)\n",
    "test_scaled = scaler.transform(test_df)"
   ],
   "metadata": {
    "collapsed": false,
    "pycharm": {
     "name": "#%%\n"
    }
   }
  },
  {
   "cell_type": "code",
   "execution_count": null,
   "outputs": [],
   "source": [
    "train_df = pd.DataFrame(train_scaled, index=train_df.index, columns=train_df.columns)\n",
    "test_df = pd.DataFrame(test_scaled, index=test_df.index, columns=test_df.columns)"
   ],
   "metadata": {
    "collapsed": false,
    "pycharm": {
     "name": "#%%\n"
    }
   }
  },
  {
   "cell_type": "code",
   "execution_count": null,
   "outputs": [],
   "source": [
    "train_df"
   ],
   "metadata": {
    "collapsed": false,
    "pycharm": {
     "name": "#%%\n"
    }
   }
  },
  {
   "cell_type": "markdown",
   "source": [
    "While Sarima and neural models have the same task and also just try to approximate a function as well as possible, the technicalities make it not as easy comparable to one another as they are comparable in their own space.\n",
    "\n",
    "This is why we decide to train Sarima the following to compare it to the neural models:\n",
    "1. Use auto arima on the train data to get the best parameters for this set of data. These parameters are then used as an approximation of the best parameters for Sarima throughout all fitted Sarimas, because using auto_arima on every single data point that later is added would cause significant computation time that likely is overkill)\n",
    "2. Then predict the next seven days (this would be the start of the test data) and calculate MAE.\n",
    "3. Now, fit Sarima again on the original train data + 1 of the test data and predict the next seven days after train_data+1\n",
    "4. Repeat step 3 until there's no data left in the test data.\n",
    "\n",
    "One could argue that this is also suboptimal because Sarima then has an advantage when predicting the last few weeks of the test dataset because it has the training"
   ],
   "metadata": {
    "collapsed": false,
    "pycharm": {
     "name": "#%% md\n"
    }
   }
  },
  {
   "cell_type": "code",
   "execution_count": null,
   "outputs": [],
   "source": [
    "arima_model = auto_arima(train_df['level'], m=7, trace=True)"
   ],
   "metadata": {
    "collapsed": false,
    "pycharm": {
     "name": "#%%\n"
    }
   }
  },
  {
   "cell_type": "code",
   "execution_count": null,
   "outputs": [],
   "source": [
    "arima_model.summary()"
   ],
   "metadata": {
    "collapsed": false,
    "pycharm": {
     "name": "#%%\n"
    }
   }
  },
  {
   "cell_type": "code",
   "execution_count": null,
   "outputs": [],
   "source": [
    "predictions = pd.DataFrame(arima_model.predict(n_periods=7), index=test_df[:7].index)\n",
    "prediction.columns = ['Prediction']"
   ],
   "metadata": {
    "collapsed": false,
    "pycharm": {
     "name": "#%%\n"
    }
   }
  },
  {
   "cell_type": "code",
   "execution_count": null,
   "outputs": [],
   "source": [
    "predictions"
   ],
   "metadata": {
    "collapsed": false,
    "pycharm": {
     "name": "#%%\n"
    }
   }
  },
  {
   "cell_type": "code",
   "execution_count": null,
   "outputs": [],
   "source": [
    "ax = plt.axes()\n",
    "ax.plot(train_df[len(train_df)-50:], label='Train')\n",
    "ax.plot(predictions, label='Predictions/yhats')\n",
    "ax.plot(test_df[:7], label='Test')\n",
    "ax.legend()\n",
    "ax.set_ylabel('Water level (standardized)')\n",
    "ax.set_xlabel('Date')\n",
    "ax.xaxis.set_major_locator(plt.MaxNLocator(6))\n",
    "plt.savefig(path + 'sarima_prediction.png')"
   ],
   "metadata": {
    "collapsed": false,
    "pycharm": {
     "name": "#%%\n"
    }
   }
  },
  {
   "cell_type": "code",
   "execution_count": null,
   "outputs": [],
   "source": [
    "def mae(yhats, y):\n",
    "    total_mae = 0\n",
    "    for predictions, truth in zip(yhats, y):\n",
    "        total_mae += abs(predictions-float(truth))\n",
    "    return total_mae / len(yhats)"
   ],
   "metadata": {
    "collapsed": false,
    "pycharm": {
     "name": "#%%\n"
    }
   }
  },
  {
   "cell_type": "code",
   "execution_count": null,
   "outputs": [],
   "source": [
    "def train_sarima(df):\n",
    "    order = (2,1,3)\n",
    "    seasonal_order = (0,0,0,7)\n",
    "    total_error = 0\n",
    "    i = 0\n",
    "    while i < len(df[int(len(df)*0.9):]) - 7:\n",
    "        current_train_df = df[:int(len(df)*0.9)+i]\n",
    "        current_test_df = df[int(len(df)*0.9)+i:]\n",
    "        scaler = RobustScaler().fit(current_train_df.values)\n",
    "        current_train_df.values[:] = scaler.transform(current_train_df)\n",
    "        current_test_df.values[:] = scaler.transform(current_test_df)\n",
    "        model = SARIMAX(current_train_df['level'], order=order, seasonal_order=seasonal_order, enforce_stationarity=True)\n",
    "        model_fit = model.fit(maxiter=200, disp=False)\n",
    "        yhats = model_fit.get_forecast(steps=7)\n",
    "        total_error += mae(yhats.se_mean, current_test_df[:7]['level'])\n",
    "        i += 1\n",
    "    return total_error / i\n",
    ";"
   ],
   "metadata": {
    "collapsed": false,
    "pycharm": {
     "name": "#%%\n"
    }
   }
  },
  {
   "cell_type": "code",
   "execution_count": null,
   "outputs": [],
   "source": [
    "#df['date'] = pd.to_datetime(df['date'])\n",
    "#df.set_index('date', inplace=True)"
   ],
   "metadata": {
    "collapsed": false,
    "pycharm": {
     "name": "#%%\n"
    }
   }
  },
  {
   "cell_type": "code",
   "execution_count": null,
   "outputs": [],
   "source": [
    "df"
   ],
   "metadata": {
    "collapsed": false,
    "pycharm": {
     "name": "#%%\n"
    }
   }
  },
  {
   "cell_type": "markdown",
   "source": [
    "The next cell can take quite some time."
   ],
   "metadata": {
    "collapsed": false,
    "pycharm": {
     "name": "#%% md\n"
    }
   }
  },
  {
   "cell_type": "code",
   "execution_count": null,
   "outputs": [],
   "source": [
    "mae = train_sarima(df)\n",
    "; # hides output"
   ],
   "metadata": {
    "collapsed": false,
    "pycharm": {
     "name": "#%%\n"
    }
   }
  },
  {
   "cell_type": "code",
   "execution_count": null,
   "outputs": [],
   "source": [
    "performance['Sarima'] = [0, mae]"
   ],
   "metadata": {
    "collapsed": false,
    "pycharm": {
     "name": "#%%\n"
    }
   }
  },
  {
   "cell_type": "code",
   "execution_count": null,
   "outputs": [],
   "source": [
    "x = np.arange(len(performance))\n",
    "metric_name = 'mean_absolute_error'\n",
    "metric_index = lstm_model.metrics_names.index('mean_absolute_error')\n",
    "test_mae = [v[metric_index] for v in performance.values()]\n",
    "plt.ylabel('Mean absolute error (standardized)')\n",
    "plt.bar(x + 0.20, test_mae, label='Test')\n",
    "plt.xticks(ticks=x, labels=performance.keys(),\n",
    "           rotation=45)\n",
    "plt.title('Mean Absolute error in comparison')\n",
    "_ = plt.legend()\n",
    "plt.gcf().subplots_adjust(bottom=0.15)\n",
    "plt.savefig(path + 'comparison_every_model.png')"
   ],
   "metadata": {
    "collapsed": false,
    "pycharm": {
     "name": "#%%\n"
    }
   }
  },
  {
   "cell_type": "markdown",
   "source": [
    "One can see that the Sarima model performs way worse than any other neural model. In fact, it even is unable to predict better than the baseline model, which basically just predicts the last week as a water level for the upcoming week."
   ],
   "metadata": {
    "collapsed": false,
    "pycharm": {
     "name": "#%% md\n"
    }
   }
  },
  {
   "cell_type": "markdown",
   "source": [],
   "metadata": {
    "collapsed": false,
    "pycharm": {
     "name": "#%% md\n"
    }
   }
  },
  {
   "cell_type": "code",
   "execution_count": null,
   "outputs": [],
   "source": [],
   "metadata": {
    "collapsed": false,
    "pycharm": {
     "name": "#%%\n"
    }
   }
  }
 ],
 "metadata": {
  "kernelspec": {
   "display_name": "Python forecasting",
   "language": "python",
   "name": "forecasting"
  },
  "language_info": {
   "codemirror_mode": {
    "name": "ipython",
    "version": 3
   },
   "file_extension": ".py",
   "mimetype": "text/x-python",
   "name": "python",
   "nbconvert_exporter": "python",
   "pygments_lexer": "ipython3",
   "version": "3.9.7"
  }
 },
 "nbformat": 4,
 "nbformat_minor": 4
}
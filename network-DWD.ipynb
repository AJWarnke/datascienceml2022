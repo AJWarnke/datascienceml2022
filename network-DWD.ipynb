{
 "cells": [
  {
   "cell_type": "markdown",
   "metadata": {},
   "source": [
    "# Forecasting Water Levels using LSTMs"
   ]
  },
  {
   "cell_type": "code",
   "execution_count": 197,
   "metadata": {},
   "outputs": [],
   "source": [
    "import IPython.display\n",
    "import matplotlib.pyplot as plt\n",
    "import numpy as np\n",
    "import pandas as pd\n",
    "import tensorflow as tf\n",
    "from sklearn.preprocessing import RobustScaler\n",
    "from wetterdienst.provider.dwd.observation import DwdObservationRequest, \\\n",
    "    DwdObservationPeriod, DwdObservationResolution, DwdObservationParameter, DwdObservationDataset"
   ]
  },
  {
   "cell_type": "code",
   "execution_count": 198,
   "metadata": {},
   "outputs": [
    {
     "data": {
      "text/plain": "Int64Index([2521, 2535], dtype='int64')"
     },
     "execution_count": 198,
     "metadata": {},
     "output_type": "execute_result"
    }
   ],
   "source": [
    "df = pd.read_csv('data/Kaub_Level_Since_2013.csv')\n",
    "x = df[df.duplicated(['date'])].index\n",
    "x"
   ]
  },
  {
   "cell_type": "code",
   "execution_count": 199,
   "outputs": [
    {
     "name": "stdout",
     "output_type": "stream",
     "text": [
      "These are the missing dates on the updated data: \n",
      " DatetimeIndex([], dtype='datetime64[ns]', freq=None)\n",
      "There are a total of 0 dates missing.\n"
     ]
    }
   ],
   "source": [
    "df_index = df.set_index(df['date'])\n",
    "df_index.index = pd.to_datetime(df_index.index)\n",
    "dates_original = pd.date_range(start=df['date'].iloc[0], end=df['date'].iloc[-1]).difference(df_index.index)\n",
    "print('These are the missing dates on the updated data: \\n', dates_original)\n",
    "print(f'There are a total of {len(dates_original)} dates missing.')"
   ],
   "metadata": {
    "collapsed": false,
    "pycharm": {
     "name": "#%%\n"
    }
   }
  },
  {
   "cell_type": "code",
   "execution_count": 200,
   "metadata": {},
   "outputs": [],
   "source": [
    "for element in x:\n",
    "    df.drop(element, inplace=True)"
   ]
  },
  {
   "cell_type": "code",
   "execution_count": 201,
   "metadata": {},
   "outputs": [],
   "source": [
    "df = df.reset_index(drop=True)"
   ]
  },
  {
   "cell_type": "code",
   "execution_count": 202,
   "metadata": {},
   "outputs": [],
   "source": [
    "path = 'results/' # Path for saving the figures later on"
   ]
  },
  {
   "cell_type": "code",
   "execution_count": 203,
   "outputs": [],
   "source": [
    "def get_station_id(city):\n",
    "    request = DwdObservationRequest(\n",
    "        parameter=DwdObservationDataset.PRECIPITATION_MORE,\n",
    "        resolution=DwdObservationResolution.DAILY,\n",
    "        period=DwdObservationPeriod.HISTORICAL\n",
    "    )\n",
    "    df = request.all().df\n",
    "    station_string = df[df['name'] == city].station_id\n",
    "    return int(station_string.iloc[0][1:])\n"
   ],
   "metadata": {
    "collapsed": false,
    "pycharm": {
     "name": "#%%\n"
    }
   }
  },
  {
   "cell_type": "markdown",
   "source": [
    "There is no Ludwigshafen in the DWD weather API, so I use Mannheim instead."
   ],
   "metadata": {
    "collapsed": false,
    "pycharm": {
     "name": "#%% md\n"
    }
   }
  },
  {
   "cell_type": "code",
   "execution_count": 204,
   "outputs": [],
   "source": [
    "ma_id = get_station_id('Mannheim')\n",
    "frei_id = get_station_id('Freiburg')"
   ],
   "metadata": {
    "collapsed": false,
    "pycharm": {
     "name": "#%%\n"
    }
   }
  },
  {
   "cell_type": "markdown",
   "metadata": {},
   "source": [
    "## What variables have an impact on water levels? https://ijc.org/en/lsbc/watershed/faq/3"
   ]
  },
  {
   "cell_type": "markdown",
   "source": [
    "200km: From Freiburg to Ludwigshafen. Rhine has a speed of 10 kph on average => Shift of 20h / approximately 1 day"
   ],
   "metadata": {
    "collapsed": false,
    "pycharm": {
     "name": "#%% md\n"
    }
   }
  },
  {
   "cell_type": "code",
   "execution_count": 205,
   "outputs": [],
   "source": [
    "def get_historical_data(station_id):\n",
    "    request = DwdObservationRequest(\n",
    "        parameter=[\n",
    "            DwdObservationParameter.DAILY.PRECIPITATION_HEIGHT\n",
    "        ],\n",
    "        resolution=DwdObservationResolution.DAILY,\n",
    "        period=DwdObservationPeriod.HISTORICAL\n",
    "    ).filter_by_station_id(station_id=(station_id, ))\n",
    "\n",
    "    return request.values.all().df\n",
    "\n",
    "def get_recent_data(station_id):\n",
    "    request = DwdObservationRequest(\n",
    "        parameter=[\n",
    "            DwdObservationParameter.DAILY.PRECIPITATION_HEIGHT\n",
    "        ],\n",
    "        resolution=DwdObservationResolution.DAILY,\n",
    "        period=DwdObservationPeriod.RECENT\n",
    "    ).filter_by_station_id(station_id=(station_id, ))\n",
    "\n",
    "    return request.values.all().df"
   ],
   "metadata": {
    "collapsed": false,
    "pycharm": {
     "name": "#%%\n"
    }
   }
  },
  {
   "cell_type": "code",
   "execution_count": 206,
   "outputs": [],
   "source": [
    "precipitation_frei_historical = get_historical_data(frei_id)\n",
    "precipitation_ma_historical = get_historical_data(ma_id)\n",
    "precipitation_frei_recent = get_recent_data(frei_id)\n",
    "precipitation_ma_recent= get_recent_data(ma_id)"
   ],
   "metadata": {
    "collapsed": false,
    "pycharm": {
     "name": "#%%\n"
    }
   }
  },
  {
   "cell_type": "markdown",
   "metadata": {},
   "source": [
    "request = DwdObservationRequest(\n",
    "    parameter=[\n",
    "        DwdObservationParameter.DAILY.PRECIPITATION_HEIGHT,\n",
    "        DwdObservationParameter.DAILY.PRESSURE_AIR_SITE,\n",
    "        DwdObservationParameter.DAILY.TEMPERATURE_AIR_MEAN_200,\n",
    "        DwdObservationParameter.DAILY.WIND_SPEED\n",
    "    ],\n",
    "    resolution=DwdObservationResolution.DAILY,\n",
    "    period=DwdObservationPeriod.HISTORICAL\n",
    ").filter_by_station_id(station_id=(5906, ))\n",
    "\n",
    "station_data = request.values.all().df\n",
    "station_data"
   ]
  },
  {
   "cell_type": "code",
   "execution_count": 207,
   "metadata": {},
   "outputs": [
    {
     "data": {
      "text/plain": "<Figure size 432x288 with 1 Axes>",
      "image/png": "[encoded data removed]"
     },
     "metadata": {
      "needs_background": "light"
     },
     "output_type": "display_data"
    }
   ],
   "source": [
    "precipitation_ma_historical.plot(x=\"date\", y=\"value\")\n",
    "plt.show()"
   ]
  },
  {
   "cell_type": "markdown",
   "source": [
    "There is some missing data since 1940 until 1950. This is of no concern, since I don't need this data anyway."
   ],
   "metadata": {
    "collapsed": false,
    "pycharm": {
     "name": "#%% md\n"
    }
   }
  },
  {
   "cell_type": "code",
   "execution_count": 208,
   "metadata": {
    "scrolled": true
   },
   "outputs": [
    {
     "name": "stdout",
     "output_type": "stream",
     "text": [
      "28125 550\n"
     ]
    },
    {
     "data": {
      "text/plain": "<Figure size 432x288 with 1 Axes>",
      "image/png": "[encoded data removed]"
     },
     "metadata": {
      "needs_background": "light"
     },
     "output_type": "display_data"
    }
   ],
   "source": [
    "precipitation_ma_recent.plot(x='date', y='value')\n",
    "print(len(precipitation_ma_historical), len(precipitation_ma_recent))"
   ]
  },
  {
   "cell_type": "code",
   "execution_count": 209,
   "metadata": {},
   "outputs": [],
   "source": [
    "#date_time = pd.to_datetime(df.pop('date'), format='%Y.%m.%d')\n",
    "#timestamp_s = date_time.map(pd.Timestamp.timestamp)"
   ]
  },
  {
   "cell_type": "markdown",
   "source": [
    "Adjust the data to be in the right range:"
   ],
   "metadata": {
    "collapsed": false,
    "pycharm": {
     "name": "#%% md\n"
    }
   }
  },
  {
   "cell_type": "code",
   "execution_count": 210,
   "metadata": {},
   "outputs": [],
   "source": [
    "precipitation_ma_historical['date'] = pd.to_datetime(precipitation_ma_historical['date'], unit='s').dt.date\n",
    "precipitation_ma_recent['date'] = pd.to_datetime(precipitation_ma_recent['date'], unit='s').dt.date"
   ]
  },
  {
   "cell_type": "code",
   "execution_count": 211,
   "metadata": {},
   "outputs": [
    {
     "name": "stderr",
     "output_type": "stream",
     "text": [
      "/tmp/ipykernel_243924/1195036194.py:3: FutureWarning: Boolean inputs to the `inclusive` argument are deprecated infavour of `both` or `neither`.\n",
      "  precipitation_ma_historical = precipitation_ma_historical.loc[precipitation_ma_historical['date'].between(startdate, enddate, inclusive=True)]\n"
     ]
    }
   ],
   "source": [
    "startdate = pd.to_datetime(df['date'].iloc[0]).date()\n",
    "enddate = pd.to_datetime(precipitation_ma_historical['date'].iloc[-1]).date()\n",
    "precipitation_ma_historical = precipitation_ma_historical.loc[precipitation_ma_historical['date'].between(startdate, enddate, inclusive=True)]"
   ]
  },
  {
   "cell_type": "code",
   "execution_count": 212,
   "metadata": {},
   "outputs": [
    {
     "data": {
      "text/plain": "      station_id          dataset             parameter        date  value  \\\n25203      05906  climate_summary  precipitation_height  2013-01-01    0.6   \n25204      05906  climate_summary  precipitation_height  2013-01-02    0.0   \n25205      05906  climate_summary  precipitation_height  2013-01-03    1.8   \n25206      05906  climate_summary  precipitation_height  2013-01-04    0.3   \n25207      05906  climate_summary  precipitation_height  2013-01-05    0.0   \n...          ...              ...                   ...         ...    ...   \n28120      05906  climate_summary  precipitation_height  2020-12-27    4.5   \n28121      05906  climate_summary  precipitation_height  2020-12-28    5.2   \n28122      05906  climate_summary  precipitation_height  2020-12-29    0.0   \n28123      05906  climate_summary  precipitation_height  2020-12-30    2.2   \n28124      05906  climate_summary  precipitation_height  2020-12-31    1.3   \n\n       quality  \n25203      9.0  \n25204      9.0  \n25205      9.0  \n25206      9.0  \n25207      9.0  \n...        ...  \n28120      3.0  \n28121      3.0  \n28122      3.0  \n28123      3.0  \n28124      3.0  \n\n[2922 rows x 6 columns]",
      "text/html": "<div>\n<style scoped>\n    .dataframe tbody tr th:only-of-type {\n        vertical-align: middle;\n    }\n\n    .dataframe tbody tr th {\n        vertical-align: top;\n    }\n\n    .dataframe thead th {\n        text-align: right;\n    }\n</style>\n<table border=\"1\" class=\"dataframe\">\n  <thead>\n    <tr style=\"text-align: right;\">\n      <th></th>\n      <th>station_id</th>\n      <th>dataset</th>\n      <th>parameter</th>\n      <th>date</th>\n      <th>value</th>\n      <th>quality</th>\n    </tr>\n  </thead>\n  <tbody>\n    <tr>\n      <th>25203</th>\n      <td>05906</td>\n      <td>climate_summary</td>\n      <td>precipitation_height</td>\n      <td>2013-01-01</td>\n      <td>0.6</td>\n      <td>9.0</td>\n    </tr>\n    <tr>\n      <th>25204</th>\n      <td>05906</td>\n      <td>climate_summary</td>\n      <td>precipitation_height</td>\n      <td>2013-01-02</td>\n      <td>0.0</td>\n      <td>9.0</td>\n    </tr>\n    <tr>\n      <th>25205</th>\n      <td>05906</td>\n      <td>climate_summary</td>\n      <td>precipitation_height</td>\n      <td>2013-01-03</td>\n      <td>1.8</td>\n      <td>9.0</td>\n    </tr>\n    <tr>\n      <th>25206</th>\n      <td>05906</td>\n      <td>climate_summary</td>\n      <td>precipitation_height</td>\n      <td>2013-01-04</td>\n      <td>0.3</td>\n      <td>9.0</td>\n    </tr>\n    <tr>\n      <th>25207</th>\n      <td>05906</td>\n      <td>climate_summary</td>\n      <td>precipitation_height</td>\n      <td>2013-01-05</td>\n      <td>0.0</td>\n      <td>9.0</td>\n    </tr>\n    <tr>\n      <th>...</th>\n      <td>...</td>\n      <td>...</td>\n      <td>...</td>\n      <td>...</td>\n      <td>...</td>\n      <td>...</td>\n    </tr>\n    <tr>\n      <th>28120</th>\n      <td>05906</td>\n      <td>climate_summary</td>\n      <td>precipitation_height</td>\n      <td>2020-12-27</td>\n      <td>4.5</td>\n      <td>3.0</td>\n    </tr>\n    <tr>\n      <th>28121</th>\n      <td>05906</td>\n      <td>climate_summary</td>\n      <td>precipitation_height</td>\n      <td>2020-12-28</td>\n      <td>5.2</td>\n      <td>3.0</td>\n    </tr>\n    <tr>\n      <th>28122</th>\n      <td>05906</td>\n      <td>climate_summary</td>\n      <td>precipitation_height</td>\n      <td>2020-12-29</td>\n      <td>0.0</td>\n      <td>3.0</td>\n    </tr>\n    <tr>\n      <th>28123</th>\n      <td>05906</td>\n      <td>climate_summary</td>\n      <td>precipitation_height</td>\n      <td>2020-12-30</td>\n      <td>2.2</td>\n      <td>3.0</td>\n    </tr>\n    <tr>\n      <th>28124</th>\n      <td>05906</td>\n      <td>climate_summary</td>\n      <td>precipitation_height</td>\n      <td>2020-12-31</td>\n      <td>1.3</td>\n      <td>3.0</td>\n    </tr>\n  </tbody>\n</table>\n<p>2922 rows × 6 columns</p>\n</div>"
     },
     "execution_count": 212,
     "metadata": {},
     "output_type": "execute_result"
    }
   ],
   "source": [
    "precipitation_ma_historical"
   ]
  },
  {
   "cell_type": "code",
   "execution_count": 213,
   "metadata": {},
   "outputs": [
    {
     "name": "stderr",
     "output_type": "stream",
     "text": [
      "/tmp/ipykernel_243924/992548827.py:3: FutureWarning: Boolean inputs to the `inclusive` argument are deprecated infavour of `both` or `neither`.\n",
      "  precipitation_ma_recent = precipitation_ma_recent.loc[precipitation_ma_recent['date'].between(startdate, enddate, inclusive=True)]\n"
     ]
    }
   ],
   "source": [
    "startdate = pd.to_datetime(\"2021-1-1\").date()\n",
    "enddate = pd.to_datetime(df['date'].iloc[-1]).date()\n",
    "precipitation_ma_recent = precipitation_ma_recent.loc[precipitation_ma_recent['date'].between(startdate, enddate, inclusive=True)]"
   ]
  },
  {
   "cell_type": "code",
   "execution_count": 214,
   "metadata": {},
   "outputs": [
    {
     "data": {
      "text/plain": "      station_id          dataset             parameter        date  value  \\\n27122      05906  climate_summary  precipitation_height  2018-04-04    NaN   \n27123      05906  climate_summary  precipitation_height  2018-04-05    NaN   \n\n       quality  \n27122      NaN  \n27123      NaN  ",
      "text/html": "<div>\n<style scoped>\n    .dataframe tbody tr th:only-of-type {\n        vertical-align: middle;\n    }\n\n    .dataframe tbody tr th {\n        vertical-align: top;\n    }\n\n    .dataframe thead th {\n        text-align: right;\n    }\n</style>\n<table border=\"1\" class=\"dataframe\">\n  <thead>\n    <tr style=\"text-align: right;\">\n      <th></th>\n      <th>station_id</th>\n      <th>dataset</th>\n      <th>parameter</th>\n      <th>date</th>\n      <th>value</th>\n      <th>quality</th>\n    </tr>\n  </thead>\n  <tbody>\n    <tr>\n      <th>27122</th>\n      <td>05906</td>\n      <td>climate_summary</td>\n      <td>precipitation_height</td>\n      <td>2018-04-04</td>\n      <td>NaN</td>\n      <td>NaN</td>\n    </tr>\n    <tr>\n      <th>27123</th>\n      <td>05906</td>\n      <td>climate_summary</td>\n      <td>precipitation_height</td>\n      <td>2018-04-05</td>\n      <td>NaN</td>\n      <td>NaN</td>\n    </tr>\n  </tbody>\n</table>\n</div>"
     },
     "execution_count": 214,
     "metadata": {},
     "output_type": "execute_result"
    }
   ],
   "source": [
    "precipitation_ma_historical[precipitation_ma_historical.isna().any(axis=1)]\n"
   ]
  },
  {
   "cell_type": "code",
   "execution_count": 215,
   "metadata": {},
   "outputs": [
    {
     "data": {
      "text/plain": "Empty DataFrame\nColumns: [station_id, dataset, parameter, date, value, quality]\nIndex: []",
      "text/html": "<div>\n<style scoped>\n    .dataframe tbody tr th:only-of-type {\n        vertical-align: middle;\n    }\n\n    .dataframe tbody tr th {\n        vertical-align: top;\n    }\n\n    .dataframe thead th {\n        text-align: right;\n    }\n</style>\n<table border=\"1\" class=\"dataframe\">\n  <thead>\n    <tr style=\"text-align: right;\">\n      <th></th>\n      <th>station_id</th>\n      <th>dataset</th>\n      <th>parameter</th>\n      <th>date</th>\n      <th>value</th>\n      <th>quality</th>\n    </tr>\n  </thead>\n  <tbody>\n  </tbody>\n</table>\n</div>"
     },
     "execution_count": 215,
     "metadata": {},
     "output_type": "execute_result"
    }
   ],
   "source": [
    "precipitation_ma_recent[precipitation_ma_recent.isna().any(axis=1)]\n"
   ]
  },
  {
   "cell_type": "markdown",
   "source": [
    "Unfortunately, the the historical data of the DWD has two NaN values in it. In the following, I will simply interpolate these missing values using ffill. This will propagate the last observed value to it. This may not be the optimal solution for dealing with these two specific missing values, but in the grand scheme of things, when using an LSTM, this should not be an issue."
   ],
   "metadata": {
    "collapsed": false,
    "pycharm": {
     "name": "#%% md\n"
    }
   }
  },
  {
   "cell_type": "code",
   "execution_count": 216,
   "metadata": {},
   "outputs": [],
   "source": [
    "precipitation_ma_historical = precipitation_ma_historical.fillna(method='ffill')"
   ]
  },
  {
   "cell_type": "code",
   "execution_count": 217,
   "metadata": {},
   "outputs": [],
   "source": [
    "precipitation_total = precipitation_ma_historical.append(precipitation_ma_recent).reset_index(drop=True)"
   ]
  },
  {
   "cell_type": "code",
   "execution_count": 218,
   "metadata": {},
   "outputs": [],
   "source": [
    "precipitation_total = precipitation_total.rename({'value':'precipitation_height'}, axis=1)\n",
    "precipitation_total = precipitation_total.drop(['parameter', 'dataset', 'station_id', 'quality'], axis=1)"
   ]
  },
  {
   "cell_type": "code",
   "execution_count": 224,
   "metadata": {},
   "outputs": [
    {
     "name": "stdout",
     "output_type": "stream",
     "text": [
      "Length of data: 3222, length of DWD data: 3222\n"
     ]
    }
   ],
   "source": [
    "print(f'Length of data: {len(df)}, length of DWD data: {len(precipitation_total)}')\n",
    "assert(len(precipitation_total) == len(df))"
   ]
  },
  {
   "cell_type": "code",
   "execution_count": 220,
   "metadata": {},
   "outputs": [],
   "source": [
    "df = df.drop('date', axis = 1)"
   ]
  },
  {
   "cell_type": "code",
   "execution_count": 221,
   "metadata": {},
   "outputs": [],
   "source": [
    "precipitation_total = precipitation_total.drop('date', axis = 1)"
   ]
  },
  {
   "cell_type": "code",
   "execution_count": 225,
   "metadata": {},
   "outputs": [],
   "source": [
    "df['precipitation_height'] = precipitation_total['precipitation_height']"
   ]
  },
  {
   "cell_type": "markdown",
   "source": [
    "## Correlation between precipitation and water level"
   ],
   "metadata": {
    "collapsed": false,
    "pycharm": {
     "name": "#%% md\n"
    }
   }
  },
  {
   "cell_type": "code",
   "execution_count": 229,
   "metadata": {},
   "outputs": [
    {
     "data": {
      "text/plain": "0.051382945005641625"
     },
     "execution_count": 229,
     "metadata": {},
     "output_type": "execute_result"
    }
   ],
   "source": [
    "df['precipitation_height'].corr(df['level'], method='pearson')"
   ]
  },
  {
   "cell_type": "code",
   "execution_count": 230,
   "outputs": [
    {
     "data": {
      "text/plain": "0.0872453995941518"
     },
     "execution_count": 230,
     "metadata": {},
     "output_type": "execute_result"
    }
   ],
   "source": [
    "df['precipitation_height'].corr(df['level'], method='spearman')"
   ],
   "metadata": {
    "collapsed": false,
    "pycharm": {
     "name": "#%%\n"
    }
   }
  },
  {
   "cell_type": "code",
   "execution_count": 231,
   "outputs": [
    {
     "data": {
      "text/plain": "0.06425507984818286"
     },
     "execution_count": 231,
     "metadata": {},
     "output_type": "execute_result"
    }
   ],
   "source": [
    "df['precipitation_height'].corr(df['level'], method='kendall')"
   ],
   "metadata": {
    "collapsed": false,
    "pycharm": {
     "name": "#%%\n"
    }
   }
  },
  {
   "cell_type": "markdown",
   "source": [
    "When looking at every different correlation method, it would seem like precipitation is not correlated to the water level. An interesting thing is that spearman correlation > pearson correlation, which means that the correlation is rather monotonic than linear. Interestingly enough, it still seems that the correlation is pretty low between these two variables even though intuitively, precipitation should have a large effect on the water level. Maybe the precipitation takes longer to have an effect on the water level."
   ],
   "metadata": {
    "collapsed": false,
    "pycharm": {
     "name": "#%% md\n"
    }
   }
  },
  {
   "cell_type": "markdown",
   "metadata": {},
   "source": [
    "Split the data in train-validation-test split: 70:20:10 ratio. In order to get a more accurate overall presentation of the data, i.e. to guarantee that the data is i.i.d, one could randomly shuffle the data. This generally leads to lower variance and less overfitting when training a neural network. I did not decide to do this however, since this would influence the performance of the model because the data points are time dependent on each other."
   ]
  },
  {
   "cell_type": "code",
   "execution_count": null,
   "metadata": {},
   "outputs": [],
   "source": [
    "column_indices = {name: i for i, name in enumerate(df.columns)}\n",
    "train_df = df[0:int(len(df)*0.7)]\n",
    "val_df = df[int(len(df)*0.7):int(len(df)*0.9)]\n",
    "test_df = df[int(len(df)*0.9):]\n",
    "\n",
    "num_features = df.shape[1]"
   ]
  },
  {
   "cell_type": "code",
   "execution_count": null,
   "metadata": {},
   "outputs": [],
   "source": [
    "train_df.describe()"
   ]
  },
  {
   "cell_type": "code",
   "execution_count": null,
   "metadata": {
    "scrolled": true
   },
   "outputs": [],
   "source": [
    "test_df.describe()"
   ]
  },
  {
   "cell_type": "code",
   "execution_count": null,
   "metadata": {},
   "outputs": [],
   "source": [
    "print(f'Train mean: {train_df[\"level\"].mean()}, Train std: {train_df[\"level\"].std()}')"
   ]
  },
  {
   "cell_type": "code",
   "execution_count": null,
   "metadata": {},
   "outputs": [],
   "source": [
    "print(f'Validation mean: {val_df[\"level\"].mean()}, {val_df[\"level\"].std()}')"
   ]
  },
  {
   "cell_type": "code",
   "execution_count": null,
   "metadata": {
    "scrolled": true
   },
   "outputs": [],
   "source": [
    "print(f'Test mean: {test_df[\"level\"].mean()}, {test_df[\"level\"].std()}')"
   ]
  },
  {
   "cell_type": "markdown",
   "metadata": {},
   "source": [
    "As could be seen in the notebook 'analysis', there is a trend in the data. While there exists an overall downward trend in the water levels of the rhine, as can be seen via linear regression, the overall mean level in the last 10% of the time series actually rose significantly. This is also due to the higher standard deviation, i.e. the water levels have higher highs and lower lows."
   ]
  },
  {
   "cell_type": "markdown",
   "metadata": {},
   "source": [
    "Test, if split was successful."
   ]
  },
  {
   "cell_type": "code",
   "execution_count": null,
   "metadata": {},
   "outputs": [],
   "source": [
    "assert(len(train_df) + len(val_df) + len(test_df) == len(df))"
   ]
  },
  {
   "cell_type": "markdown",
   "metadata": {},
   "source": [
    "Maybe use moving averages instead of average in the next cell since the model shouldn't have access to future values in the training set when training?!"
   ]
  },
  {
   "cell_type": "code",
   "execution_count": null,
   "metadata": {},
   "outputs": [],
   "source": [
    "pre_transformation = train_df"
   ]
  },
  {
   "cell_type": "markdown",
   "metadata": {},
   "source": [
    "Since there are many outliers, we use the RobustScaler instead of the StandardScaler."
   ]
  },
  {
   "cell_type": "code",
   "execution_count": null,
   "metadata": {},
   "outputs": [],
   "source": [
    "scaler = RobustScaler().fit(train_df.values)\n",
    "train_scaled = scaler.transform(train_df)\n",
    "val_scaled = scaler.transform(val_df)\n",
    "test_scaled = scaler.transform(test_df)"
   ]
  },
  {
   "cell_type": "code",
   "execution_count": null,
   "metadata": {},
   "outputs": [],
   "source": [
    "train_df = pd.DataFrame(train_scaled, index=train_df.index, columns=train_df.columns)\n",
    "val_df = pd.DataFrame(val_scaled, index=val_df.index, columns=val_df.columns)\n",
    "test_df = pd.DataFrame(test_scaled, index=test_df.index, columns=test_df.columns)"
   ]
  },
  {
   "cell_type": "code",
   "execution_count": null,
   "metadata": {
    "scrolled": true
   },
   "outputs": [],
   "source": [
    "train_df"
   ]
  },
  {
   "cell_type": "code",
   "execution_count": null,
   "metadata": {},
   "outputs": [],
   "source": [
    "pre_transformation"
   ]
  },
  {
   "cell_type": "code",
   "execution_count": null,
   "metadata": {},
   "outputs": [],
   "source": [
    "pre_transformation.plot()\n",
    "train_df.plot()"
   ]
  },
  {
   "cell_type": "code",
   "execution_count": null,
   "metadata": {},
   "outputs": [],
   "source": [
    "print(f' The data pre transformation is in range [{pre_transformation[\"level\"].min()},  {pre_transformation[\"level\"].max()}]\\n'\n",
    "      f' the data after transformation is in range: [{round(test_df[\"level\"].min(),2)}, {round(test_df[\"level\"].max(), 2)}]')\n",
    "      "
   ]
  },
  {
   "cell_type": "code",
   "execution_count": null,
   "metadata": {},
   "outputs": [],
   "source": [
    "class WindowGenerator():\n",
    "    def __init__(self, input_width, label_width, shift,\n",
    "                   train_df=train_df, val_df=val_df, test_df=test_df,\n",
    "                   label_columns=None):\n",
    "        # Store the raw data.\n",
    "        self.train_df = train_df\n",
    "        self.val_df = val_df\n",
    "        self.test_df = test_df\n",
    "\n",
    "        # Work out the label column indices.\n",
    "        self.label_columns = label_columns\n",
    "        if label_columns is not None:\n",
    "            self.label_columns_indices = {name: i for i, name in\n",
    "                                        enumerate(label_columns)}\n",
    "        self.column_indices = {name: i for i, name in\n",
    "                               enumerate(train_df.columns)}\n",
    "\n",
    "        # Work out the window parameters.\n",
    "        self.input_width = input_width\n",
    "        self.label_width = label_width\n",
    "        self.shift = shift\n",
    "\n",
    "        self.total_window_size = input_width + shift\n",
    "\n",
    "        self.input_slice = slice(0, input_width)\n",
    "        self.input_indices = np.arange(self.total_window_size)[self.input_slice]\n",
    "\n",
    "        self.label_start = self.total_window_size - self.label_width\n",
    "        self.labels_slice = slice(self.label_start, None)\n",
    "        self.label_indices = np.arange(self.total_window_size)[self.labels_slice]\n",
    "        \n",
    "    \n",
    "    def __repr__(self):\n",
    "        return '\\n'.join([\n",
    "            f'Total window size: {self.total_window_size}',\n",
    "            f'Input indices: {self.input_indices}',\n",
    "            f'Label indices: {self.label_indices}',\n",
    "            f'Label column name(s): {self.label_columns}'])"
   ]
  },
  {
   "cell_type": "code",
   "execution_count": null,
   "metadata": {},
   "outputs": [],
   "source": [
    "def split_window(self, features):\n",
    "    inputs = features[:, self.input_slice, :]\n",
    "    labels = features[:, self.labels_slice, :]\n",
    "    if self.label_columns is not None:\n",
    "        labels = tf.stack(\n",
    "            [labels[:, :, self.column_indices[name]] for name in self.label_columns],\n",
    "            axis=-1)\n",
    "\n",
    "    # Slicing doesn't preserve static shape information, so set the shapes\n",
    "    # manually. This way the `tf.data.Datasets` are easier to inspect.\n",
    "    inputs.set_shape([None, self.input_width, None])\n",
    "    labels.set_shape([None, self.label_width, None])\n",
    "\n",
    "    return inputs, labels\n",
    "\n",
    "WindowGenerator.split_window = split_window"
   ]
  },
  {
   "cell_type": "code",
   "execution_count": null,
   "metadata": {},
   "outputs": [],
   "source": [
    "def plot(self, model=None, plot_col='level', max_subplots=3):\n",
    "    inputs, labels = self.example\n",
    "    plt.figure(figsize=(12, 8))\n",
    "    plot_col_index = self.column_indices[plot_col]\n",
    "    max_n = min(max_subplots, len(inputs))\n",
    "    for n in range(max_n):\n",
    "        plt.subplot(max_n, 1, n+1)\n",
    "        plt.ylabel(f'{plot_col} [normed]')\n",
    "        plt.plot(self.input_indices, inputs[n, :, plot_col_index], label='Inputs', marker='.', zorder=-10)\n",
    "\n",
    "        if self.label_columns:\n",
    "            label_col_index = self.label_columns_indices.get(plot_col, None)\n",
    "        else:\n",
    "            label_col_index = plot_col_index\n",
    "\n",
    "        if label_col_index is None:\n",
    "            continue\n",
    "    \n",
    "        plt.scatter(self.label_indices, labels[n, :, label_col_index],\n",
    "                    edgecolors='k', label='Labels', c='#2ca02c', s=64)\n",
    "        if model is not None:\n",
    "            predictions = model(inputs)\n",
    "            plt.scatter(self.label_indices, predictions[n, :, label_col_index],\n",
    "                      marker='X', edgecolors='k', label='Predictions',\n",
    "                      c='#ff7f0e', s=64)\n",
    "\n",
    "        if n == 0:\n",
    "            plt.legend()\n",
    "\n",
    "    plt.xlabel('Day')\n",
    "\n",
    "WindowGenerator.plot = plot\n"
   ]
  },
  {
   "cell_type": "code",
   "execution_count": null,
   "metadata": {},
   "outputs": [],
   "source": [
    "@property\n",
    "def train(self):\n",
    "    return self.make_dataset(self.train_df)\n",
    "\n",
    "@property\n",
    "def val(self):\n",
    "    return self.make_dataset(self.val_df)\n",
    "\n",
    "@property\n",
    "def test(self):\n",
    "    return self.make_dataset(self.test_df)\n",
    "\n",
    "@property\n",
    "def example(self):\n",
    "    \"\"\"Get and cache an example batch of `inputs, labels` for plotting.\"\"\"\n",
    "    result = getattr(self, '_example', None)\n",
    "    if result is None:\n",
    "        # No example batch was found, so get one from the `.train` dataset\n",
    "        result = next(iter(self.train))\n",
    "        # And cache it for next time\n",
    "        self._example = result\n",
    "    return result\n",
    "\n",
    "WindowGenerator.train = train\n",
    "WindowGenerator.val = val\n",
    "WindowGenerator.test = test\n",
    "WindowGenerator.example = example"
   ]
  },
  {
   "cell_type": "code",
   "execution_count": null,
   "metadata": {},
   "outputs": [],
   "source": [
    "def make_dataset(self, data):\n",
    "    data = np.array(data, dtype=np.float32)\n",
    "    ds = tf.keras.preprocessing.timeseries_dataset_from_array(\n",
    "      data=data,\n",
    "      targets=None,\n",
    "      sequence_length=self.total_window_size,\n",
    "      sequence_stride=1,\n",
    "      shuffle=True,\n",
    "      batch_size=32,)\n",
    "\n",
    "    ds = ds.map(self.split_window)\n",
    "\n",
    "    return ds\n",
    "\n",
    "WindowGenerator.make_dataset = make_dataset"
   ]
  },
  {
   "cell_type": "code",
   "execution_count": null,
   "metadata": {},
   "outputs": [],
   "source": [
    "single_step_window = WindowGenerator(\n",
    "    input_width=30, label_width=30, shift=7,\n",
    "    label_columns=['level'])\n",
    "single_step_window\n",
    "\n",
    "single_step_window\n"
   ]
  },
  {
   "cell_type": "code",
   "execution_count": null,
   "metadata": {
    "scrolled": true
   },
   "outputs": [],
   "source": [
    "for example_inputs, example_labels in single_step_window.train.take(1):\n",
    "    print(f'Inputs shape (batch, time, features): {example_inputs.shape}')\n",
    "    print(f'Labels shape (batch, time, features): {example_labels.shape}')\n",
    "    "
   ]
  },
  {
   "cell_type": "code",
   "execution_count": null,
   "metadata": {},
   "outputs": [],
   "source": [
    "class Baseline(tf.keras.Model):\n",
    "    def __init__(self, label_index=None):\n",
    "        super().__init__()\n",
    "        self.label_index = label_index\n",
    "\n",
    "    def call(self, inputs):\n",
    "        if self.label_index is None:\n",
    "            return inputs\n",
    "        result = inputs[:, :, self.label_index]\n",
    "        return result[:, :, tf.newaxis]\n"
   ]
  },
  {
   "cell_type": "code",
   "execution_count": null,
   "metadata": {
    "scrolled": true
   },
   "outputs": [],
   "source": [
    "baseline = Baseline(label_index=column_indices['level'])\n",
    "\n",
    "baseline.compile(loss=tf.losses.MeanSquaredError(),\n",
    "                 metrics=[tf.metrics.MeanAbsoluteError()])\n",
    "\n",
    "val_performance = {}\n",
    "performance = {}\n",
    "val_performance['Baseline'] = baseline.evaluate(single_step_window.val)\n",
    "performance['Baseline'] = baseline.evaluate(single_step_window.test, verbose=0)\n"
   ]
  },
  {
   "cell_type": "code",
   "execution_count": null,
   "metadata": {
    "scrolled": true
   },
   "outputs": [],
   "source": [
    "single_step_window.plot(baseline)\n"
   ]
  },
  {
   "cell_type": "code",
   "execution_count": null,
   "metadata": {},
   "outputs": [],
   "source": [
    "MAX_EPOCHS = 200\n",
    "\n",
    "def compile_and_fit(model, window, patience=2):\n",
    "    early_stopping = tf.keras.callbacks.EarlyStopping(monitor='val_loss',\n",
    "                                                    patience=patience,\n",
    "                                                    mode='min')\n",
    "\n",
    "    model.compile(loss=tf.keras.losses.Huber(),\n",
    "                optimizer=tf.optimizers.Adam(),\n",
    "                metrics=[tf.metrics.MeanAbsoluteError()])\n",
    "\n",
    "    history = model.fit(window.train, epochs=MAX_EPOCHS,\n",
    "                      validation_data=window.val,\n",
    "                      callbacks=[early_stopping])\n",
    "    return history"
   ]
  },
  {
   "cell_type": "markdown",
   "metadata": {},
   "source": [
    "Using Huber Loss for more robustness against outliers (vs for example mean squared error)"
   ]
  },
  {
   "cell_type": "code",
   "execution_count": null,
   "metadata": {},
   "outputs": [],
   "source": [
    "lstm_model = tf.keras.models.Sequential([\n",
    "    # Shape [batch, time, features] => [batch, time, lstm_units]\n",
    "    tf.keras.layers.LSTM(6, return_sequences=True),\n",
    "    tf.keras.layers.LSTM(4, return_sequences=True),\n",
    "    tf.keras.layers.Dense(units=1)\n",
    "])\n"
   ]
  },
  {
   "cell_type": "code",
   "execution_count": null,
   "metadata": {},
   "outputs": [],
   "source": [
    "history = compile_and_fit(lstm_model, single_step_window)\n",
    "train_performance = {}\n",
    "IPython.display.clear_output()\n",
    "train_performance['LSTM'] = lstm_model.evaluate(single_step_window.train)\n",
    "val_performance['LSTM'] = lstm_model.evaluate(single_step_window.val)\n",
    "performance['LSTM'] = lstm_model.evaluate(single_step_window.test, verbose=0)\n",
    "\n"
   ]
  },
  {
   "cell_type": "code",
   "execution_count": null,
   "metadata": {
    "scrolled": false
   },
   "outputs": [],
   "source": [
    "lstm_model.summary()"
   ]
  },
  {
   "cell_type": "code",
   "execution_count": null,
   "metadata": {},
   "outputs": [],
   "source": [
    "plt.plot(history.history['val_mean_absolute_error'])\n",
    "plt.plot(history.history['mean_absolute_error'])"
   ]
  },
  {
   "cell_type": "code",
   "execution_count": null,
   "metadata": {},
   "outputs": [],
   "source": [
    "plt.plot(history.history['loss'])\n",
    "plt.plot(history.history['val_loss'])"
   ]
  },
  {
   "cell_type": "code",
   "execution_count": null,
   "metadata": {
    "scrolled": true
   },
   "outputs": [],
   "source": [
    "single_step_window.plot(lstm_model)"
   ]
  },
  {
   "cell_type": "code",
   "execution_count": null,
   "metadata": {
    "scrolled": false
   },
   "outputs": [],
   "source": [
    "for name, value in performance.items():\n",
    "    print(f'Test Mean absolute Error {name:12s}: {value[1]:0.4f}')\n"
   ]
  },
  {
   "cell_type": "markdown",
   "metadata": {},
   "source": [
    "StandardScaler:\n",
    "Baseline test: 0.1192\n",
    "LSTM test: 0.0842\n",
    "\n",
    "RobustScaler:\n",
    "Baseline test    : 0.1040\n",
    "LSTM test     : 0.0708\n",
    "\n",
    "PowerTransformer:\n",
    "Baseline test: 0.1016\n",
    "LSTM test: 0.0721\n",
    "\n",
    "When deleting the data with zscore < 3 and RobustScaler:\n",
    "Baseline test   : 0.0960\n",
    "LSTM test        : 0.0675\n"
   ]
  },
  {
   "cell_type": "markdown",
   "metadata": {},
   "source": [
    "Test Mean absolute Error Baseline    : 0.4157\n",
    "Test Mean absolute Error LSTM        : 0.4026"
   ]
  },
  {
   "cell_type": "markdown",
   "metadata": {},
   "source": [
    "with 30 index, 30 label, 7 shift:\n",
    "\n",
    "\n",
    "Feed forward network: 16, 4 layers: \n",
    "\n",
    "Test Mean absolute Error Baseline    : 0.4157\n",
    "Test Mean absolute Error LSTM        : 0.3795\n",
    "\n",
    "\n",
    "\n",
    "LSTM: 6,4 layers:\n",
    "\n",
    "Test Mean absolute Error Baseline    : 0.4157\n",
    "Test Mean absolute Error LSTM        : 0.3875"
   ]
  },
  {
   "cell_type": "code",
   "execution_count": null,
   "metadata": {
    "scrolled": false
   },
   "outputs": [],
   "source": [
    "x = np.arange(len(performance))\n",
    "width = 0.3\n",
    "metric_name = 'mean_absolute_error'\n",
    "metric_index = lstm_model.metrics_names.index('mean_absolute_error')\n",
    "val_mae = [v[metric_index] for v in val_performance.values()]\n",
    "test_mae = [v[metric_index] for v in performance.values()]\n",
    "\n",
    "plt.ylabel('mean_absolute_error (normalized)]')\n",
    "plt.bar(x - 0.17, val_mae, width, label='Validation')\n",
    "plt.bar(x + 0.17, test_mae, width, label='Test')\n",
    "plt.xticks(ticks=x, labels=performance.keys(),\n",
    "           rotation=45)\n",
    "_ = plt.legend()\n"
   ]
  },
  {
   "cell_type": "code",
   "execution_count": null,
   "metadata": {},
   "outputs": [],
   "source": [
    "plt.ylabel('mean_absolute_error [T (degC), normalized]')\n",
    "x = np.arange(3)\n",
    "LSTM_performance = [train_performance['LSTM'][1], val_performance['LSTM'][1], performance['LSTM'][1]]\n",
    "barlist = plt.bar(x, LSTM_performance)\n",
    "plt.xticks(ticks=x, labels=['train error', 'val error', 'test error'],\n",
    "           rotation=45)\n",
    "barlist[0].set_color('orange')\n",
    "barlist[1].set_color('g')"
   ]
  },
  {
   "cell_type": "markdown",
   "metadata": {},
   "source": [
    "plt.scatter(self.label_indices, labels[n, :, label_col_index],\n",
    "                    edgecolors='k', label='Labels', c='#2ca02c', s=64)\n",
    "predictions = model(inputs)\n",
    "plt.scatter(self.label_indices, predictions[n, :, label_col_index], marker='X', edgecolors='k', label='Predictions', c='#ff7f0e', s=64)"
   ]
  },
  {
   "cell_type": "code",
   "execution_count": null,
   "metadata": {},
   "outputs": [],
   "source": []
  },
  {
   "cell_type": "code",
   "execution_count": null,
   "metadata": {},
   "outputs": [],
   "source": []
  },
  {
   "cell_type": "code",
   "execution_count": null,
   "metadata": {},
   "outputs": [],
   "source": [
    "print(history.history.keys())"
   ]
  },
  {
   "cell_type": "code",
   "execution_count": null,
   "metadata": {},
   "outputs": [],
   "source": []
  },
  {
   "cell_type": "code",
   "execution_count": null,
   "metadata": {},
   "outputs": [],
   "source": []
  },
  {
   "cell_type": "code",
   "execution_count": null,
   "metadata": {},
   "outputs": [],
   "source": [
    "ffn_model = tf.keras.models.Sequential([\n",
    "    # Shape [batch, time, features] => [batch, time, lstm_units]\n",
    "    tf.keras.layers.Dense(6),\n",
    "    tf.keras.layers.Dense(4),\n",
    "    tf.keras.layers.Dense(units=1)\n",
    "])\n"
   ]
  },
  {
   "cell_type": "code",
   "execution_count": null,
   "metadata": {},
   "outputs": [],
   "source": [
    "history = compile_and_fit(ffn_model, single_step_window)\n",
    "train_performance = {}\n",
    "IPython.display.clear_output()\n",
    "train_performance['Dense'] = ffn_model.evaluate(single_step_window.train)\n",
    "val_performance['Dense'] = ffn_model.evaluate(single_step_window.val)\n",
    "performance['Dense'] = ffn_model.evaluate(single_step_window.test, verbose=0)\n",
    "\n"
   ]
  },
  {
   "cell_type": "code",
   "execution_count": null,
   "metadata": {
    "scrolled": true
   },
   "outputs": [],
   "source": [
    "ffn_model.summary()"
   ]
  },
  {
   "cell_type": "code",
   "execution_count": null,
   "metadata": {},
   "outputs": [],
   "source": [
    "print(history.history.keys())"
   ]
  },
  {
   "cell_type": "code",
   "execution_count": null,
   "metadata": {},
   "outputs": [],
   "source": [
    "plt.plot(history.history['val_mean_absolute_error'])\n",
    "plt.plot(history.history['mean_absolute_error'])"
   ]
  },
  {
   "cell_type": "code",
   "execution_count": null,
   "metadata": {
    "scrolled": true
   },
   "outputs": [],
   "source": [
    "single_step_window.plot(ffn_model)"
   ]
  },
  {
   "cell_type": "code",
   "execution_count": null,
   "metadata": {
    "scrolled": false
   },
   "outputs": [],
   "source": [
    "for name, value in performance.items():\n",
    "    print(f'Test Mean absolute Error {name:12s}: {value[1]:0.4f}')\n"
   ]
  },
  {
   "cell_type": "markdown",
   "metadata": {},
   "source": [
    "StandardScaler:\n",
    "Baseline test: 0.1192\n",
    "LSTM test: 0.0842\n",
    "\n",
    "RobustScaler:\n",
    "Baseline test    : 0.1040\n",
    "LSTM test     : 0.0708\n",
    "\n",
    "PowerTransformer:\n",
    "Baseline test: 0.1016\n",
    "LSTM test: 0.0721\n",
    "\n",
    "When deleting the data with zscore < 3 and RobustScaler:\n",
    "Baseline test   : 0.0960\n",
    "LSTM test        : 0.0675\n"
   ]
  },
  {
   "cell_type": "markdown",
   "metadata": {},
   "source": [
    "Test Mean absolute Error Baseline    : 0.4157\n",
    "Test Mean absolute Error LSTM        : 0.4026"
   ]
  },
  {
   "cell_type": "markdown",
   "metadata": {},
   "source": [
    "with 30 index, 30 label, 7 shift:\n",
    "\n",
    "\n",
    "Feed forward network: 16, 4 layers: \n",
    "\n",
    "Test Mean absolute Error Baseline    : 0.4157\n",
    "Test Mean absolute Error LSTM        : 0.3795\n",
    "\n",
    "\n",
    "\n",
    "LSTM: 6,4 layers:\n",
    "\n",
    "Test Mean absolute Error Baseline    : 0.4157\n",
    "Test Mean absolute Error LSTM        : 0.3875"
   ]
  },
  {
   "cell_type": "code",
   "execution_count": null,
   "metadata": {
    "scrolled": false
   },
   "outputs": [],
   "source": [
    "x = np.arange(len(performance))\n",
    "width = 0.3\n",
    "metric_name = 'mean_absolute_error'\n",
    "metric_index = lstm_model.metrics_names.index('mean_absolute_error')\n",
    "val_mae = [v[metric_index] for v in val_performance.values()]\n",
    "test_mae = [v[metric_index] for v in performance.values()]\n",
    "\n",
    "plt.ylabel('mean_absolute_error (normalized)]')\n",
    "plt.bar(x - 0.17, val_mae, width, label='Validation')\n",
    "plt.bar(x + 0.17, test_mae, width, label='Test')\n",
    "plt.xticks(ticks=x, labels=performance.keys(),\n",
    "           rotation=45)\n",
    "_ = plt.legend()\n"
   ]
  },
  {
   "cell_type": "code",
   "execution_count": null,
   "metadata": {},
   "outputs": [],
   "source": [
    "plt.ylabel('mean_absolute_error [T (degC), normalized]')\n",
    "x = np.arange(3)\n",
    "dense_performance = [train_performance['Dense'][1], val_performance['Dense'][1], performance['Dense'][1]]\n",
    "barlist = plt.bar(x, dense_performance)\n",
    "plt.xticks(ticks=x, labels=['train error', 'val error', 'test error'],\n",
    "           rotation=45)\n",
    "barlist[0].set_color('orange')\n",
    "barlist[1].set_color('g')"
   ]
  },
  {
   "cell_type": "code",
   "execution_count": null,
   "metadata": {},
   "outputs": [],
   "source": []
  },
  {
   "cell_type": "code",
   "execution_count": null,
   "metadata": {},
   "outputs": [],
   "source": []
  }
 ],
 "metadata": {
  "kernelspec": {
   "display_name": "Python forecasting",
   "language": "python",
   "name": "forecasting"
  },
  "language_info": {
   "codemirror_mode": {
    "name": "ipython",
    "version": 3
   },
   "file_extension": ".py",
   "mimetype": "text/x-python",
   "name": "python",
   "nbconvert_exporter": "python",
   "pygments_lexer": "ipython3",
   "version": "3.9.7"
  }
 },
 "nbformat": 4,
 "nbformat_minor": 4
}
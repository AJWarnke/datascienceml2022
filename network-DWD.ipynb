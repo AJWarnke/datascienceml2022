{
 "cells": [
  {
   "cell_type": "markdown",
   "metadata": {},
   "source": [
    "# Forecasting Water Levels using LSTMs"
   ]
  },
  {
   "cell_type": "code",
   "execution_count": 225,
   "metadata": {},
   "outputs": [],
   "source": [
    "import IPython.display\n",
    "from operator import itemgetter\n",
    "import matplotlib.pyplot as plt\n",
    "import numpy as np\n",
    "import pandas as pd\n",
    "import tensorflow as tf\n",
    "from sklearn.preprocessing import RobustScaler\n",
    "from datetime import timedelta\n",
    "from wetterdienst import Wetterdienst, Period, Resolution\n",
    "from wetterdienst.provider.dwd.observation import DwdObservationRequest, \\\n",
    "    DwdObservationPeriod, DwdObservationResolution, DwdObservationParameter, DwdObservationDataset"
   ]
  },
  {
   "cell_type": "code",
   "execution_count": 226,
   "outputs": [],
   "source": [
    "path = 'results/'  # Path for saving the figures later on"
   ],
   "metadata": {
    "collapsed": false,
    "pycharm": {
     "name": "#%%\n"
    }
   }
  },
  {
   "cell_type": "markdown",
   "source": [
    "First, look at any missing or duplicate values in the dataset."
   ],
   "metadata": {
    "collapsed": false,
    "pycharm": {
     "name": "#%% md\n"
    }
   }
  },
  {
   "cell_type": "code",
   "execution_count": 227,
   "metadata": {},
   "outputs": [
    {
     "name": "stdout",
     "output_type": "stream",
     "text": [
      " Show duplicate values, if any: []\n"
     ]
    }
   ],
   "source": [
    "df = pd.read_csv('data/Kaub_Level_Since_2013_updated_v2.csv')\n",
    "x = df[df.duplicated(['date'])].index\n",
    "print(f' Show duplicate values, if any: {x.values}')"
   ]
  },
  {
   "cell_type": "code",
   "execution_count": 228,
   "outputs": [
    {
     "name": "stdout",
     "output_type": "stream",
     "text": [
      "These are the missing dates on the updated data, if any: \n",
      " []\n",
      "There are a total of 0 dates missing.\n"
     ]
    }
   ],
   "source": [
    "df_index = df.set_index(df['date'])\n",
    "df_index.index = pd.to_datetime(df_index.index)\n",
    "dates_original = pd.date_range(start=df['date'].iloc[0], end=df['date'].iloc[-1]).difference(df_index.index)\n",
    "print('These are the missing dates on the updated data, if any: \\n', dates_original.values)\n",
    "print(f'There are a total of {len(dates_original)} dates missing.')"
   ],
   "metadata": {
    "collapsed": false,
    "pycharm": {
     "name": "#%%\n"
    }
   }
  },
  {
   "cell_type": "markdown",
   "source": [
    "Look at available stations near the Rhine. This is done by only filtering the state Baden Württemberg and also using only stations that have also recent data available, because some of the stations have seemingly not been used anymore in the last few years."
   ],
   "metadata": {
    "collapsed": false,
    "pycharm": {
     "name": "#%% md\n"
    }
   }
  },
  {
   "cell_type": "code",
   "execution_count": 229,
   "outputs": [],
   "source": [
    "stations = DwdObservationRequest(parameter=DwdObservationDataset.PRECIPITATION_MORE,resolution=Resolution.DAILY,period=Period.HISTORICAL)"
   ],
   "metadata": {
    "collapsed": false,
    "pycharm": {
     "name": "#%%\n"
    }
   }
  },
  {
   "cell_type": "code",
   "execution_count": 230,
   "outputs": [
    {
     "data": {
      "text/plain": "     station_id                 from_date                   to_date  height  \\\n1483      01680 1931-01-01 00:00:00+00:00 2021-12-12 00:00:00+00:00   368.0   \n\n      latitude  longitude                   name              state  \n1483   48.6889     9.6345  Göppingen-Jebenhausen  Baden-Württemberg  ",
      "text/html": "<div>\n<style scoped>\n    .dataframe tbody tr th:only-of-type {\n        vertical-align: middle;\n    }\n\n    .dataframe tbody tr th {\n        vertical-align: top;\n    }\n\n    .dataframe thead th {\n        text-align: right;\n    }\n</style>\n<table border=\"1\" class=\"dataframe\">\n  <thead>\n    <tr style=\"text-align: right;\">\n      <th></th>\n      <th>station_id</th>\n      <th>from_date</th>\n      <th>to_date</th>\n      <th>height</th>\n      <th>latitude</th>\n      <th>longitude</th>\n      <th>name</th>\n      <th>state</th>\n    </tr>\n  </thead>\n  <tbody>\n    <tr>\n      <th>1483</th>\n      <td>01680</td>\n      <td>1931-01-01 00:00:00+00:00</td>\n      <td>2021-12-12 00:00:00+00:00</td>\n      <td>368.0</td>\n      <td>48.6889</td>\n      <td>9.6345</td>\n      <td>Göppingen-Jebenhausen</td>\n      <td>Baden-Württemberg</td>\n    </tr>\n  </tbody>\n</table>\n</div>"
     },
     "execution_count": 230,
     "metadata": {},
     "output_type": "execute_result"
    }
   ],
   "source": [
    "stat = stations.all().df\n",
    "stat[(stat['state'] == 'Baden-Württemberg') & (stat['to_date'] == '2021-12-12 00:00:00+00:00')].sort_values(by='name')"
   ],
   "metadata": {
    "collapsed": false,
    "pycharm": {
     "name": "#%%\n"
    }
   }
  },
  {
   "cell_type": "code",
   "execution_count": 231,
   "outputs": [
    {
     "data": {
      "text/plain": "     station_id                 from_date                   to_date  height  \\\n3899      04351 1951-01-01 00:00:00+00:00 2021-12-18 00:00:00+00:00   295.0   \n\n      latitude  longitude                   name              state  \n3899   47.5582     7.9773  Säckingen, Bad/ Rhein  Baden-Württemberg  ",
      "text/html": "<div>\n<style scoped>\n    .dataframe tbody tr th:only-of-type {\n        vertical-align: middle;\n    }\n\n    .dataframe tbody tr th {\n        vertical-align: top;\n    }\n\n    .dataframe thead th {\n        text-align: right;\n    }\n</style>\n<table border=\"1\" class=\"dataframe\">\n  <thead>\n    <tr style=\"text-align: right;\">\n      <th></th>\n      <th>station_id</th>\n      <th>from_date</th>\n      <th>to_date</th>\n      <th>height</th>\n      <th>latitude</th>\n      <th>longitude</th>\n      <th>name</th>\n      <th>state</th>\n    </tr>\n  </thead>\n  <tbody>\n    <tr>\n      <th>3899</th>\n      <td>04351</td>\n      <td>1951-01-01 00:00:00+00:00</td>\n      <td>2021-12-18 00:00:00+00:00</td>\n      <td>295.0</td>\n      <td>47.5582</td>\n      <td>7.9773</td>\n      <td>Säckingen, Bad/ Rhein</td>\n      <td>Baden-Württemberg</td>\n    </tr>\n  </tbody>\n</table>\n</div>"
     },
     "execution_count": 231,
     "metadata": {},
     "output_type": "execute_result"
    }
   ],
   "source": [
    "stat[stat['name'] == 'Säckingen, Bad/ Rhein']"
   ],
   "metadata": {
    "collapsed": false,
    "pycharm": {
     "name": "#%%\n"
    }
   }
  },
  {
   "cell_type": "markdown",
   "source": [
    "Next, implement a function in order to get the station ID given a name of a city. This is needed for the later API calls on the DWD data."
   ],
   "metadata": {
    "collapsed": false,
    "pycharm": {
     "name": "#%% md\n"
    }
   }
  },
  {
   "cell_type": "code",
   "execution_count": 232,
   "outputs": [],
   "source": [
    "def get_station_id(city):\n",
    "    request = DwdObservationRequest(\n",
    "        parameter=DwdObservationDataset.PRECIPITATION_MORE,\n",
    "        resolution=DwdObservationResolution.DAILY,\n",
    "        period=DwdObservationPeriod.HISTORICAL\n",
    "    )\n",
    "    df = request.all().df\n",
    "    station_string = df[df['name'] == city].station_id\n",
    "    return int(station_string.iloc[0][1:])\n"
   ],
   "metadata": {
    "collapsed": false,
    "pycharm": {
     "name": "#%%\n"
    }
   }
  },
  {
   "cell_type": "markdown",
   "source": [
    "Note: There is no Ludwigshafen in the DWD weather API, so I use Mannheim instead."
   ],
   "metadata": {
    "collapsed": false,
    "pycharm": {
     "name": "#%% md\n"
    }
   }
  },
  {
   "cell_type": "code",
   "execution_count": 233,
   "outputs": [],
   "source": [
    "ma_id = get_station_id('Mannheim')\n",
    "frei_id = get_station_id('Freiburg')\n",
    "rheinau_id = get_station_id('Rheinau-Memprechtshofen')\n",
    "rheinfelden_id = get_station_id('Rheinfelden')\n",
    "rheinstetten_id = get_station_id('Rheinstetten')"
   ],
   "metadata": {
    "collapsed": false,
    "pycharm": {
     "name": "#%%\n"
    }
   }
  },
  {
   "cell_type": "markdown",
   "source": [
    "The next functions returns data of the DWD given a specified station."
   ],
   "metadata": {
    "collapsed": false,
    "pycharm": {
     "name": "#%% md\n"
    }
   }
  },
  {
   "cell_type": "code",
   "execution_count": 234,
   "outputs": [],
   "source": [
    "def get_historical_data(station_id):\n",
    "    request = DwdObservationRequest(\n",
    "        parameter=[\n",
    "            DwdObservationParameter.DAILY.PRECIPITATION_HEIGHT\n",
    "        ],\n",
    "        resolution=DwdObservationResolution.DAILY,\n",
    "        period=DwdObservationPeriod.HISTORICAL\n",
    "    ).filter_by_station_id(station_id=(station_id, ))\n",
    "\n",
    "    return request.values.all().df\n",
    "\n",
    "def get_recent_data(station_id):\n",
    "    request = DwdObservationRequest(\n",
    "        parameter=[\n",
    "            DwdObservationParameter.DAILY.PRECIPITATION_HEIGHT\n",
    "        ],\n",
    "        resolution=DwdObservationResolution.DAILY,\n",
    "        period=DwdObservationPeriod.RECENT\n",
    "    ).filter_by_station_id(station_id=(station_id, ))\n",
    "\n",
    "    return request.values.all().df"
   ],
   "metadata": {
    "collapsed": false,
    "pycharm": {
     "name": "#%%\n"
    }
   }
  },
  {
   "cell_type": "code",
   "execution_count": 235,
   "outputs": [],
   "source": [
    "precipitation_frei_historical = get_historical_data(frei_id)\n",
    "precipitation_frei_recent = get_recent_data(frei_id)\n",
    "\n",
    "precipitation_ma_historical = get_historical_data(ma_id)\n",
    "precipitation_ma_recent= get_recent_data(ma_id)\n",
    "\n",
    "precipitation_rheinau_historical = get_historical_data(rheinau_id)\n",
    "precipitation_rheinau_recent = get_recent_data(rheinau_id)\n",
    "\n",
    "precipitation_rheinfelden_historical = get_historical_data(rheinfelden_id)\n",
    "precipitation_rheinfelden_recent = get_recent_data(rheinfelden_id)\n",
    "\n",
    "precipitation_rheinstetten_historical = get_historical_data(rheinstetten_id)\n",
    "precipitation_rheinstetten_recent = get_recent_data(rheinstetten_id)"
   ],
   "metadata": {
    "collapsed": false,
    "pycharm": {
     "name": "#%%\n"
    }
   }
  },
  {
   "cell_type": "code",
   "execution_count": 236,
   "outputs": [
    {
     "data": {
      "text/plain": "      station_id          dataset             parameter  \\\n365        01443  climate_summary  precipitation_height   \n366        01443  climate_summary  precipitation_height   \n367        01443  climate_summary  precipitation_height   \n368        01443  climate_summary  precipitation_height   \n369        01443  climate_summary  precipitation_height   \n...          ...              ...                   ...   \n43704      01443  climate_summary  precipitation_height   \n43705      01443  climate_summary  precipitation_height   \n43706      01443  climate_summary  precipitation_height   \n43707      01443  climate_summary  precipitation_height   \n43708      01443  climate_summary  precipitation_height   \n\n                           date  value  quality  \n365   1875-01-01 00:00:00+00:00   12.2      1.0  \n366   1875-01-02 00:00:00+00:00    2.6      1.0  \n367   1875-01-03 00:00:00+00:00    5.0      1.0  \n368   1875-01-04 00:00:00+00:00    3.1      1.0  \n369   1875-01-05 00:00:00+00:00    0.0      1.0  \n...                         ...    ...      ...  \n43704 2020-12-27 00:00:00+00:00   13.0      3.0  \n43705 2020-12-28 00:00:00+00:00    5.5      3.0  \n43706 2020-12-29 00:00:00+00:00    0.0      3.0  \n43707 2020-12-30 00:00:00+00:00    0.0      3.0  \n43708 2020-12-31 00:00:00+00:00    4.5      3.0  \n\n[43344 rows x 6 columns]",
      "text/html": "<div>\n<style scoped>\n    .dataframe tbody tr th:only-of-type {\n        vertical-align: middle;\n    }\n\n    .dataframe tbody tr th {\n        vertical-align: top;\n    }\n\n    .dataframe thead th {\n        text-align: right;\n    }\n</style>\n<table border=\"1\" class=\"dataframe\">\n  <thead>\n    <tr style=\"text-align: right;\">\n      <th></th>\n      <th>station_id</th>\n      <th>dataset</th>\n      <th>parameter</th>\n      <th>date</th>\n      <th>value</th>\n      <th>quality</th>\n    </tr>\n  </thead>\n  <tbody>\n    <tr>\n      <th>365</th>\n      <td>01443</td>\n      <td>climate_summary</td>\n      <td>precipitation_height</td>\n      <td>1875-01-01 00:00:00+00:00</td>\n      <td>12.2</td>\n      <td>1.0</td>\n    </tr>\n    <tr>\n      <th>366</th>\n      <td>01443</td>\n      <td>climate_summary</td>\n      <td>precipitation_height</td>\n      <td>1875-01-02 00:00:00+00:00</td>\n      <td>2.6</td>\n      <td>1.0</td>\n    </tr>\n    <tr>\n      <th>367</th>\n      <td>01443</td>\n      <td>climate_summary</td>\n      <td>precipitation_height</td>\n      <td>1875-01-03 00:00:00+00:00</td>\n      <td>5.0</td>\n      <td>1.0</td>\n    </tr>\n    <tr>\n      <th>368</th>\n      <td>01443</td>\n      <td>climate_summary</td>\n      <td>precipitation_height</td>\n      <td>1875-01-04 00:00:00+00:00</td>\n      <td>3.1</td>\n      <td>1.0</td>\n    </tr>\n    <tr>\n      <th>369</th>\n      <td>01443</td>\n      <td>climate_summary</td>\n      <td>precipitation_height</td>\n      <td>1875-01-05 00:00:00+00:00</td>\n      <td>0.0</td>\n      <td>1.0</td>\n    </tr>\n    <tr>\n      <th>...</th>\n      <td>...</td>\n      <td>...</td>\n      <td>...</td>\n      <td>...</td>\n      <td>...</td>\n      <td>...</td>\n    </tr>\n    <tr>\n      <th>43704</th>\n      <td>01443</td>\n      <td>climate_summary</td>\n      <td>precipitation_height</td>\n      <td>2020-12-27 00:00:00+00:00</td>\n      <td>13.0</td>\n      <td>3.0</td>\n    </tr>\n    <tr>\n      <th>43705</th>\n      <td>01443</td>\n      <td>climate_summary</td>\n      <td>precipitation_height</td>\n      <td>2020-12-28 00:00:00+00:00</td>\n      <td>5.5</td>\n      <td>3.0</td>\n    </tr>\n    <tr>\n      <th>43706</th>\n      <td>01443</td>\n      <td>climate_summary</td>\n      <td>precipitation_height</td>\n      <td>2020-12-29 00:00:00+00:00</td>\n      <td>0.0</td>\n      <td>3.0</td>\n    </tr>\n    <tr>\n      <th>43707</th>\n      <td>01443</td>\n      <td>climate_summary</td>\n      <td>precipitation_height</td>\n      <td>2020-12-30 00:00:00+00:00</td>\n      <td>0.0</td>\n      <td>3.0</td>\n    </tr>\n    <tr>\n      <th>43708</th>\n      <td>01443</td>\n      <td>climate_summary</td>\n      <td>precipitation_height</td>\n      <td>2020-12-31 00:00:00+00:00</td>\n      <td>4.5</td>\n      <td>3.0</td>\n    </tr>\n  </tbody>\n</table>\n<p>43344 rows × 6 columns</p>\n</div>"
     },
     "execution_count": 236,
     "metadata": {},
     "output_type": "execute_result"
    }
   ],
   "source": [
    "precipitation_frei_historical[365:]"
   ],
   "metadata": {
    "collapsed": false,
    "pycharm": {
     "name": "#%%\n"
    }
   }
  },
  {
   "cell_type": "code",
   "execution_count": 237,
   "outputs": [
    {
     "data": {
      "text/plain": "    station_id          dataset             parameter  \\\n365      01443  climate_summary  precipitation_height   \n366      01443  climate_summary  precipitation_height   \n367      01443  climate_summary  precipitation_height   \n368      01443  climate_summary  precipitation_height   \n369      01443  climate_summary  precipitation_height   \n..         ...              ...                   ...   \n545      01443  climate_summary  precipitation_height   \n546      01443  climate_summary  precipitation_height   \n547      01443  climate_summary  precipitation_height   \n548      01443  climate_summary  precipitation_height   \n549      01443  climate_summary  precipitation_height   \n\n                         date  value  quality  \n365 2021-06-17 00:00:00+00:00    0.0      3.0  \n366 2021-06-18 00:00:00+00:00    0.3      3.0  \n367 2021-06-19 00:00:00+00:00    0.4      3.0  \n368 2021-06-20 00:00:00+00:00   17.3      3.0  \n369 2021-06-21 00:00:00+00:00    3.7      3.0  \n..                        ...    ...      ...  \n545 2021-12-14 00:00:00+00:00    0.1      1.0  \n546 2021-12-15 00:00:00+00:00    0.0      1.0  \n547 2021-12-16 00:00:00+00:00    0.0      1.0  \n548 2021-12-17 00:00:00+00:00    0.0      1.0  \n549 2021-12-18 00:00:00+00:00    0.0      1.0  \n\n[185 rows x 6 columns]",
      "text/html": "<div>\n<style scoped>\n    .dataframe tbody tr th:only-of-type {\n        vertical-align: middle;\n    }\n\n    .dataframe tbody tr th {\n        vertical-align: top;\n    }\n\n    .dataframe thead th {\n        text-align: right;\n    }\n</style>\n<table border=\"1\" class=\"dataframe\">\n  <thead>\n    <tr style=\"text-align: right;\">\n      <th></th>\n      <th>station_id</th>\n      <th>dataset</th>\n      <th>parameter</th>\n      <th>date</th>\n      <th>value</th>\n      <th>quality</th>\n    </tr>\n  </thead>\n  <tbody>\n    <tr>\n      <th>365</th>\n      <td>01443</td>\n      <td>climate_summary</td>\n      <td>precipitation_height</td>\n      <td>2021-06-17 00:00:00+00:00</td>\n      <td>0.0</td>\n      <td>3.0</td>\n    </tr>\n    <tr>\n      <th>366</th>\n      <td>01443</td>\n      <td>climate_summary</td>\n      <td>precipitation_height</td>\n      <td>2021-06-18 00:00:00+00:00</td>\n      <td>0.3</td>\n      <td>3.0</td>\n    </tr>\n    <tr>\n      <th>367</th>\n      <td>01443</td>\n      <td>climate_summary</td>\n      <td>precipitation_height</td>\n      <td>2021-06-19 00:00:00+00:00</td>\n      <td>0.4</td>\n      <td>3.0</td>\n    </tr>\n    <tr>\n      <th>368</th>\n      <td>01443</td>\n      <td>climate_summary</td>\n      <td>precipitation_height</td>\n      <td>2021-06-20 00:00:00+00:00</td>\n      <td>17.3</td>\n      <td>3.0</td>\n    </tr>\n    <tr>\n      <th>369</th>\n      <td>01443</td>\n      <td>climate_summary</td>\n      <td>precipitation_height</td>\n      <td>2021-06-21 00:00:00+00:00</td>\n      <td>3.7</td>\n      <td>3.0</td>\n    </tr>\n    <tr>\n      <th>...</th>\n      <td>...</td>\n      <td>...</td>\n      <td>...</td>\n      <td>...</td>\n      <td>...</td>\n      <td>...</td>\n    </tr>\n    <tr>\n      <th>545</th>\n      <td>01443</td>\n      <td>climate_summary</td>\n      <td>precipitation_height</td>\n      <td>2021-12-14 00:00:00+00:00</td>\n      <td>0.1</td>\n      <td>1.0</td>\n    </tr>\n    <tr>\n      <th>546</th>\n      <td>01443</td>\n      <td>climate_summary</td>\n      <td>precipitation_height</td>\n      <td>2021-12-15 00:00:00+00:00</td>\n      <td>0.0</td>\n      <td>1.0</td>\n    </tr>\n    <tr>\n      <th>547</th>\n      <td>01443</td>\n      <td>climate_summary</td>\n      <td>precipitation_height</td>\n      <td>2021-12-16 00:00:00+00:00</td>\n      <td>0.0</td>\n      <td>1.0</td>\n    </tr>\n    <tr>\n      <th>548</th>\n      <td>01443</td>\n      <td>climate_summary</td>\n      <td>precipitation_height</td>\n      <td>2021-12-17 00:00:00+00:00</td>\n      <td>0.0</td>\n      <td>1.0</td>\n    </tr>\n    <tr>\n      <th>549</th>\n      <td>01443</td>\n      <td>climate_summary</td>\n      <td>precipitation_height</td>\n      <td>2021-12-18 00:00:00+00:00</td>\n      <td>0.0</td>\n      <td>1.0</td>\n    </tr>\n  </tbody>\n</table>\n<p>185 rows × 6 columns</p>\n</div>"
     },
     "execution_count": 237,
     "metadata": {},
     "output_type": "execute_result"
    }
   ],
   "source": [
    "precipitation_frei_recent[365:]"
   ],
   "metadata": {
    "collapsed": false,
    "pycharm": {
     "name": "#%%\n"
    }
   }
  },
  {
   "cell_type": "markdown",
   "source": [
    "Now, have a rough look at the historical data:"
   ],
   "metadata": {
    "collapsed": false,
    "pycharm": {
     "name": "#%% md\n"
    }
   }
  },
  {
   "cell_type": "code",
   "execution_count": 238,
   "outputs": [
    {
     "data": {
      "text/plain": "<AxesSubplot:title={'center':'Rheinstetten Historical'}, xlabel='date'>"
     },
     "execution_count": 238,
     "metadata": {},
     "output_type": "execute_result"
    },
    {
     "data": {
      "text/plain": "<Figure size 432x288 with 1 Axes>",
      "image/png": "[encoded data removed]"
     },
     "metadata": {
      "needs_background": "light"
     },
     "output_type": "display_data"
    },
    {
     "data": {
      "text/plain": "<Figure size 432x288 with 1 Axes>",
      "image/png": "[encoded data removed]"
     },
     "metadata": {
      "needs_background": "light"
     },
     "output_type": "display_data"
    },
    {
     "data": {
      "text/plain": "<Figure size 432x288 with 1 Axes>",
      "image/png": "[encoded data removed]"
     },
     "metadata": {
      "needs_background": "light"
     },
     "output_type": "display_data"
    },
    {
     "data": {
      "text/plain": "<Figure size 432x288 with 1 Axes>",
      "image/png": "[encoded data removed]"
     },
     "metadata": {
      "needs_background": "light"
     },
     "output_type": "display_data"
    },
    {
     "data": {
      "text/plain": "<Figure size 432x288 with 1 Axes>",
      "image/png": "[encoded data removed]"
     },
     "metadata": {
      "needs_background": "light"
     },
     "output_type": "display_data"
    }
   ],
   "source": [
    "precipitation_ma_historical.plot(x=\"date\", y=\"value\", title='Mannheim Historical')\n",
    "precipitation_frei_historical.plot(x='date', y='value', title='Freiburg Historical')\n",
    "precipitation_rheinau_historical.plot(x='date', y='value', title='Rheinau Historical')\n",
    "precipitation_rheinfelden_historical.plot(x='date', y='value', title='Rheinfelden Historical')\n",
    "precipitation_rheinstetten_historical.plot(x='date', y='value', title='Rheinstetten Historical')"
   ],
   "metadata": {
    "collapsed": false,
    "pycharm": {
     "name": "#%%\n"
    }
   }
  },
  {
   "cell_type": "markdown",
   "source": [
    "Based on the above data, there seems to be data missing, but because we have to align the data of the DWD to the data of the rhine water level (kaub), the data missing before 01-01-2013 is of no concern, the data missing after that date is a problem though."
   ],
   "metadata": {
    "collapsed": false,
    "pycharm": {
     "name": "#%% md\n"
    }
   }
  },
  {
   "cell_type": "code",
   "execution_count": 239,
   "outputs": [
    {
     "data": {
      "text/plain": "<AxesSubplot:title={'center':'Closeup of Rheinfelden Historical'}, xlabel='date'>"
     },
     "execution_count": 239,
     "metadata": {},
     "output_type": "execute_result"
    },
    {
     "data": {
      "text/plain": "<Figure size 432x288 with 1 Axes>",
      "image/png": "[encoded data removed]"
     },
     "metadata": {
      "needs_background": "light"
     },
     "output_type": "display_data"
    }
   ],
   "source": [
    "precipitation_rheinfelden_historical.loc[22000:23000].plot(x='date', y='value', title='Closeup of Rheinfelden Historical')"
   ],
   "metadata": {
    "collapsed": false,
    "pycharm": {
     "name": "#%%\n"
    }
   }
  },
  {
   "cell_type": "code",
   "execution_count": 240,
   "outputs": [
    {
     "data": {
      "text/plain": "      station_id          dataset             parameter  \\\n22400      04175  climate_summary  precipitation_height   \n22401      04175  climate_summary  precipitation_height   \n22402      04175  climate_summary  precipitation_height   \n22403      04175  climate_summary  precipitation_height   \n22404      04175  climate_summary  precipitation_height   \n22405      04175  climate_summary  precipitation_height   \n22406      04175  climate_summary  precipitation_height   \n22407      04175  climate_summary  precipitation_height   \n22408      04175  climate_summary  precipitation_height   \n22409      04175  climate_summary  precipitation_height   \n22410      04175  climate_summary  precipitation_height   \n\n                           date  value  quality  \n22400 2014-12-30 00:00:00+00:00    0.6     10.0  \n22401 2014-12-31 00:00:00+00:00    0.0     10.0  \n22402 2016-07-01 00:00:00+00:00    0.9     10.0  \n22403 2016-07-02 00:00:00+00:00    0.0     10.0  \n22404 2016-07-03 00:00:00+00:00    0.0     10.0  \n22405 2016-07-04 00:00:00+00:00    0.0     10.0  \n22406 2016-07-05 00:00:00+00:00    0.0     10.0  \n22407 2016-07-06 00:00:00+00:00    0.0     10.0  \n22408 2016-07-07 00:00:00+00:00    0.0     10.0  \n22409 2016-07-08 00:00:00+00:00    0.0     10.0  \n22410 2016-07-09 00:00:00+00:00    0.0     10.0  ",
      "text/html": "<div>\n<style scoped>\n    .dataframe tbody tr th:only-of-type {\n        vertical-align: middle;\n    }\n\n    .dataframe tbody tr th {\n        vertical-align: top;\n    }\n\n    .dataframe thead th {\n        text-align: right;\n    }\n</style>\n<table border=\"1\" class=\"dataframe\">\n  <thead>\n    <tr style=\"text-align: right;\">\n      <th></th>\n      <th>station_id</th>\n      <th>dataset</th>\n      <th>parameter</th>\n      <th>date</th>\n      <th>value</th>\n      <th>quality</th>\n    </tr>\n  </thead>\n  <tbody>\n    <tr>\n      <th>22400</th>\n      <td>04175</td>\n      <td>climate_summary</td>\n      <td>precipitation_height</td>\n      <td>2014-12-30 00:00:00+00:00</td>\n      <td>0.6</td>\n      <td>10.0</td>\n    </tr>\n    <tr>\n      <th>22401</th>\n      <td>04175</td>\n      <td>climate_summary</td>\n      <td>precipitation_height</td>\n      <td>2014-12-31 00:00:00+00:00</td>\n      <td>0.0</td>\n      <td>10.0</td>\n    </tr>\n    <tr>\n      <th>22402</th>\n      <td>04175</td>\n      <td>climate_summary</td>\n      <td>precipitation_height</td>\n      <td>2016-07-01 00:00:00+00:00</td>\n      <td>0.9</td>\n      <td>10.0</td>\n    </tr>\n    <tr>\n      <th>22403</th>\n      <td>04175</td>\n      <td>climate_summary</td>\n      <td>precipitation_height</td>\n      <td>2016-07-02 00:00:00+00:00</td>\n      <td>0.0</td>\n      <td>10.0</td>\n    </tr>\n    <tr>\n      <th>22404</th>\n      <td>04175</td>\n      <td>climate_summary</td>\n      <td>precipitation_height</td>\n      <td>2016-07-03 00:00:00+00:00</td>\n      <td>0.0</td>\n      <td>10.0</td>\n    </tr>\n    <tr>\n      <th>22405</th>\n      <td>04175</td>\n      <td>climate_summary</td>\n      <td>precipitation_height</td>\n      <td>2016-07-04 00:00:00+00:00</td>\n      <td>0.0</td>\n      <td>10.0</td>\n    </tr>\n    <tr>\n      <th>22406</th>\n      <td>04175</td>\n      <td>climate_summary</td>\n      <td>precipitation_height</td>\n      <td>2016-07-05 00:00:00+00:00</td>\n      <td>0.0</td>\n      <td>10.0</td>\n    </tr>\n    <tr>\n      <th>22407</th>\n      <td>04175</td>\n      <td>climate_summary</td>\n      <td>precipitation_height</td>\n      <td>2016-07-06 00:00:00+00:00</td>\n      <td>0.0</td>\n      <td>10.0</td>\n    </tr>\n    <tr>\n      <th>22408</th>\n      <td>04175</td>\n      <td>climate_summary</td>\n      <td>precipitation_height</td>\n      <td>2016-07-07 00:00:00+00:00</td>\n      <td>0.0</td>\n      <td>10.0</td>\n    </tr>\n    <tr>\n      <th>22409</th>\n      <td>04175</td>\n      <td>climate_summary</td>\n      <td>precipitation_height</td>\n      <td>2016-07-08 00:00:00+00:00</td>\n      <td>0.0</td>\n      <td>10.0</td>\n    </tr>\n    <tr>\n      <th>22410</th>\n      <td>04175</td>\n      <td>climate_summary</td>\n      <td>precipitation_height</td>\n      <td>2016-07-09 00:00:00+00:00</td>\n      <td>0.0</td>\n      <td>10.0</td>\n    </tr>\n  </tbody>\n</table>\n</div>"
     },
     "execution_count": 240,
     "metadata": {},
     "output_type": "execute_result"
    }
   ],
   "source": [
    "precipitation_rheinfelden_historical.loc[22400:22410]"
   ],
   "metadata": {
    "collapsed": false,
    "pycharm": {
     "name": "#%%\n"
    }
   }
  },
  {
   "cell_type": "markdown",
   "source": [
    "Upon closer inspection, the entirety of data from 2014 until 2016 is missing. This is of great concern since filling these values with artificially created values may certainly have a bad influence on the model. This is why we decided to not include this dataset."
   ],
   "metadata": {
    "collapsed": false,
    "pycharm": {
     "name": "#%% md\n"
    }
   }
  },
  {
   "cell_type": "code",
   "execution_count": 306,
   "metadata": {},
   "outputs": [
    {
     "data": {
      "text/plain": "<AxesSubplot:title={'center':'Rheinstetten Recent'}, xlabel='date'>"
     },
     "execution_count": 306,
     "metadata": {},
     "output_type": "execute_result"
    },
    {
     "data": {
      "text/plain": "<Figure size 432x288 with 1 Axes>",
      "image/png": "[encoded data removed]"
     },
     "metadata": {
      "needs_background": "light"
     },
     "output_type": "display_data"
    },
    {
     "data": {
      "text/plain": "<Figure size 432x288 with 1 Axes>",
      "image/png": "[encoded data removed]"
     },
     "metadata": {
      "needs_background": "light"
     },
     "output_type": "display_data"
    },
    {
     "data": {
      "text/plain": "<Figure size 432x288 with 1 Axes>",
      "image/png": "[encoded data removed]"
     },
     "metadata": {
      "needs_background": "light"
     },
     "output_type": "display_data"
    },
    {
     "data": {
      "text/plain": "<Figure size 432x288 with 1 Axes>",
      "image/png": "[encoded data removed]"
     },
     "metadata": {
      "needs_background": "light"
     },
     "output_type": "display_data"
    }
   ],
   "source": [
    "precipitation_ma_recent.plot(x=\"date\", y=\"value\", title='Mannheim Recent')\n",
    "precipitation_frei_recent.plot(x=\"date\", y=\"value\", title='Freiburg Recent')\n",
    "precipitation_rheinau_recent.plot(x=\"date\", y=\"value\", title='Rheinau Recent')\n",
    "precipitation_rheinfelden_recent.plot(x=\"date\", y=\"value\", title='Rheinfelden Recent')"
   ]
  },
  {
   "cell_type": "code",
   "execution_count": 242,
   "outputs": [
    {
     "data": {
      "text/plain": "  station_id          dataset             parameter                      date  \\\n0      01443  climate_summary  precipitation_height 2020-06-17 00:00:00+00:00   \n1      01443  climate_summary  precipitation_height 2020-06-18 00:00:00+00:00   \n2      01443  climate_summary  precipitation_height 2020-06-19 00:00:00+00:00   \n3      01443  climate_summary  precipitation_height 2020-06-20 00:00:00+00:00   \n4      01443  climate_summary  precipitation_height 2020-06-21 00:00:00+00:00   \n5      01443  climate_summary  precipitation_height 2020-06-22 00:00:00+00:00   \n6      01443  climate_summary  precipitation_height 2020-06-23 00:00:00+00:00   \n7      01443  climate_summary  precipitation_height 2020-06-24 00:00:00+00:00   \n8      01443  climate_summary  precipitation_height 2020-06-25 00:00:00+00:00   \n9      01443  climate_summary  precipitation_height 2020-06-26 00:00:00+00:00   \n\n   value  quality  \n0   16.0      3.0  \n1    0.0      3.0  \n2    0.0      3.0  \n3    0.0      3.0  \n4    0.1      3.0  \n5    0.0      3.0  \n6    0.0      3.0  \n7    0.0      3.0  \n8    0.2      3.0  \n9    4.3      3.0  ",
      "text/html": "<div>\n<style scoped>\n    .dataframe tbody tr th:only-of-type {\n        vertical-align: middle;\n    }\n\n    .dataframe tbody tr th {\n        vertical-align: top;\n    }\n\n    .dataframe thead th {\n        text-align: right;\n    }\n</style>\n<table border=\"1\" class=\"dataframe\">\n  <thead>\n    <tr style=\"text-align: right;\">\n      <th></th>\n      <th>station_id</th>\n      <th>dataset</th>\n      <th>parameter</th>\n      <th>date</th>\n      <th>value</th>\n      <th>quality</th>\n    </tr>\n  </thead>\n  <tbody>\n    <tr>\n      <th>0</th>\n      <td>01443</td>\n      <td>climate_summary</td>\n      <td>precipitation_height</td>\n      <td>2020-06-17 00:00:00+00:00</td>\n      <td>16.0</td>\n      <td>3.0</td>\n    </tr>\n    <tr>\n      <th>1</th>\n      <td>01443</td>\n      <td>climate_summary</td>\n      <td>precipitation_height</td>\n      <td>2020-06-18 00:00:00+00:00</td>\n      <td>0.0</td>\n      <td>3.0</td>\n    </tr>\n    <tr>\n      <th>2</th>\n      <td>01443</td>\n      <td>climate_summary</td>\n      <td>precipitation_height</td>\n      <td>2020-06-19 00:00:00+00:00</td>\n      <td>0.0</td>\n      <td>3.0</td>\n    </tr>\n    <tr>\n      <th>3</th>\n      <td>01443</td>\n      <td>climate_summary</td>\n      <td>precipitation_height</td>\n      <td>2020-06-20 00:00:00+00:00</td>\n      <td>0.0</td>\n      <td>3.0</td>\n    </tr>\n    <tr>\n      <th>4</th>\n      <td>01443</td>\n      <td>climate_summary</td>\n      <td>precipitation_height</td>\n      <td>2020-06-21 00:00:00+00:00</td>\n      <td>0.1</td>\n      <td>3.0</td>\n    </tr>\n    <tr>\n      <th>5</th>\n      <td>01443</td>\n      <td>climate_summary</td>\n      <td>precipitation_height</td>\n      <td>2020-06-22 00:00:00+00:00</td>\n      <td>0.0</td>\n      <td>3.0</td>\n    </tr>\n    <tr>\n      <th>6</th>\n      <td>01443</td>\n      <td>climate_summary</td>\n      <td>precipitation_height</td>\n      <td>2020-06-23 00:00:00+00:00</td>\n      <td>0.0</td>\n      <td>3.0</td>\n    </tr>\n    <tr>\n      <th>7</th>\n      <td>01443</td>\n      <td>climate_summary</td>\n      <td>precipitation_height</td>\n      <td>2020-06-24 00:00:00+00:00</td>\n      <td>0.0</td>\n      <td>3.0</td>\n    </tr>\n    <tr>\n      <th>8</th>\n      <td>01443</td>\n      <td>climate_summary</td>\n      <td>precipitation_height</td>\n      <td>2020-06-25 00:00:00+00:00</td>\n      <td>0.2</td>\n      <td>3.0</td>\n    </tr>\n    <tr>\n      <th>9</th>\n      <td>01443</td>\n      <td>climate_summary</td>\n      <td>precipitation_height</td>\n      <td>2020-06-26 00:00:00+00:00</td>\n      <td>4.3</td>\n      <td>3.0</td>\n    </tr>\n  </tbody>\n</table>\n</div>"
     },
     "execution_count": 242,
     "metadata": {},
     "output_type": "execute_result"
    }
   ],
   "source": [
    "precipitation_frei_recent[:10]"
   ],
   "metadata": {
    "collapsed": false,
    "pycharm": {
     "name": "#%%\n"
    }
   }
  },
  {
   "cell_type": "markdown",
   "source": [
    "As one can see from all the historical and recent plots, the start of the historical data differs from station to station. The end of the historical data is however always the same, i.e. the 31-12-2020. The recent data is in the timespan of [17-07-2020, now], where 'now' is the date this program is run."
   ],
   "metadata": {
    "collapsed": false,
    "pycharm": {
     "name": "#%% md\n"
    }
   }
  },
  {
   "cell_type": "code",
   "execution_count": 243,
   "outputs": [],
   "source": [
    "assert(len(precipitation_ma_recent) == len(precipitation_frei_recent) == len(precipitation_rheinau_recent) == len(precipitation_rheinfelden_recent))"
   ],
   "metadata": {
    "collapsed": false,
    "pycharm": {
     "name": "#%%\n"
    }
   }
  },
  {
   "cell_type": "code",
   "execution_count": 244,
   "outputs": [
    {
     "name": "stderr",
     "output_type": "stream",
     "text": [
      "/tmp/ipykernel_72705/109090159.py:1: FutureWarning: Comparison of Timestamp with datetime.date is deprecated in order to match the standard library behavior.  In a future version these will be considered non-comparable.Use 'ts == pd.Timestamp(date)' or 'ts.date() == date' instead.\n",
      "  assert(precipitation_ma_recent['date'].loc[0] == precipitation_frei_recent['date'].loc[0].date() == precipitation_rheinau_recent['date'].loc[0].date() == precipitation_rheinfelden_recent['date'].loc[0].date())\n"
     ]
    }
   ],
   "source": [
    "assert(precipitation_ma_recent['date'].loc[0] == precipitation_frei_recent['date'].loc[0].date() == precipitation_rheinau_recent['date'].loc[0].date() == precipitation_rheinfelden_recent['date'].loc[0].date())"
   ],
   "metadata": {
    "collapsed": false,
    "pycharm": {
     "name": "#%%\n"
    }
   }
  },
  {
   "cell_type": "markdown",
   "source": [
    "Put the data in lists for convenience."
   ],
   "metadata": {
    "collapsed": false,
    "pycharm": {
     "name": "#%% md\n"
    }
   }
  },
  {
   "cell_type": "code",
   "execution_count": 253,
   "outputs": [],
   "source": [
    "historicals = {'Mannheim_historical' : precipitation_ma_historical,\n",
    "               'Rheinfelden_historical': precipitation_rheinfelden_historical,\n",
    "               'Freiburg_historical' : precipitation_frei_historical,\n",
    "               'Rheinau_historical' : precipitation_rheinau_historical}\n",
    "recents = {'Mannheim_recent' : precipitation_ma_recent,\n",
    "           'Rheinfelden_recent': precipitation_rheinfelden_recent,\n",
    "           'Freiburg_recent' : precipitation_frei_recent,\n",
    "           'Rheinau_recent' : precipitation_rheinau_recent}\n",
    "\n",
    "total = {}\n",
    "total.update(recents)\n",
    "total.update(historicals)"
   ],
   "metadata": {
    "collapsed": false,
    "pycharm": {
     "name": "#%%\n"
    }
   }
  },
  {
   "cell_type": "markdown",
   "source": [
    "First, have a look at duplicate values:"
   ],
   "metadata": {
    "collapsed": false,
    "pycharm": {
     "name": "#%% md\n"
    }
   }
  },
  {
   "cell_type": "code",
   "execution_count": 263,
   "outputs": [
    {
     "name": "stdout",
     "output_type": "stream",
     "text": [
      "The Mannheim_recent dataset has [] duplicate values.\n",
      "The Rheinfelden_recent dataset has [] duplicate values.\n",
      "The Freiburg_recent dataset has [] duplicate values.\n",
      "The Rheinau_recent dataset has [] duplicate values.\n",
      "The Mannheim_historical dataset has [] duplicate values.\n",
      "The Rheinfelden_historical dataset has [] duplicate values.\n",
      "The Freiburg_historical dataset has [] duplicate values.\n",
      "The Rheinau_historical dataset has [] duplicate values.\n"
     ]
    }
   ],
   "source": [
    "for name, prec in total.items():\n",
    "    print(f'The {name} dataset has {prec[prec.duplicated([\"date\"])].value.values} duplicate values.')"
   ],
   "metadata": {
    "collapsed": false,
    "pycharm": {
     "name": "#%%\n"
    }
   }
  },
  {
   "cell_type": "markdown",
   "source": [
    "As can be seen above, there are no duplicate values by date."
   ],
   "metadata": {
    "collapsed": false,
    "pycharm": {
     "name": "#%% md\n"
    }
   }
  },
  {
   "cell_type": "markdown",
   "source": [
    "Check that there are no null values in the data"
   ],
   "metadata": {
    "collapsed": false,
    "pycharm": {
     "name": "#%% md\n"
    }
   }
  },
  {
   "cell_type": "code",
   "execution_count": 268,
   "outputs": [],
   "source": [
    "for name, prec in recents.items():\n",
    "    assert(prec.isnull().any().any() == False)"
   ],
   "metadata": {
    "collapsed": false,
    "pycharm": {
     "name": "#%%\n"
    }
   }
  },
  {
   "cell_type": "code",
   "execution_count": 282,
   "outputs": [
    {
     "name": "stdout",
     "output_type": "stream",
     "text": [
      "The Mannheim_historical dataset has 3 null values\n",
      "The Rheinfelden_historical dataset has 0 null values\n",
      "The Freiburg_historical dataset has 205 null values\n",
      "The Rheinau_historical dataset has 0 null values\n"
     ]
    }
   ],
   "source": [
    "for name, prec in historicals.items():\n",
    "    print(f'The {name} dataset has {len(prec[prec.isna().any(axis=1)].value.values)} null values')"
   ],
   "metadata": {
    "collapsed": false,
    "pycharm": {
     "name": "#%%\n"
    }
   }
  },
  {
   "cell_type": "markdown",
   "source": [
    "There are some values missing, now show the indices of these null values:"
   ],
   "metadata": {
    "collapsed": false,
    "pycharm": {
     "name": "#%% md\n"
    }
   }
  },
  {
   "cell_type": "code",
   "execution_count": 287,
   "outputs": [
    {
     "name": "stdout",
     "output_type": "stream",
     "text": [
      "The Mannheim_historical dataset the following null values:\n",
      "1095    NaN\n",
      "27122   NaN\n",
      "27123   NaN\n",
      "Name: value, dtype: float64\n",
      "The Rheinfelden_historical dataset the following null values:\n",
      "No missing values\n",
      "The Freiburg_historical dataset the following null values:\n",
      "58      NaN\n",
      "84      NaN\n",
      "177     NaN\n",
      "178     NaN\n",
      "441     NaN\n",
      "         ..\n",
      "37966   NaN\n",
      "42767   NaN\n",
      "42768   NaN\n",
      "42769   NaN\n",
      "42770   NaN\n",
      "Name: value, Length: 205, dtype: float64\n",
      "The Rheinau_historical dataset the following null values:\n",
      "No missing values\n"
     ]
    }
   ],
   "source": [
    "for name, prec in historicals.items():\n",
    "    print(f'The {name} dataset the following null values:\\n{prec[prec.isna().any(axis=1)].value if len(prec[prec.isna().any(axis=1)].value.values)>0 else \"No missing values\"}')"
   ],
   "metadata": {
    "collapsed": false,
    "pycharm": {
     "name": "#%%\n"
    }
   }
  },
  {
   "cell_type": "code",
   "execution_count": 294,
   "outputs": [
    {
     "data": {
      "text/plain": "station_id                        05906\ndataset                 climate_summary\nparameter          precipitation_height\ndate          2018-04-04 00:00:00+00:00\nvalue                               NaN\nquality                             NaN\nName: 27122, dtype: object"
     },
     "execution_count": 294,
     "metadata": {},
     "output_type": "execute_result"
    }
   ],
   "source": [
    "historicals['Mannheim_historical'].loc[27122]"
   ],
   "metadata": {
    "collapsed": false,
    "pycharm": {
     "name": "#%%\n"
    }
   }
  },
  {
   "cell_type": "code",
   "execution_count": 293,
   "outputs": [
    {
     "data": {
      "text/plain": "station_id                        01443\ndataset                 climate_summary\nparameter          precipitation_height\ndate          2005-04-12 00:00:00+00:00\nvalue                               NaN\nquality                             NaN\nName: 37966, dtype: object"
     },
     "execution_count": 293,
     "metadata": {},
     "output_type": "execute_result"
    }
   ],
   "source": [
    "historicals['Freiburg_historical'].loc[37966]"
   ],
   "metadata": {
    "collapsed": false,
    "pycharm": {
     "name": "#%%\n"
    }
   }
  },
  {
   "cell_type": "code",
   "execution_count": 292,
   "outputs": [
    {
     "data": {
      "text/plain": "      station_id          dataset             parameter  \\\n42767      01443  climate_summary  precipitation_height   \n42768      01443  climate_summary  precipitation_height   \n42769      01443  climate_summary  precipitation_height   \n\n                           date  value  quality  \n42767 2018-06-04 00:00:00+00:00    NaN      NaN  \n42768 2018-06-05 00:00:00+00:00    NaN      NaN  \n42769 2018-06-06 00:00:00+00:00    NaN      NaN  ",
      "text/html": "<div>\n<style scoped>\n    .dataframe tbody tr th:only-of-type {\n        vertical-align: middle;\n    }\n\n    .dataframe tbody tr th {\n        vertical-align: top;\n    }\n\n    .dataframe thead th {\n        text-align: right;\n    }\n</style>\n<table border=\"1\" class=\"dataframe\">\n  <thead>\n    <tr style=\"text-align: right;\">\n      <th></th>\n      <th>station_id</th>\n      <th>dataset</th>\n      <th>parameter</th>\n      <th>date</th>\n      <th>value</th>\n      <th>quality</th>\n    </tr>\n  </thead>\n  <tbody>\n    <tr>\n      <th>42767</th>\n      <td>01443</td>\n      <td>climate_summary</td>\n      <td>precipitation_height</td>\n      <td>2018-06-04 00:00:00+00:00</td>\n      <td>NaN</td>\n      <td>NaN</td>\n    </tr>\n    <tr>\n      <th>42768</th>\n      <td>01443</td>\n      <td>climate_summary</td>\n      <td>precipitation_height</td>\n      <td>2018-06-05 00:00:00+00:00</td>\n      <td>NaN</td>\n      <td>NaN</td>\n    </tr>\n    <tr>\n      <th>42769</th>\n      <td>01443</td>\n      <td>climate_summary</td>\n      <td>precipitation_height</td>\n      <td>2018-06-06 00:00:00+00:00</td>\n      <td>NaN</td>\n      <td>NaN</td>\n    </tr>\n  </tbody>\n</table>\n</div>"
     },
     "execution_count": 292,
     "metadata": {},
     "output_type": "execute_result"
    }
   ],
   "source": [
    "historicals['Freiburg_historical'][42767:42770]"
   ],
   "metadata": {
    "collapsed": false,
    "pycharm": {
     "name": "#%%\n"
    }
   }
  },
  {
   "cell_type": "markdown",
   "source": [
    "As can be seen in the above output, only the values in the mannheim historical dataframe at index 27122, 27123 and in the freiburg historical dataframe at index 42767 to 42770 are of relevance, since they are in the right timespan."
   ],
   "metadata": {
    "collapsed": false,
    "pycharm": {
     "name": "#%% md\n"
    }
   }
  },
  {
   "cell_type": "code",
   "execution_count": 304,
   "outputs": [
    {
     "name": "stdout",
     "output_type": "stream",
     "text": [
      "The Mannheim_historical dataset has the following missing dates\n",
      "No missing dates\n",
      "The Rheinfelden_historical dataset has the following missing dates\n",
      "547\n",
      "The Freiburg_historical dataset has the following missing dates\n",
      "No missing dates\n",
      "The Rheinau_historical dataset has the following missing dates\n",
      "No missing dates\n"
     ]
    }
   ],
   "source": [
    "for name, prec in historicals.items():\n",
    "    df1 = prec.set_index(prec['date'])\n",
    "    df1.index = pd.to_datetime(df1.index)\n",
    "    dates = pd.date_range(start=\"2013-1-1 00:00:00+00:00\", end='2020-12-31 00:00:00+00:00').difference(df1.index)\n",
    "    print(f'The {name} dataset has the following missing dates\\n{len(dates.values) if len(dates.values)>0 else \"No missing dates\"}')"
   ],
   "metadata": {
    "collapsed": false,
    "pycharm": {
     "name": "#%%\n"
    }
   }
  },
  {
   "cell_type": "markdown",
   "source": [
    "The dataset of historical rheinfelden data missing quite some dates."
   ],
   "metadata": {
    "collapsed": false,
    "pycharm": {
     "name": "#%% md\n"
    }
   }
  },
  {
   "cell_type": "code",
   "execution_count": 305,
   "outputs": [
    {
     "data": {
      "text/plain": "      station_id          dataset             parameter  \\\n22300      04175  climate_summary  precipitation_height   \n22301      04175  climate_summary  precipitation_height   \n22302      04175  climate_summary  precipitation_height   \n22303      04175  climate_summary  precipitation_height   \n22304      04175  climate_summary  precipitation_height   \n...          ...              ...                   ...   \n22996      04175  climate_summary  precipitation_height   \n22997      04175  climate_summary  precipitation_height   \n22998      04175  climate_summary  precipitation_height   \n22999      04175  climate_summary  precipitation_height   \n23000      04175  climate_summary  precipitation_height   \n\n                           date  value  quality  \n22300 2014-09-21 00:00:00+00:00   16.8     10.0  \n22301 2014-09-22 00:00:00+00:00    0.0     10.0  \n22302 2014-09-23 00:00:00+00:00    0.0     10.0  \n22303 2014-09-24 00:00:00+00:00    1.5     10.0  \n22304 2014-09-25 00:00:00+00:00    0.0     10.0  \n...                         ...    ...      ...  \n22996 2018-02-15 00:00:00+00:00   16.8      3.0  \n22997 2018-02-16 00:00:00+00:00    3.0      3.0  \n22998 2018-02-17 00:00:00+00:00   14.3      3.0  \n22999 2018-02-18 00:00:00+00:00    0.0      3.0  \n23000 2018-02-19 00:00:00+00:00    0.0      3.0  \n\n[701 rows x 6 columns]",
      "text/html": "<div>\n<style scoped>\n    .dataframe tbody tr th:only-of-type {\n        vertical-align: middle;\n    }\n\n    .dataframe tbody tr th {\n        vertical-align: top;\n    }\n\n    .dataframe thead th {\n        text-align: right;\n    }\n</style>\n<table border=\"1\" class=\"dataframe\">\n  <thead>\n    <tr style=\"text-align: right;\">\n      <th></th>\n      <th>station_id</th>\n      <th>dataset</th>\n      <th>parameter</th>\n      <th>date</th>\n      <th>value</th>\n      <th>quality</th>\n    </tr>\n  </thead>\n  <tbody>\n    <tr>\n      <th>22300</th>\n      <td>04175</td>\n      <td>climate_summary</td>\n      <td>precipitation_height</td>\n      <td>2014-09-21 00:00:00+00:00</td>\n      <td>16.8</td>\n      <td>10.0</td>\n    </tr>\n    <tr>\n      <th>22301</th>\n      <td>04175</td>\n      <td>climate_summary</td>\n      <td>precipitation_height</td>\n      <td>2014-09-22 00:00:00+00:00</td>\n      <td>0.0</td>\n      <td>10.0</td>\n    </tr>\n    <tr>\n      <th>22302</th>\n      <td>04175</td>\n      <td>climate_summary</td>\n      <td>precipitation_height</td>\n      <td>2014-09-23 00:00:00+00:00</td>\n      <td>0.0</td>\n      <td>10.0</td>\n    </tr>\n    <tr>\n      <th>22303</th>\n      <td>04175</td>\n      <td>climate_summary</td>\n      <td>precipitation_height</td>\n      <td>2014-09-24 00:00:00+00:00</td>\n      <td>1.5</td>\n      <td>10.0</td>\n    </tr>\n    <tr>\n      <th>22304</th>\n      <td>04175</td>\n      <td>climate_summary</td>\n      <td>precipitation_height</td>\n      <td>2014-09-25 00:00:00+00:00</td>\n      <td>0.0</td>\n      <td>10.0</td>\n    </tr>\n    <tr>\n      <th>...</th>\n      <td>...</td>\n      <td>...</td>\n      <td>...</td>\n      <td>...</td>\n      <td>...</td>\n      <td>...</td>\n    </tr>\n    <tr>\n      <th>22996</th>\n      <td>04175</td>\n      <td>climate_summary</td>\n      <td>precipitation_height</td>\n      <td>2018-02-15 00:00:00+00:00</td>\n      <td>16.8</td>\n      <td>3.0</td>\n    </tr>\n    <tr>\n      <th>22997</th>\n      <td>04175</td>\n      <td>climate_summary</td>\n      <td>precipitation_height</td>\n      <td>2018-02-16 00:00:00+00:00</td>\n      <td>3.0</td>\n      <td>3.0</td>\n    </tr>\n    <tr>\n      <th>22998</th>\n      <td>04175</td>\n      <td>climate_summary</td>\n      <td>precipitation_height</td>\n      <td>2018-02-17 00:00:00+00:00</td>\n      <td>14.3</td>\n      <td>3.0</td>\n    </tr>\n    <tr>\n      <th>22999</th>\n      <td>04175</td>\n      <td>climate_summary</td>\n      <td>precipitation_height</td>\n      <td>2018-02-18 00:00:00+00:00</td>\n      <td>0.0</td>\n      <td>3.0</td>\n    </tr>\n    <tr>\n      <th>23000</th>\n      <td>04175</td>\n      <td>climate_summary</td>\n      <td>precipitation_height</td>\n      <td>2018-02-19 00:00:00+00:00</td>\n      <td>0.0</td>\n      <td>3.0</td>\n    </tr>\n  </tbody>\n</table>\n<p>701 rows × 6 columns</p>\n</div>"
     },
     "execution_count": 305,
     "metadata": {},
     "output_type": "execute_result"
    }
   ],
   "source": [
    "precipitation_rheinfelden_historical.loc[22300:23000]"
   ],
   "metadata": {
    "collapsed": false,
    "pycharm": {
     "name": "#%%\n"
    }
   }
  },
  {
   "cell_type": "markdown",
   "source": [
    "Unfortunately, the data of rheinfelden is also missing quite some values. That is, why we will not use this data as well. What's left are the precipitation data of Freiburg, Mannheim and Rheinau."
   ],
   "metadata": {
    "collapsed": false,
    "pycharm": {
     "name": "#%% md\n"
    }
   }
  },
  {
   "cell_type": "code",
   "execution_count": null,
   "metadata": {
    "scrolled": true
   },
   "outputs": [],
   "source": [
    "print(len(precipitation_ma_historical), len(precipitation_ma_recent))"
   ]
  },
  {
   "cell_type": "markdown",
   "source": [
    "Adjust the data to be in the right range. This is done by cutting the historical df into the range [startdate_kaub_data, end_historical_data] and the recent df to [end_historical_data + 1, end_kaub_data]"
   ],
   "metadata": {
    "collapsed": false,
    "pycharm": {
     "name": "#%% md\n"
    }
   }
  },
  {
   "cell_type": "code",
   "execution_count": null,
   "metadata": {},
   "outputs": [],
   "source": [
    "precipitation_ma_historical['date'] = pd.to_datetime(precipitation_ma_historical['date'], unit='s').dt.date\n",
    "precipitation_ma_recent['date'] = pd.to_datetime(precipitation_ma_recent['date'], unit='s').dt.date\n",
    "precipitation_frei_historical['date'] = pd.to_datetime(precipitation_frei_historical['date'], unit='s').dt.date\n",
    "precipitation_frei_recent['date'] = pd.to_datetime(precipitation_frei_recent['date'], unit='s').dt.date\n",
    "precipitation_rheinau_historical['date'] = pd.to_datetime(precipitation_rheinau_historical['date'], unit='s').dt.date\n",
    "precipitation_rheinau_recent['date'] = pd.to_datetime(precipitation_rheinau_recent['date'], unit='s').dt.date"
   ]
  },
  {
   "cell_type": "markdown",
   "source": [
    "Next up, we need to know the amount of shifting that needs to be done since precipitation has a delayed effect on water levels. It may need to be shifted even more for the cities Freiburg or Rheinau, since they are farther away from Ludwigshafen/Mannheim."
   ],
   "metadata": {
    "collapsed": false,
    "pycharm": {
     "name": "#%% md\n"
    }
   }
  },
  {
   "cell_type": "code",
   "execution_count": null,
   "outputs": [],
   "source": [
    "startdate = pd.to_datetime(df['date'].iloc[0]).date()\n",
    "inter_enddate = pd.to_datetime(precipitation_ma_historical['date'].iloc[-1]).date()\n",
    "inter_startdate = pd.to_datetime(\"2021-1-1\").date()\n",
    "enddate = pd.to_datetime(df['date'].iloc[-1]).date()"
   ],
   "metadata": {
    "collapsed": false,
    "pycharm": {
     "name": "#%%\n"
    }
   }
  },
  {
   "cell_type": "code",
   "execution_count": null,
   "outputs": [],
   "source": [
    "def edit_dataframe(prec_historical, prec_recent):\n",
    "    prec_total = prec_historical.append(prec_recent).reset_index(drop=True)\n",
    "    prec_total = prec_total.rename({'value':'precipitation_height'}, axis=1)\n",
    "    prec_total = prec_total.drop(['parameter', 'dataset', 'station_id', 'quality'], axis=1)\n",
    "    assert(len(prec_total) == len(df))\n",
    "    prec_total = prec_total.drop('date', axis = 1)\n",
    "    return prec_total"
   ],
   "metadata": {
    "collapsed": false,
    "pycharm": {
     "name": "#%%\n"
    }
   }
  },
  {
   "cell_type": "code",
   "execution_count": null,
   "outputs": [],
   "source": [
    "def get_best_shift(nmbr_shifts, df_recent, df_hist):\n",
    "    totals = []\n",
    "    for i in range(1, nmbr_shifts+1):\n",
    "        recent_shift = df_recent.loc[df_recent['date'].between(inter_startdate-timedelta(days=i), enddate-timedelta(days=i), inclusive=True)]\n",
    "        hist_shift = df_hist.loc[df_hist['date'].between(startdate-timedelta(days=i), inter_enddate-timedelta(days=i), inclusive=True)]\n",
    "        recent_shift = recent_shift.fillna(method='ffill')\n",
    "        hist_shift = hist_shift.fillna(method='ffill')\n",
    "        x = edit_dataframe(hist_shift, recent_shift)\n",
    "        totals.append(x)\n",
    "\n",
    "\n",
    "    best = []\n",
    "    for precipitation in totals:\n",
    "        cor = precipitation['precipitation_height'].corr(df['level'], method='spearman')\n",
    "        best.append(cor)\n",
    "    index, element = max(enumerate(best), key=itemgetter(1))\n",
    "    return (index, element), best"
   ],
   "metadata": {
    "collapsed": false,
    "pycharm": {
     "name": "#%%\n"
    }
   }
  },
  {
   "cell_type": "markdown",
   "source": [],
   "metadata": {
    "collapsed": false
   }
  },
  {
   "cell_type": "code",
   "execution_count": null,
   "outputs": [],
   "source": [
    "shift_ma, cor_array_ma = get_best_shift(50, precipitation_ma_recent, precipitation_ma_historical)\n",
    "shift_frei, cor_array_frei = get_best_shift(50, precipitation_frei_recent, precipitation_frei_historical)\n",
    "shift_rhei, cor_array_rhei = get_best_shift(50, precipitation_rheinau_recent, precipitation_rheinau_historical)"
   ],
   "metadata": {
    "collapsed": false,
    "pycharm": {
     "name": "#%%\n"
    }
   }
  },
  {
   "cell_type": "code",
   "execution_count": null,
   "outputs": [],
   "source": [
    "print(shift_ma, shift_frei, shift_rhei)"
   ],
   "metadata": {
    "collapsed": false,
    "pycharm": {
     "name": "#%%\n"
    }
   }
  },
  {
   "cell_type": "code",
   "execution_count": null,
   "outputs": [],
   "source": [
    "print(len(cor_array_ma), len(cor_array_frei), len(cor_array_rhei))"
   ],
   "metadata": {
    "collapsed": false,
    "pycharm": {
     "name": "#%%\n"
    }
   }
  },
  {
   "cell_type": "code",
   "execution_count": null,
   "outputs": [],
   "source": [
    "plt.plot(np.arange(len(cor_array_ma)), cor_array_ma, label='Mannheim')\n",
    "plt.plot(np.arange(len(cor_array_frei)), cor_array_frei, label='Freiburg')\n",
    "plt.plot(np.arange(len(cor_array_rhei)), cor_array_rhei, label='Rheinau')\n",
    "plt.xlabel('Dataframe shifting in days')\n",
    "plt.ylabel('Spearman correlation coefficient')\n",
    "plt.legend()\n",
    "plt.title('Impact of precipitation on water level')\n",
    "plt.savefig(path + 'correlation.png')"
   ],
   "metadata": {
    "collapsed": false,
    "pycharm": {
     "name": "#%%\n"
    }
   }
  },
  {
   "cell_type": "markdown",
   "source": [
    "Interestingly enough, the correlation is the highest in Rheinau while in Mannheim the correlation is the lowest. This is especially interesting, since one could generally have assumed that the correlation between the water level of the Rhine in Mannheim and the precipitation in Mannheim should be the highest. This, however, is not the case, even if it should be mentioned, that the station in Rheinau, where precipitation is measured, is nearer to the rhine than the one in Mannheim.\n",
    "\n",
    "Another interesting bit is, that for every city, whether it be Mannheim or Freiburg, the highest correlation is at a shift of 4 days. This is particularly interesting, since the distance between Freiburg and Mannheim is 200km. It is hard to get information about the velocity of the Rhine. The SWR says, that the water flows at a velocity of 6kp/h at Mannheim (cf. https://www.swr.de/wissen/1000-antworten/wissenschaft-und-forschung/1000-antworten-2894.html#:~:text=Steht%20man%20in%20Mannheim%20am,Schneller%20als%20ein%20z%C3%BCgiger%20Fu%C3%9Fg%C3%A4nger). This could be faster or slower for the part of the Rhine between Freiburg and Mannheim depending on various different aspects: River width, channel shape, the volume of water and the gradient of its riverbed.\n",
    "\n",
    "If we would assume the river to have a constant velocity of 6km/h between Freiburg and Mannheim, then the precipitation in Freiburg should have at least a 200km/6km/h = 33hours delay in contrast to the precipitation in Mannheim. I.e., the highest impact/correlation should be by shifting the data of precipitation in Freiburg by 5 days, when the correlation of precipitation to water levels in Mannheim takes 4 days.\n",
    "\n",
    "There could be multiple reasons why this is not the case here:\n",
    "1. The weather stations are sometimes far away, sometimes near by river => The data is noisy, since the weather could be vastly different even when the weather station's distance to the Rhine is only a few kilometres.\n",
    "2. The Rhine flows a lot faster between Freiburg and Mannheim => Could be the case, but unlikely, since the Rhine would have to flow much faster\n",
    "3. Different time of recording for the day. A weather station could for example measure its precipitation not until midnight but could stop earlier and could then put the rest of the daily precipitation onto the next day => Also rather unlikely, since I would assume that the stations use the same time period for their measurements nationwide, but definitely statewide."
   ],
   "metadata": {
    "collapsed": false,
    "pycharm": {
     "name": "#%% md\n"
    }
   }
  },
  {
   "cell_type": "code",
   "execution_count": null,
   "metadata": {},
   "outputs": [],
   "source": [
    "precipitation_ma_historical = precipitation_ma_historical.loc[precipitation_ma_historical['date'].between(startdate-timedelta(days=shift_ma[0]), inter_enddate-timedelta(days=shift_ma[0]), inclusive=True)]\n",
    "precipitation_ma_recent = precipitation_ma_recent.loc[precipitation_ma_recent['date'].between(inter_startdate-timedelta(days=shift_ma[0]), enddate-timedelta(days=shift_ma[0]), inclusive=True)]\n",
    "\n",
    "precipitation_rheinau_historical = precipitation_rheinau_historical.loc[precipitation_rheinau_historical['date'].between(startdate-timedelta(days=shift_frei[0]), inter_enddate-timedelta(days=shift_frei[0]), inclusive=True)]\n",
    "precipitation_rheinau_recent = precipitation_rheinau_recent.loc[precipitation_rheinau_recent['date'].between(inter_startdate-timedelta(days=shift_frei[0]), enddate-timedelta(days=shift_frei[0]), inclusive=True)]\n",
    "\n",
    "precipitation_frei_historical = precipitation_frei_historical.loc[precipitation_frei_historical['date'].between(startdate-timedelta(days=shift_rhei[0]), inter_enddate-timedelta(days=shift_rhei[0]), inclusive=True)]\n",
    "precipitation_frei_recent = precipitation_frei_recent.loc[precipitation_frei_recent['date'].between(inter_startdate-timedelta(days=shift_rhei[0]), enddate-timedelta(days=shift_rhei[0]), inclusive=True)]"
   ]
  },
  {
   "cell_type": "code",
   "execution_count": null,
   "outputs": [],
   "source": [
    "precipitation_ma_historical"
   ],
   "metadata": {
    "collapsed": false,
    "pycharm": {
     "name": "#%%\n"
    }
   }
  },
  {
   "cell_type": "code",
   "execution_count": null,
   "outputs": [],
   "source": [
    "df"
   ],
   "metadata": {
    "collapsed": false,
    "pycharm": {
     "name": "#%%\n"
    }
   }
  },
  {
   "cell_type": "markdown",
   "source": [],
   "metadata": {
    "collapsed": false,
    "pycharm": {
     "name": "#%% md\n"
    }
   }
  },
  {
   "cell_type": "code",
   "execution_count": null,
   "outputs": [],
   "source": [
    "len(precipitation_ma_historical)"
   ],
   "metadata": {
    "collapsed": false,
    "pycharm": {
     "name": "#%%\n"
    }
   }
  },
  {
   "cell_type": "code",
   "execution_count": null,
   "outputs": [],
   "source": [
    "len(precipitation_rheinau_historical)"
   ],
   "metadata": {
    "collapsed": false,
    "pycharm": {
     "name": "#%%\n"
    }
   }
  },
  {
   "cell_type": "code",
   "execution_count": null,
   "outputs": [],
   "source": [
    "len(precipitation_frei_historical)"
   ],
   "metadata": {
    "collapsed": false,
    "pycharm": {
     "name": "#%%\n"
    }
   }
  },
  {
   "cell_type": "markdown",
   "source": [],
   "metadata": {
    "collapsed": false
   }
  },
  {
   "cell_type": "code",
   "execution_count": null,
   "metadata": {},
   "outputs": [],
   "source": [
    "assert(len(precipitation_ma_historical == len(precipitation_rheinau_historical)) == len(precipitation_frei_historical))\n",
    "assert(len(precipitation_ma_recent == len(precipitation_rheinau_recent)) == len(precipitation_frei_recent))"
   ]
  },
  {
   "cell_type": "markdown",
   "source": [
    "Unfortunately, the the historical data of the DWD has two NaN values in it. In the following, I will simply interpolate these missing values using ffill. This will propagate the last observed value to it. This may not be the optimal solution for dealing with these two specific missing values, but in the grand scheme of things, when using an LSTM, this should not be an issue."
   ],
   "metadata": {
    "collapsed": false,
    "pycharm": {
     "name": "#%% md\n"
    }
   }
  },
  {
   "cell_type": "code",
   "execution_count": null,
   "outputs": [],
   "source": [
    "precipitation_frei_historical[precipitation_frei_historical.isna().any(axis=1)]"
   ],
   "metadata": {
    "collapsed": false,
    "pycharm": {
     "name": "#%%\n"
    }
   }
  },
  {
   "cell_type": "code",
   "execution_count": null,
   "outputs": [],
   "source": [
    "precipitation_ma_historical[precipitation_ma_historical.isna().any(axis=1)]"
   ],
   "metadata": {
    "collapsed": false,
    "pycharm": {
     "name": "#%%\n"
    }
   }
  },
  {
   "cell_type": "code",
   "execution_count": null,
   "metadata": {},
   "outputs": [],
   "source": [
    "precipitation_ma_historical = precipitation_ma_historical.fillna(method='ffill')\n",
    "precipitation_frei_historical = precipitation_frei_historical.fillna(method='ffill')"
   ]
  },
  {
   "cell_type": "code",
   "execution_count": null,
   "outputs": [],
   "source": [
    "precipitation_ma = edit_dataframe(precipitation_ma_historical, precipitation_ma_recent)\n",
    "precipitation_frei = edit_dataframe(precipitation_frei_historical, precipitation_frei_recent)\n",
    "precipitation_rheinau = edit_dataframe(precipitation_rheinau_historical, precipitation_rheinau_recent)"
   ],
   "metadata": {
    "collapsed": false,
    "pycharm": {
     "name": "#%%\n"
    }
   }
  },
  {
   "cell_type": "code",
   "execution_count": null,
   "metadata": {},
   "outputs": [],
   "source": [
    "df = df.drop('date', axis = 1)"
   ]
  },
  {
   "cell_type": "code",
   "execution_count": null,
   "metadata": {},
   "outputs": [],
   "source": [
    "df['precipitation_ma_height'] = precipitation_ma['precipitation_height']\n",
    "df['precipitation_frei_height'] = precipitation_frei['precipitation_height']\n",
    "df['precipitation_rheinau_height'] = precipitation_rheinau['precipitation_height']"
   ]
  },
  {
   "cell_type": "markdown",
   "source": [
    "## Correlation between precipitation and water level"
   ],
   "metadata": {
    "collapsed": false,
    "pycharm": {
     "name": "#%% md\n"
    }
   }
  },
  {
   "cell_type": "code",
   "execution_count": null,
   "metadata": {},
   "outputs": [],
   "source": [
    "df['precipitation_ma_height'].corr(df['level'], method='pearson')"
   ]
  },
  {
   "cell_type": "code",
   "execution_count": null,
   "outputs": [],
   "source": [
    "df['precipitation_ma_height'].corr(df['level'], method='spearman')"
   ],
   "metadata": {
    "collapsed": false,
    "pycharm": {
     "name": "#%%\n"
    }
   }
  },
  {
   "cell_type": "code",
   "execution_count": null,
   "outputs": [],
   "source": [
    "df['precipitation_ma_height'].corr(df['level'], method='kendall')"
   ],
   "metadata": {
    "collapsed": false,
    "pycharm": {
     "name": "#%%\n"
    }
   }
  },
  {
   "cell_type": "code",
   "execution_count": null,
   "outputs": [],
   "source": [
    "df = df.drop(['precipitation_ma_height', 'precipitation_frei_height', 'precipitation_rheinau_height'], axis=1)"
   ],
   "metadata": {
    "collapsed": false,
    "pycharm": {
     "name": "#%%\n"
    }
   }
  },
  {
   "cell_type": "markdown",
   "metadata": {},
   "source": [
    "Split the data in train-validation-test split: 70:20:10 ratio. In order to get a more accurate overall presentation of the data, i.e. to guarantee that the data is i.i.d, one could randomly shuffle the data. This generally leads to lower variance and less overfitting when training a neural network. I did not decide to do this however, since this would badly influence the performance of the model because the data points are time dependent on each other.\n",
    "\n",
    "Not shuffling the data leads to another problem: The distributions of the training/validation/test-dataset may be different. This can mean, that the model is fitting nicely on the training data, but is having trouble generalizing its \"findings\" onto the test dataset, since the test dataset is from another distribution. This could lead to underfitting. (I also tested this briefly and like I stated, the model then underfitted)"
   ]
  },
  {
   "cell_type": "code",
   "execution_count": null,
   "outputs": [],
   "source": [
    "column_indices = {name: i for i, name in enumerate(df.columns)}\n",
    "train_df = df[0:int(len(df)*0.7)]\n",
    "val_df = df[int(len(df)*0.7):int(len(df)*0.9)]\n",
    "test_df = df[int(len(df)*0.9):]\n",
    "\n",
    "num_features = df.shape[1]"
   ],
   "metadata": {
    "collapsed": false,
    "pycharm": {
     "name": "#%%\n"
    }
   }
  },
  {
   "cell_type": "code",
   "execution_count": null,
   "metadata": {},
   "outputs": [],
   "source": [
    "train_df.describe()"
   ]
  },
  {
   "cell_type": "code",
   "execution_count": null,
   "metadata": {
    "scrolled": true
   },
   "outputs": [],
   "source": [
    "test_df.describe()"
   ]
  },
  {
   "cell_type": "code",
   "execution_count": null,
   "metadata": {},
   "outputs": [],
   "source": [
    "print(f'Train mean: {train_df[\"level\"].mean()}, Train std: {train_df[\"level\"].std()}')"
   ]
  },
  {
   "cell_type": "code",
   "execution_count": null,
   "metadata": {},
   "outputs": [],
   "source": [
    "print(f'Validation mean: {val_df[\"level\"].mean()}, {val_df[\"level\"].std()}')"
   ]
  },
  {
   "cell_type": "code",
   "execution_count": null,
   "metadata": {
    "scrolled": true
   },
   "outputs": [],
   "source": [
    "print(f'Test mean: {test_df[\"level\"].mean()}, {test_df[\"level\"].std()}')"
   ]
  },
  {
   "cell_type": "markdown",
   "metadata": {},
   "source": [
    "As could be seen in the notebook 'analysis', there is a trend in the data. While there exists an overall downward trend in the water levels of the rhine, as can be seen via linear regression, the overall mean level in the last 10% of the time series actually rose significantly. This is also due to the higher standard deviation, i.e. the water levels have higher highs and lower lows."
   ]
  },
  {
   "cell_type": "markdown",
   "metadata": {},
   "source": [
    "Test, if split was successful."
   ]
  },
  {
   "cell_type": "code",
   "execution_count": null,
   "metadata": {},
   "outputs": [],
   "source": [
    "assert(len(train_df) + len(val_df) + len(test_df) == len(df))"
   ]
  },
  {
   "cell_type": "markdown",
   "metadata": {},
   "source": [
    "Maybe use moving averages instead of average in the next cell since the model shouldn't have access to future values in the training set when training?!"
   ]
  },
  {
   "cell_type": "code",
   "execution_count": null,
   "metadata": {},
   "outputs": [],
   "source": [
    "pre_transformation = train_df"
   ]
  },
  {
   "cell_type": "markdown",
   "metadata": {},
   "source": [
    "Since there are many outliers, we use the RobustScaler instead of the StandardScaler."
   ]
  },
  {
   "cell_type": "code",
   "execution_count": null,
   "metadata": {},
   "outputs": [],
   "source": [
    "scaler = RobustScaler().fit(train_df.values)\n",
    "train_scaled = scaler.transform(train_df)\n",
    "val_scaled = scaler.transform(val_df)\n",
    "test_scaled = scaler.transform(test_df)"
   ]
  },
  {
   "cell_type": "code",
   "execution_count": null,
   "metadata": {},
   "outputs": [],
   "source": [
    "train_df = pd.DataFrame(train_scaled, index=train_df.index, columns=train_df.columns)\n",
    "val_df = pd.DataFrame(val_scaled, index=val_df.index, columns=val_df.columns)\n",
    "test_df = pd.DataFrame(test_scaled, index=test_df.index, columns=test_df.columns)"
   ]
  },
  {
   "cell_type": "code",
   "execution_count": null,
   "outputs": [],
   "source": [
    "train_df"
   ],
   "metadata": {
    "collapsed": false,
    "pycharm": {
     "name": "#%%\n"
    }
   }
  },
  {
   "cell_type": "code",
   "execution_count": null,
   "metadata": {},
   "outputs": [],
   "source": [
    "pre_transformation.plot()\n",
    "train_df.plot()"
   ]
  },
  {
   "cell_type": "code",
   "execution_count": null,
   "metadata": {},
   "outputs": [],
   "source": [
    "print(f' The data pre transformation is in range [{pre_transformation[\"level\"].min()},  {pre_transformation[\"level\"].max()}]\\n'\n",
    "      f' the (test) data after transformation is in range: [{round(test_df[\"level\"].min(),2)}, {round(test_df[\"level\"].max(), 2)}]')\n"
   ]
  },
  {
   "cell_type": "code",
   "execution_count": null,
   "outputs": [],
   "source": [
    "test_df.describe()"
   ],
   "metadata": {
    "collapsed": false,
    "pycharm": {
     "name": "#%%\n"
    }
   }
  },
  {
   "cell_type": "code",
   "execution_count": null,
   "metadata": {},
   "outputs": [],
   "source": [
    "class WindowGenerator():\n",
    "    def __init__(self, input_width, label_width, shift,\n",
    "                   train_df=train_df, val_df=val_df, test_df=test_df,\n",
    "                   label_columns=None):\n",
    "        # Store the raw data.\n",
    "        self.train_df = train_df\n",
    "        self.val_df = val_df\n",
    "        self.test_df = test_df\n",
    "\n",
    "        # Work out the label column indices.\n",
    "        self.label_columns = label_columns\n",
    "        if label_columns is not None:\n",
    "            self.label_columns_indices = {name: i for i, name in\n",
    "                                        enumerate(label_columns)}\n",
    "        self.column_indices = {name: i for i, name in\n",
    "                               enumerate(train_df.columns)}\n",
    "\n",
    "        # Work out the window parameters.\n",
    "        self.input_width = input_width\n",
    "        self.label_width = label_width\n",
    "        self.shift = shift\n",
    "\n",
    "        self.total_window_size = input_width + shift\n",
    "\n",
    "        self.input_slice = slice(0, input_width)\n",
    "        self.input_indices = np.arange(self.total_window_size)[self.input_slice]\n",
    "\n",
    "        self.label_start = self.total_window_size - self.label_width\n",
    "        self.labels_slice = slice(self.label_start, None)\n",
    "        self.label_indices = np.arange(self.total_window_size)[self.labels_slice]\n",
    "        \n",
    "    \n",
    "    def __repr__(self):\n",
    "        return '\\n'.join([\n",
    "            f'Total window size: {self.total_window_size}',\n",
    "            f'Input indices: {self.input_indices}',\n",
    "            f'Label indices: {self.label_indices}',\n",
    "            f'Label column name(s): {self.label_columns}'])"
   ]
  },
  {
   "cell_type": "code",
   "execution_count": null,
   "metadata": {},
   "outputs": [],
   "source": [
    "def split_window(self, features):\n",
    "    inputs = features[:, self.input_slice, :]\n",
    "    labels = features[:, self.labels_slice, :]\n",
    "    if self.label_columns is not None:\n",
    "        labels = tf.stack(\n",
    "            [labels[:, :, self.column_indices[name]] for name in self.label_columns],\n",
    "            axis=-1)\n",
    "\n",
    "    # Slicing doesn't preserve static shape information, so set the shapes\n",
    "    # manually. This way the `tf.data.Datasets` are easier to inspect.\n",
    "    inputs.set_shape([None, self.input_width, None])\n",
    "    labels.set_shape([None, self.label_width, None])\n",
    "\n",
    "    return inputs, labels\n",
    "\n",
    "WindowGenerator.split_window = split_window"
   ]
  },
  {
   "cell_type": "code",
   "execution_count": null,
   "metadata": {},
   "outputs": [],
   "source": [
    "def plot(self, model=None, plot_col='level', max_subplots=3):\n",
    "    inputs, labels = self.example\n",
    "    plt.figure(figsize=(12, 8))\n",
    "    plot_col_index = self.column_indices[plot_col]\n",
    "    max_n = min(max_subplots, len(inputs))\n",
    "    for n in range(max_n):\n",
    "        plt.subplot(max_n, 1, n+1)\n",
    "        plt.ylabel(f'{plot_col} [normed]')\n",
    "        plt.plot(self.input_indices, inputs[n, :, plot_col_index], label='Inputs', marker='.', zorder=-10)\n",
    "\n",
    "        if self.label_columns:\n",
    "            label_col_index = self.label_columns_indices.get(plot_col, None)\n",
    "        else:\n",
    "            label_col_index = plot_col_index\n",
    "\n",
    "        if label_col_index is None:\n",
    "            continue\n",
    "    \n",
    "        plt.scatter(self.label_indices, labels[n, :, label_col_index],\n",
    "                    edgecolors='k', label='Labels', c='#2ca02c', s=64)\n",
    "        if model is not None:\n",
    "            predictions = model(inputs)\n",
    "            plt.scatter(self.label_indices, predictions[n, :, label_col_index],\n",
    "                      marker='X', edgecolors='k', label='Predictions',\n",
    "                      c='#ff7f0e', s=64)\n",
    "\n",
    "        if n == 0:\n",
    "            plt.legend()\n",
    "\n",
    "    plt.xlabel('Day')\n",
    "\n",
    "WindowGenerator.plot = plot\n"
   ]
  },
  {
   "cell_type": "code",
   "execution_count": null,
   "metadata": {},
   "outputs": [],
   "source": [
    "@property\n",
    "def train(self):\n",
    "    return self.make_dataset(self.train_df)\n",
    "\n",
    "@property\n",
    "def val(self):\n",
    "    return self.make_dataset(self.val_df)\n",
    "\n",
    "@property\n",
    "def test(self):\n",
    "    return self.make_dataset(self.test_df)\n",
    "\n",
    "@property\n",
    "def example(self):\n",
    "    \"\"\"Get and cache an example batch of `inputs, labels` for plotting.\"\"\"\n",
    "    result = getattr(self, '_example', None)\n",
    "    if result is None:\n",
    "        # No example batch was found, so get one from the `.train` dataset\n",
    "        result = next(iter(self.train))\n",
    "        # And cache it for next time\n",
    "        self._example = result\n",
    "    return result\n",
    "\n",
    "WindowGenerator.train = train\n",
    "WindowGenerator.val = val\n",
    "WindowGenerator.test = test\n",
    "WindowGenerator.example = example"
   ]
  },
  {
   "cell_type": "code",
   "execution_count": null,
   "metadata": {},
   "outputs": [],
   "source": [
    "def make_dataset(self, data):\n",
    "    data = np.array(data, dtype=np.float32)\n",
    "    ds = tf.keras.preprocessing.timeseries_dataset_from_array(\n",
    "      data=data,\n",
    "      targets=None,\n",
    "      sequence_length=self.total_window_size,\n",
    "      sequence_stride=1,\n",
    "      shuffle=True,\n",
    "      batch_size=32,)\n",
    "\n",
    "    ds = ds.map(self.split_window)\n",
    "\n",
    "    return ds\n",
    "\n",
    "WindowGenerator.make_dataset = make_dataset"
   ]
  },
  {
   "cell_type": "code",
   "execution_count": null,
   "metadata": {},
   "outputs": [],
   "source": [
    "single_step_window = WindowGenerator(\n",
    "    input_width=30, label_width=30, shift=1,\n",
    "    label_columns=['level'])\n",
    "single_step_window\n",
    "\n",
    "single_step_window\n"
   ]
  },
  {
   "cell_type": "code",
   "execution_count": null,
   "metadata": {
    "scrolled": true
   },
   "outputs": [],
   "source": [
    "for example_inputs, example_labels in single_step_window.train.take(1):\n",
    "    print(f'Inputs shape (batch, time, features): {example_inputs.shape}')\n",
    "    print(f'Labels shape (batch, time, features): {example_labels.shape}')\n",
    "    "
   ]
  },
  {
   "cell_type": "code",
   "execution_count": null,
   "metadata": {},
   "outputs": [],
   "source": [
    "class Baseline(tf.keras.Model):\n",
    "    def __init__(self, label_index=None):\n",
    "        super().__init__()\n",
    "        self.label_index = label_index\n",
    "\n",
    "    def call(self, inputs):\n",
    "        if self.label_index is None:\n",
    "            return inputs\n",
    "        result = inputs[:, :, self.label_index]\n",
    "        return result[:, :, tf.newaxis]\n"
   ]
  },
  {
   "cell_type": "code",
   "execution_count": null,
   "metadata": {
    "scrolled": true
   },
   "outputs": [],
   "source": [
    "baseline = Baseline(label_index=column_indices['level'])\n",
    "\n",
    "baseline.compile(loss=tf.losses.MeanSquaredError(),\n",
    "                 metrics=[tf.metrics.MeanAbsoluteError()])\n",
    "\n",
    "train_performance = {}\n",
    "val_performance = {}\n",
    "performance = {}\n",
    "train_performance['Baseline'] = baseline.evaluate(single_step_window.train)\n",
    "val_performance['Baseline'] = baseline.evaluate(single_step_window.val)\n",
    "performance['Baseline'] = baseline.evaluate(single_step_window.test, verbose=0)\n"
   ]
  },
  {
   "cell_type": "code",
   "execution_count": null,
   "metadata": {
    "scrolled": true
   },
   "outputs": [],
   "source": [
    "single_step_window.plot(baseline)\n"
   ]
  },
  {
   "cell_type": "code",
   "execution_count": null,
   "metadata": {},
   "outputs": [],
   "source": [
    "MAX_EPOCHS = 200\n",
    "\n",
    "def compile_and_fit(model, window, patience=2):\n",
    "    early_stopping = tf.keras.callbacks.EarlyStopping(monitor='val_loss',\n",
    "                                                    patience=patience,\n",
    "                                                    mode='min')\n",
    "\n",
    "    model.compile(loss=tf.keras.losses.Huber(),\n",
    "                optimizer=tf.optimizers.Adam(),\n",
    "                metrics=[tf.metrics.MeanAbsoluteError()])\n",
    "\n",
    "    history = model.fit(window.train, epochs=MAX_EPOCHS,\n",
    "                      validation_data=window.val,\n",
    "                      callbacks=[early_stopping])\n",
    "    return history"
   ]
  },
  {
   "cell_type": "markdown",
   "metadata": {},
   "source": [
    "Using Huber Loss for more robustness against outliers (vs for example mean squared error)"
   ]
  },
  {
   "cell_type": "code",
   "execution_count": null,
   "metadata": {},
   "outputs": [],
   "source": [
    "lstm_model = tf.keras.models.Sequential([\n",
    "    # Shape [batch, time, features] => [batch, time, lstm_units]\n",
    "    tf.keras.layers.LSTM(6, return_sequences=True),\n",
    "    tf.keras.layers.LSTM(4, return_sequences=True),\n",
    "    tf.keras.layers.Dense(units=1)\n",
    "])\n"
   ]
  },
  {
   "cell_type": "code",
   "execution_count": null,
   "metadata": {},
   "outputs": [],
   "source": [
    "history = compile_and_fit(lstm_model, single_step_window)\n",
    "IPython.display.clear_output()\n",
    "train_performance['LSTM'] = lstm_model.evaluate(single_step_window.train)\n",
    "val_performance['LSTM'] = lstm_model.evaluate(single_step_window.val)\n",
    "performance['LSTM'] = lstm_model.evaluate(single_step_window.test, verbose=0)\n",
    "\n"
   ]
  },
  {
   "cell_type": "code",
   "execution_count": null,
   "metadata": {
    "scrolled": false
   },
   "outputs": [],
   "source": [
    "lstm_model.summary()"
   ]
  },
  {
   "cell_type": "code",
   "execution_count": null,
   "metadata": {},
   "outputs": [],
   "source": [
    "plt.plot(history.history['val_mean_absolute_error'])\n",
    "plt.plot(history.history['mean_absolute_error'])"
   ]
  },
  {
   "cell_type": "code",
   "execution_count": null,
   "metadata": {},
   "outputs": [],
   "source": [
    "plt.plot(history.history['loss'])\n",
    "plt.plot(history.history['val_loss'])"
   ]
  },
  {
   "cell_type": "code",
   "execution_count": null,
   "metadata": {
    "scrolled": true
   },
   "outputs": [],
   "source": [
    "single_step_window.plot(lstm_model)"
   ]
  },
  {
   "cell_type": "markdown",
   "metadata": {},
   "source": [
    "StandardScaler:\n",
    "Baseline test: 0.1192\n",
    "LSTM test: 0.0842\n",
    "\n",
    "RobustScaler:\n",
    "Baseline test    : 0.1040\n",
    "LSTM test     : 0.0708\n",
    "\n",
    "PowerTransformer:\n",
    "Baseline test: 0.1016\n",
    "LSTM test: 0.0721\n",
    "\n",
    "When deleting the data with zscore < 3 and RobustScaler:\n",
    "Baseline test   : 0.0960\n",
    "LSTM test        : 0.0675\n"
   ]
  },
  {
   "cell_type": "markdown",
   "metadata": {},
   "source": [
    "Test Mean absolute Error Baseline    : 0.4157\n",
    "Test Mean absolute Error LSTM        : 0.4026"
   ]
  },
  {
   "cell_type": "markdown",
   "metadata": {},
   "source": [
    "with 30 index, 30 label, 7 shift:\n",
    "\n",
    "\n",
    "Feed forward network: 16, 4 layers: \n",
    "\n",
    "Test Mean absolute Error Baseline    : 0.4157\n",
    "Test Mean absolute Error LSTM        : 0.3795\n",
    "\n",
    "\n",
    "\n",
    "LSTM: 6,4 layers:\n",
    "\n",
    "Test Mean absolute Error Baseline    : 0.4157\n",
    "Test Mean absolute Error LSTM        : 0.3875"
   ]
  },
  {
   "cell_type": "code",
   "execution_count": null,
   "metadata": {},
   "outputs": [],
   "source": [
    "plt.ylabel('mean_absolute_error (water level, standardized)')\n",
    "x = np.arange(3)\n",
    "LSTM_performance = [train_performance['LSTM'][1], val_performance['LSTM'][1], performance['LSTM'][1]]\n",
    "barlist = plt.bar(x, LSTM_performance)\n",
    "plt.xticks(ticks=x, labels=['train error', 'val error', 'test error'],\n",
    "           rotation=45)\n",
    "plt.title('LSTM Error')\n",
    "barlist[0].set_color('orange')\n",
    "barlist[1].set_color('g')"
   ]
  },
  {
   "cell_type": "markdown",
   "metadata": {},
   "source": [
    "plt.scatter(self.label_indices, labels[n, :, label_col_index],\n",
    "                    edgecolors='k', label='Labels', c='#2ca02c', s=64)\n",
    "predictions = model(inputs)\n",
    "plt.scatter(self.label_indices, predictions[n, :, label_col_index], marker='X', edgecolors='k', label='Predictions', c='#ff7f0e', s=64)"
   ]
  },
  {
   "cell_type": "code",
   "execution_count": null,
   "metadata": {},
   "outputs": [],
   "source": [
    "ffn_model = tf.keras.models.Sequential([\n",
    "    # Shape [batch, time, features] => [batch, time, lstm_units]\n",
    "    tf.keras.layers.Dense(6),\n",
    "    tf.keras.layers.Dense(4),\n",
    "    tf.keras.layers.Dense(units=1)\n",
    "])\n"
   ]
  },
  {
   "cell_type": "code",
   "execution_count": null,
   "metadata": {},
   "outputs": [],
   "source": [
    "history = compile_and_fit(ffn_model, single_step_window)\n",
    "IPython.display.clear_output()\n",
    "train_performance['Dense'] = ffn_model.evaluate(single_step_window.train)\n",
    "val_performance['Dense'] = ffn_model.evaluate(single_step_window.val)\n",
    "performance['Dense'] = ffn_model.evaluate(single_step_window.test, verbose=0)\n",
    "\n"
   ]
  },
  {
   "cell_type": "code",
   "execution_count": null,
   "metadata": {
    "scrolled": true
   },
   "outputs": [],
   "source": [
    "ffn_model.summary()"
   ]
  },
  {
   "cell_type": "code",
   "execution_count": null,
   "metadata": {},
   "outputs": [],
   "source": [
    "print(history.history.keys())"
   ]
  },
  {
   "cell_type": "code",
   "execution_count": null,
   "metadata": {},
   "outputs": [],
   "source": [
    "plt.plot(history.history['val_mean_absolute_error'])\n",
    "plt.plot(history.history['mean_absolute_error'])"
   ]
  },
  {
   "cell_type": "code",
   "execution_count": null,
   "metadata": {
    "scrolled": true
   },
   "outputs": [],
   "source": [
    "single_step_window.plot(ffn_model)"
   ]
  },
  {
   "cell_type": "code",
   "execution_count": null,
   "metadata": {
    "scrolled": false
   },
   "outputs": [],
   "source": [
    "for name, value in performance.items():\n",
    "    print(f'Test Mean absolute Error {name}: {value[1]:0.4f}')\n"
   ]
  },
  {
   "cell_type": "code",
   "execution_count": null,
   "outputs": [],
   "source": [
    "print(f\"LSTM: Train: {train_performance['LSTM'][1]:.2f}, Validation: {val_performance['LSTM'][1]:.2f}, Test: {performance['LSTM'][1]:.2f}\")\n",
    "print(f\"Baseline: Train: {train_performance['Baseline'][1]:.2f}, Validation: {val_performance['Baseline'][1]:.2f}, Test: {performance['Baseline'][1]:.2f}\")\n",
    "print(f\"Dense: Train: {train_performance['Dense'][1]:.2f}, Validation: {val_performance['Dense'][1]:.2f}, Test: {performance['Dense'][1]:.2f}\")\n"
   ],
   "metadata": {
    "collapsed": false,
    "pycharm": {
     "name": "#%%\n"
    }
   }
  },
  {
   "cell_type": "markdown",
   "metadata": {},
   "source": [
    "StandardScaler:\n",
    "Baseline test: 0.1192\n",
    "LSTM test: 0.0842\n",
    "\n",
    "RobustScaler:\n",
    "Baseline test    : 0.1040\n",
    "LSTM test     : 0.0708\n",
    "\n",
    "PowerTransformer:\n",
    "Baseline test: 0.1016\n",
    "LSTM test: 0.0721\n",
    "\n",
    "When deleting the data with zscore < 3 and RobustScaler:\n",
    "Baseline test   : 0.0960\n",
    "LSTM test        : 0.0675\n"
   ]
  },
  {
   "cell_type": "markdown",
   "metadata": {},
   "source": [
    "Test Mean absolute Error Baseline    : 0.4157\n",
    "Test Mean absolute Error LSTM        : 0.4026"
   ]
  },
  {
   "cell_type": "markdown",
   "metadata": {},
   "source": [
    "with 30 index, 30 label, 7 shift:\n",
    "\n",
    "\n",
    "Feed forward network: 16, 4 layers: \n",
    "\n",
    "Test Mean absolute Error Baseline    : 0.4157\n",
    "Test Mean absolute Error LSTM        : 0.3795\n",
    "\n",
    "\n",
    "\n",
    "LSTM: 6,4 layers:\n",
    "\n",
    "Test Mean absolute Error Baseline    : 0.4157\n",
    "Test Mean absolute Error LSTM        : 0.3875"
   ]
  },
  {
   "cell_type": "code",
   "execution_count": null,
   "metadata": {
    "scrolled": false
   },
   "outputs": [],
   "source": [
    "x = np.arange(len(performance))\n",
    "width = 0.3\n",
    "metric_name = 'mean_absolute_error'\n",
    "metric_index = lstm_model.metrics_names.index('mean_absolute_error')\n",
    "val_mae = [v[metric_index] for v in val_performance.values()]\n",
    "test_mae = [v[metric_index] for v in performance.values()]\n",
    "\n",
    "plt.ylabel('mean_absolute_error (normalized)]')\n",
    "plt.bar(x - 0.17, val_mae, width, label='Validation')\n",
    "plt.bar(x + 0.17, test_mae, width, label='Test')\n",
    "plt.xticks(ticks=x, labels=performance.keys(),\n",
    "           rotation=45)\n",
    "_ = plt.legend()\n"
   ]
  },
  {
   "cell_type": "code",
   "execution_count": null,
   "metadata": {},
   "outputs": [],
   "source": [
    "plt.ylabel('mean_absolute_error [T (degC), normalized]')\n",
    "x = np.arange(3)\n",
    "dense_performance = [train_performance['Dense'][1], val_performance['Dense'][1], performance['Dense'][1]]\n",
    "barlist = plt.bar(x, dense_performance)\n",
    "plt.xticks(ticks=x, labels=['train error', 'val error', 'test error'],\n",
    "           rotation=45)\n",
    "barlist[0].set_color('orange')\n",
    "barlist[1].set_color('g')"
   ]
  },
  {
   "cell_type": "code",
   "execution_count": null,
   "metadata": {},
   "outputs": [],
   "source": []
  },
  {
   "cell_type": "code",
   "execution_count": null,
   "metadata": {},
   "outputs": [],
   "source": []
  }
 ],
 "metadata": {
  "kernelspec": {
   "display_name": "Python forecasting",
   "language": "python",
   "name": "forecasting"
  },
  "language_info": {
   "codemirror_mode": {
    "name": "ipython",
    "version": 3
   },
   "file_extension": ".py",
   "mimetype": "text/x-python",
   "name": "python",
   "nbconvert_exporter": "python",
   "pygments_lexer": "ipython3",
   "version": "3.9.7"
  }
 },
 "nbformat": 4,
 "nbformat_minor": 4
}
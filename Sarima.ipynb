{
 "cells": [
  {
   "cell_type": "code",
   "execution_count": 62,
   "metadata": {},
   "outputs": [],
   "source": [
    "import pandas as pd\n",
    "import numpy as np\n",
    "import matplotlib.pyplot as plt\n",
    "from pmdarima.arima import auto_arima\n",
    "from statsmodels.tsa.statespace.sarimax import SARIMAX"
   ]
  },
  {
   "cell_type": "code",
   "execution_count": 63,
   "metadata": {},
   "outputs": [],
   "source": [
    "df = pd.read_csv('data/Kaub_Level_Since_2013.csv')"
   ]
  },
  {
   "cell_type": "code",
   "execution_count": 64,
   "metadata": {
    "scrolled": true
   },
   "outputs": [
    {
     "name": "stdout",
     "output_type": "stream",
     "text": [
      "3224\n"
     ]
    }
   ],
   "source": [
    "print(len(df))"
   ]
  },
  {
   "cell_type": "markdown",
   "metadata": {},
   "source": [
    "Now make a 90-10 train test split\n",
    "\n"
   ]
  },
  {
   "cell_type": "code",
   "execution_count": 65,
   "metadata": {},
   "outputs": [
    {
     "name": "stdout",
     "output_type": "stream",
     "text": [
      "322\n",
      "2902\n",
      "322\n"
     ]
    }
   ],
   "source": [
    "test_size = round(len(df) / 10)\n",
    "df_train = df[test_size:]\n",
    "df_test = df[:test_size]\n",
    "print(len(df_train))\n",
    "print(len(df_test))"
   ]
  },
  {
   "cell_type": "code",
   "execution_count": null,
   "metadata": {},
   "outputs": [
    {
     "name": "stdout",
     "output_type": "stream",
     "text": [
      "Performing stepwise search to minimize aic\n",
      " ARIMA(2,0,2)(1,0,1)[7] intercept   : AIC=22523.429, Time=3.59 sec\n",
      " ARIMA(0,0,0)(0,0,0)[7] intercept   : AIC=34931.637, Time=0.03 sec\n",
      " ARIMA(1,0,0)(1,0,0)[7] intercept   : AIC=24839.052, Time=1.02 sec\n",
      " ARIMA(0,0,1)(0,0,1)[7] intercept   : AIC=29917.180, Time=1.42 sec\n",
      " ARIMA(0,0,0)(0,0,0)[7]             : AIC=39615.929, Time=0.02 sec\n",
      " ARIMA(2,0,2)(0,0,1)[7] intercept   : AIC=22527.411, Time=2.02 sec\n",
      " ARIMA(2,0,2)(1,0,0)[7] intercept   : AIC=22527.404, Time=3.05 sec\n",
      " ARIMA(2,0,2)(2,0,1)[7] intercept   : AIC=22521.419, Time=7.00 sec\n",
      " ARIMA(2,0,2)(2,0,0)[7] intercept   : AIC=22525.009, Time=5.81 sec\n",
      " ARIMA(2,0,2)(2,0,2)[7] intercept   : AIC=22522.376, Time=24.54 sec\n",
      " ARIMA(2,0,2)(1,0,2)[7] intercept   : AIC=22521.230, Time=21.36 sec\n",
      " ARIMA(2,0,2)(0,0,2)[7] intercept   : AIC=22525.385, Time=13.29 sec\n",
      " ARIMA(1,0,2)(1,0,2)[7] intercept   : AIC=22572.446, Time=17.85 sec\n",
      " ARIMA(2,0,1)(1,0,2)[7] intercept   : AIC=22544.867, Time=4.76 sec\n",
      " ARIMA(3,0,2)(1,0,2)[7] intercept   : AIC=22513.709, Time=23.56 sec\n",
      " ARIMA(3,0,2)(0,0,2)[7] intercept   : AIC=22515.707, Time=14.51 sec\n",
      " ARIMA(3,0,2)(1,0,1)[7] intercept   : AIC=22515.823, Time=3.31 sec\n"
     ]
    }
   ],
   "source": [
    "auto_arima(df_train['level'], m=7, trace=True)"
   ]
  },
  {
   "cell_type": "code",
   "execution_count": null,
   "metadata": {},
   "outputs": [],
   "source": [
    "my_order = (0, 1, 3)\n",
    "my_seasonal_order = (0, 0, 0, 7)\n",
    "model = SARIMAX(df_train['level'], order=my_order, seasonal_order=my_seasonal_order, enforce_stationarity=False)\n",
    "model_fit = model.fit(maxiter=200)\n",
    "yhat = model_fit.forecast()"
   ]
  },
  {
   "cell_type": "code",
   "execution_count": null,
   "metadata": {},
   "outputs": [],
   "source": [
    "start = len(df_train)\n",
    "end = len(df_train) + len(df_test) - 1\n",
    "prediction = model_fit.predict(start, end).rename('Prediction')\n",
    "ax = df_test['level'].plot(legend=True, figsize=(16,8))\n",
    "prediction.plot(legend=True)\n"
   ]
  },
  {
   "cell_type": "code",
   "execution_count": null,
   "metadata": {},
   "outputs": [],
   "source": []
  }
 ],
 "metadata": {
  "kernelspec": {
   "display_name": "Python forecasting",
   "language": "python",
   "name": "forecasting"
  },
  "language_info": {
   "codemirror_mode": {
    "name": "ipython",
    "version": 3
   },
   "file_extension": ".py",
   "mimetype": "text/x-python",
   "name": "python",
   "nbconvert_exporter": "python",
   "pygments_lexer": "ipython3",
   "version": "3.9.7"
  }
 },
 "nbformat": 4,
 "nbformat_minor": 2
}

{
 "cells": [
  {
   "cell_type": "code",
   "execution_count": 10,
   "metadata": {},
   "outputs": [],
   "source": [
    "import pandas as pd\n",
    "import numpy as np\n",
    "import matplotlib.pyplot as plt\n",
    "from pmdarima.arima import auto_arima\n",
    "from statsmodels.tsa.statespace.sarimax import SARIMAX\n",
    "from sklearn.preprocessing import RobustScaler"
   ]
  },
  {
   "cell_type": "markdown",
   "source": [
    "## Training a SARIMA model on the whole data, predicting the level from 2021-12-11 to 2021-12-18"
   ],
   "metadata": {
    "collapsed": false,
    "pycharm": {
     "name": "#%% md\n"
    }
   }
  },
  {
   "cell_type": "code",
   "execution_count": 11,
   "metadata": {},
   "outputs": [],
   "source": [
    "df_original = pd.read_csv('data/Kaub_Level_Since_2013_updated_v2.csv')\n",
    "path = 'results/' # Used for saving figures later on"
   ]
  },
  {
   "cell_type": "code",
   "execution_count": 12,
   "outputs": [],
   "source": [
    "df = df_original"
   ],
   "metadata": {
    "collapsed": false,
    "pycharm": {
     "name": "#%%\n"
    }
   }
  },
  {
   "cell_type": "code",
   "execution_count": 13,
   "metadata": {
    "scrolled": true
   },
   "outputs": [
    {
     "name": "stdout",
     "output_type": "stream",
     "text": [
      "3266\n"
     ]
    }
   ],
   "source": [
    "print(len(df))"
   ]
  },
  {
   "cell_type": "code",
   "execution_count": 14,
   "outputs": [
    {
     "data": {
      "text/plain": "            date  level\n3261  2021-12-06    191\n3262  2021-12-07    245\n3263  2021-12-08    228\n3264  2021-12-09    202\n3265  2021-12-10    197",
      "text/html": "<div>\n<style scoped>\n    .dataframe tbody tr th:only-of-type {\n        vertical-align: middle;\n    }\n\n    .dataframe tbody tr th {\n        vertical-align: top;\n    }\n\n    .dataframe thead th {\n        text-align: right;\n    }\n</style>\n<table border=\"1\" class=\"dataframe\">\n  <thead>\n    <tr style=\"text-align: right;\">\n      <th></th>\n      <th>date</th>\n      <th>level</th>\n    </tr>\n  </thead>\n  <tbody>\n    <tr>\n      <th>3261</th>\n      <td>2021-12-06</td>\n      <td>191</td>\n    </tr>\n    <tr>\n      <th>3262</th>\n      <td>2021-12-07</td>\n      <td>245</td>\n    </tr>\n    <tr>\n      <th>3263</th>\n      <td>2021-12-08</td>\n      <td>228</td>\n    </tr>\n    <tr>\n      <th>3264</th>\n      <td>2021-12-09</td>\n      <td>202</td>\n    </tr>\n    <tr>\n      <th>3265</th>\n      <td>2021-12-10</td>\n      <td>197</td>\n    </tr>\n  </tbody>\n</table>\n</div>"
     },
     "execution_count": 14,
     "metadata": {},
     "output_type": "execute_result"
    }
   ],
   "source": [
    "df.tail()"
   ],
   "metadata": {
    "collapsed": false,
    "pycharm": {
     "name": "#%%\n"
    }
   }
  },
  {
   "cell_type": "code",
   "execution_count": 15,
   "outputs": [],
   "source": [
    "df.index = pd.period_range('2013-01-01', '2021-12-10', freq='D')"
   ],
   "metadata": {
    "collapsed": false,
    "pycharm": {
     "name": "#%%\n"
    }
   }
  },
  {
   "cell_type": "code",
   "execution_count": 16,
   "outputs": [],
   "source": [
    "df = df.drop('date', axis=1)"
   ],
   "metadata": {
    "collapsed": false,
    "pycharm": {
     "name": "#%%\n"
    }
   }
  },
  {
   "cell_type": "code",
   "execution_count": 17,
   "outputs": [
    {
     "data": {
      "text/plain": "            level\n2013-01-01    510\n2013-01-02    461\n2013-01-03    414\n2013-01-04    378\n2013-01-05    351\n...           ...\n2021-12-06    191\n2021-12-07    245\n2021-12-08    228\n2021-12-09    202\n2021-12-10    197\n\n[3266 rows x 1 columns]",
      "text/html": "<div>\n<style scoped>\n    .dataframe tbody tr th:only-of-type {\n        vertical-align: middle;\n    }\n\n    .dataframe tbody tr th {\n        vertical-align: top;\n    }\n\n    .dataframe thead th {\n        text-align: right;\n    }\n</style>\n<table border=\"1\" class=\"dataframe\">\n  <thead>\n    <tr style=\"text-align: right;\">\n      <th></th>\n      <th>level</th>\n    </tr>\n  </thead>\n  <tbody>\n    <tr>\n      <th>2013-01-01</th>\n      <td>510</td>\n    </tr>\n    <tr>\n      <th>2013-01-02</th>\n      <td>461</td>\n    </tr>\n    <tr>\n      <th>2013-01-03</th>\n      <td>414</td>\n    </tr>\n    <tr>\n      <th>2013-01-04</th>\n      <td>378</td>\n    </tr>\n    <tr>\n      <th>2013-01-05</th>\n      <td>351</td>\n    </tr>\n    <tr>\n      <th>...</th>\n      <td>...</td>\n    </tr>\n    <tr>\n      <th>2021-12-06</th>\n      <td>191</td>\n    </tr>\n    <tr>\n      <th>2021-12-07</th>\n      <td>245</td>\n    </tr>\n    <tr>\n      <th>2021-12-08</th>\n      <td>228</td>\n    </tr>\n    <tr>\n      <th>2021-12-09</th>\n      <td>202</td>\n    </tr>\n    <tr>\n      <th>2021-12-10</th>\n      <td>197</td>\n    </tr>\n  </tbody>\n</table>\n<p>3266 rows × 1 columns</p>\n</div>"
     },
     "execution_count": 17,
     "metadata": {},
     "output_type": "execute_result"
    }
   ],
   "source": [
    "df"
   ],
   "metadata": {
    "collapsed": false,
    "pycharm": {
     "name": "#%%\n"
    }
   }
  },
  {
   "cell_type": "code",
   "execution_count": 18,
   "outputs": [
    {
     "name": "stderr",
     "output_type": "stream",
     "text": [
      "/home/pascal/anaconda3/envs/forecasting/lib/python3.9/site-packages/sklearn/base.py:438: UserWarning: X has feature names, but RobustScaler was fitted without feature names\n",
      "  warnings.warn(\n"
     ]
    }
   ],
   "source": [
    "scaler = RobustScaler().fit(df.values)\n",
    "df['level'] = scaler.transform(df)"
   ],
   "metadata": {
    "collapsed": false,
    "pycharm": {
     "name": "#%%\n"
    }
   }
  },
  {
   "cell_type": "code",
   "execution_count": 19,
   "metadata": {},
   "outputs": [
    {
     "name": "stdout",
     "output_type": "stream",
     "text": [
      "Performing stepwise search to minimize aic\n",
      " ARIMA(2,1,2)(1,0,1)[7] intercept   : AIC=-5593.304, Time=5.77 sec\n",
      " ARIMA(0,1,0)(0,0,0)[7] intercept   : AIC=-2867.446, Time=0.20 sec\n",
      " ARIMA(1,1,0)(1,0,0)[7] intercept   : AIC=-4913.399, Time=1.53 sec\n",
      " ARIMA(0,1,1)(0,0,1)[7] intercept   : AIC=-5054.044, Time=1.21 sec\n",
      " ARIMA(0,1,0)(0,0,0)[7]             : AIC=-2869.353, Time=0.12 sec\n",
      " ARIMA(2,1,2)(0,0,1)[7] intercept   : AIC=-5599.707, Time=5.30 sec\n",
      " ARIMA(2,1,2)(0,0,0)[7] intercept   : AIC=-5601.812, Time=2.41 sec\n",
      " ARIMA(2,1,2)(1,0,0)[7] intercept   : AIC=-5602.287, Time=4.62 sec\n",
      " ARIMA(2,1,2)(2,0,0)[7] intercept   : AIC=-5603.590, Time=26.28 sec\n",
      " ARIMA(2,1,2)(2,0,1)[7] intercept   : AIC=-5592.503, Time=28.81 sec\n",
      " ARIMA(1,1,2)(2,0,0)[7] intercept   : AIC=-5556.088, Time=4.23 sec\n",
      " ARIMA(2,1,1)(2,0,0)[7] intercept   : AIC=-5577.890, Time=13.87 sec\n",
      " ARIMA(3,1,2)(2,0,0)[7] intercept   : AIC=-5617.323, Time=19.56 sec\n",
      " ARIMA(3,1,2)(1,0,0)[7] intercept   : AIC=-5618.715, Time=4.35 sec\n",
      " ARIMA(3,1,2)(0,0,0)[7] intercept   : AIC=-5620.368, Time=1.94 sec\n",
      " ARIMA(3,1,2)(0,0,1)[7] intercept   : AIC=-5617.807, Time=5.84 sec\n",
      " ARIMA(3,1,2)(1,0,1)[7] intercept   : AIC=-5616.326, Time=4.15 sec\n",
      " ARIMA(3,1,1)(0,0,0)[7] intercept   : AIC=-5580.031, Time=1.49 sec\n",
      " ARIMA(4,1,2)(0,0,0)[7] intercept   : AIC=-5576.707, Time=3.43 sec\n",
      " ARIMA(3,1,3)(0,0,0)[7] intercept   : AIC=-5598.444, Time=3.44 sec\n",
      " ARIMA(2,1,1)(0,0,0)[7] intercept   : AIC=-5579.222, Time=1.49 sec\n",
      " ARIMA(2,1,3)(0,0,0)[7] intercept   : AIC=-5616.154, Time=3.11 sec\n",
      " ARIMA(4,1,1)(0,0,0)[7] intercept   : AIC=-5594.930, Time=3.38 sec\n",
      " ARIMA(4,1,3)(0,0,0)[7] intercept   : AIC=-5585.130, Time=3.93 sec\n",
      " ARIMA(3,1,2)(0,0,0)[7]             : AIC=-5627.882, Time=0.72 sec\n",
      " ARIMA(3,1,2)(1,0,0)[7]             : AIC=-5626.498, Time=2.49 sec\n",
      " ARIMA(3,1,2)(0,0,1)[7]             : AIC=-5626.003, Time=2.60 sec\n",
      " ARIMA(3,1,2)(1,0,1)[7]             : AIC=-5624.112, Time=2.63 sec\n",
      " ARIMA(2,1,2)(0,0,0)[7]             : AIC=-5603.716, Time=1.28 sec\n",
      " ARIMA(3,1,1)(0,0,0)[7]             : AIC=-5581.990, Time=0.77 sec\n",
      " ARIMA(4,1,2)(0,0,0)[7]             : AIC=-5578.666, Time=1.32 sec\n",
      " ARIMA(3,1,3)(0,0,0)[7]             : AIC=-5604.499, Time=1.72 sec\n",
      " ARIMA(2,1,1)(0,0,0)[7]             : AIC=-5581.181, Time=0.36 sec\n",
      " ARIMA(2,1,3)(0,0,0)[7]             : AIC=inf, Time=1.73 sec\n",
      " ARIMA(4,1,1)(0,0,0)[7]             : AIC=-5619.981, Time=1.68 sec\n",
      " ARIMA(4,1,3)(0,0,0)[7]             : AIC=-5589.166, Time=2.16 sec\n",
      "\n",
      "Best model:  ARIMA(3,1,2)(0,0,0)[7]          \n",
      "Total fit time: 170.017 seconds\n"
     ]
    },
    {
     "data": {
      "text/plain": "ARIMA(order=(3, 1, 2), scoring_args={}, seasonal_order=(0, 0, 0, 7),\n      suppress_warnings=True, with_intercept=False)"
     },
     "execution_count": 19,
     "metadata": {},
     "output_type": "execute_result"
    }
   ],
   "source": [
    "auto_arima(df['level'], m=7, trace=True)"
   ]
  },
  {
   "cell_type": "code",
   "execution_count": 20,
   "metadata": {
    "scrolled": false
   },
   "outputs": [
    {
     "name": "stdout",
     "output_type": "stream",
     "text": [
      "RUNNING THE L-BFGS-B CODE\n",
      "\n",
      "           * * *\n",
      "\n",
      "Machine precision = 2.220D-16\n",
      " N =            8     M =           10\n",
      "\n",
      "At X0         0 variables are exactly at the bounds\n",
      "\n",
      "At iterate    0    f= -3.91993D-01    |proj g|=  9.10576D+00\n"
     ]
    },
    {
     "name": "stderr",
     "output_type": "stream",
     "text": [
      "/home/pascal/anaconda3/envs/forecasting/lib/python3.9/site-packages/statsmodels/tsa/statespace/sarimax.py:1009: UserWarning: Non-invertible starting seasonal moving average Using zeros as starting parameters.\n",
      "  warn('Non-invertible starting seasonal moving average'\n",
      " This problem is unconstrained.\n"
     ]
    },
    {
     "name": "stdout",
     "output_type": "stream",
     "text": [
      "\n",
      "At iterate    5    f= -6.28455D-01    |proj g|=  3.99331D+00\n",
      "\n",
      "At iterate   10    f= -8.14725D-01    |proj g|=  2.61280D-01\n",
      "\n",
      "At iterate   15    f= -8.27754D-01    |proj g|=  1.88384D-01\n",
      "\n",
      "At iterate   20    f= -8.29795D-01    |proj g|=  5.98939D-02\n",
      "\n",
      "At iterate   25    f= -8.41976D-01    |proj g|=  9.71043D-01\n",
      "\n",
      "At iterate   30    f= -8.60030D-01    |proj g|=  6.57673D-02\n",
      "\n",
      "At iterate   35    f= -8.63553D-01    |proj g|=  1.03409D-02\n",
      "\n",
      "At iterate   40    f= -8.64923D-01    |proj g|=  2.41340D-01\n",
      "\n",
      "At iterate   45    f= -8.65594D-01    |proj g|=  9.82810D-03\n",
      "\n",
      "At iterate   50    f= -8.65596D-01    |proj g|=  3.53515D-03\n",
      "\n",
      "At iterate   55    f= -8.65596D-01    |proj g|=  6.98981D-04\n",
      "\n",
      "At iterate   60    f= -8.65597D-01    |proj g|=  6.89915D-04\n",
      "\n",
      "At iterate   65    f= -8.65599D-01    |proj g|=  2.22753D-03\n",
      "\n",
      "At iterate   70    f= -8.65605D-01    |proj g|=  6.17505D-03\n",
      "\n",
      "At iterate   75    f= -8.65606D-01    |proj g|=  5.85987D-03\n",
      "\n",
      "At iterate   80    f= -8.65607D-01    |proj g|=  2.88672D-04\n",
      "\n",
      "           * * *\n",
      "\n",
      "Tit   = total number of iterations\n",
      "Tnf   = total number of function evaluations\n",
      "Tnint = total number of segments explored during Cauchy searches\n",
      "Skip  = number of BFGS updates skipped\n",
      "Nact  = number of active bounds at final generalized Cauchy point\n",
      "Projg = norm of the final projected gradient\n",
      "F     = final function value\n",
      "\n",
      "           * * *\n",
      "\n",
      "   N    Tit     Tnf  Tnint  Skip  Nact     Projg        F\n",
      "    8     80     92      1     0     0   2.887D-04  -8.656D-01\n",
      "  F = -0.86560684399317245     \n",
      "\n",
      "CONVERGENCE: REL_REDUCTION_OF_F_<=_FACTR*EPSMCH             \n"
     ]
    }
   ],
   "source": [
    "my_order = (3, 0, 1)\n",
    "my_seasonal_order = (1, 0, 2, 7)\n",
    "model = SARIMAX(df['level'], order=my_order, seasonal_order=my_seasonal_order, enforce_stationarity=True)\n",
    "model_fit = model.fit(maxiter=200)"
   ]
  },
  {
   "cell_type": "code",
   "execution_count": 21,
   "outputs": [
    {
     "data": {
      "text/plain": "<class 'statsmodels.iolib.summary.Summary'>\n\"\"\"\n                                       SARIMAX Results                                        \n==============================================================================================\nDep. Variable:                                  level   No. Observations:                 3266\nModel:             SARIMAX(3, 0, 1)x(1, 0, [1, 2], 7)   Log Likelihood                2827.072\nDate:                                Tue, 14 Dec 2021   AIC                          -5638.144\nTime:                                        11:18:03   BIC                          -5589.413\nSample:                                    01-01-2013   HQIC                         -5620.691\n                                         - 12-10-2021                                         \nCovariance Type:                                  opg                                         \n==============================================================================\n                 coef    std err          z      P>|z|      [0.025      0.975]\n------------------------------------------------------------------------------\nar.L1          1.6818      0.031     53.834      0.000       1.621       1.743\nar.L2         -0.9120      0.057    -16.026      0.000      -1.024      -0.800\nar.L3          0.2072      0.028      7.507      0.000       0.153       0.261\nma.L1          0.3125      0.032      9.746      0.000       0.250       0.375\nar.S.L7        0.6536      0.225      2.902      0.004       0.212       1.095\nma.S.L7       -0.6553      0.223     -2.936      0.003      -1.093      -0.218\nma.S.L14       0.0363      0.020      1.785      0.074      -0.004       0.076\nsigma2         0.0103   9.79e-05    105.735      0.000       0.010       0.011\n===================================================================================\nLjung-Box (L1) (Q):                   0.14   Jarque-Bera (JB):             22814.93\nProb(Q):                              0.70   Prob(JB):                         0.00\nHeteroskedasticity (H):               1.07   Skew:                             1.29\nProb(H) (two-sided):                  0.28   Kurtosis:                        15.69\n===================================================================================\n\nWarnings:\n[1] Covariance matrix calculated using the outer product of gradients (complex-step).\n\"\"\"",
      "text/html": "<table class=\"simpletable\">\n<caption>SARIMAX Results</caption>\n<tr>\n  <th>Dep. Variable:</th>                  <td>level</td>               <th>  No. Observations:  </th>   <td>3266</td>   \n</tr>\n<tr>\n  <th>Model:</th>           <td>SARIMAX(3, 0, 1)x(1, 0, [1, 2], 7)</td> <th>  Log Likelihood     </th> <td>2827.072</td> \n</tr>\n<tr>\n  <th>Date:</th>                     <td>Tue, 14 Dec 2021</td>          <th>  AIC                </th> <td>-5638.144</td>\n</tr>\n<tr>\n  <th>Time:</th>                         <td>11:18:03</td>              <th>  BIC                </th> <td>-5589.413</td>\n</tr>\n<tr>\n  <th>Sample:</th>                      <td>01-01-2013</td>             <th>  HQIC               </th> <td>-5620.691</td>\n</tr>\n<tr>\n  <th></th>                            <td>- 12-10-2021</td>            <th>                     </th>     <td> </td>    \n</tr>\n<tr>\n  <th>Covariance Type:</th>                 <td>opg</td>                <th>                     </th>     <td> </td>    \n</tr>\n</table>\n<table class=\"simpletable\">\n<tr>\n      <td></td>        <th>coef</th>     <th>std err</th>      <th>z</th>      <th>P>|z|</th>  <th>[0.025</th>    <th>0.975]</th>  \n</tr>\n<tr>\n  <th>ar.L1</th>    <td>    1.6818</td> <td>    0.031</td> <td>   53.834</td> <td> 0.000</td> <td>    1.621</td> <td>    1.743</td>\n</tr>\n<tr>\n  <th>ar.L2</th>    <td>   -0.9120</td> <td>    0.057</td> <td>  -16.026</td> <td> 0.000</td> <td>   -1.024</td> <td>   -0.800</td>\n</tr>\n<tr>\n  <th>ar.L3</th>    <td>    0.2072</td> <td>    0.028</td> <td>    7.507</td> <td> 0.000</td> <td>    0.153</td> <td>    0.261</td>\n</tr>\n<tr>\n  <th>ma.L1</th>    <td>    0.3125</td> <td>    0.032</td> <td>    9.746</td> <td> 0.000</td> <td>    0.250</td> <td>    0.375</td>\n</tr>\n<tr>\n  <th>ar.S.L7</th>  <td>    0.6536</td> <td>    0.225</td> <td>    2.902</td> <td> 0.004</td> <td>    0.212</td> <td>    1.095</td>\n</tr>\n<tr>\n  <th>ma.S.L7</th>  <td>   -0.6553</td> <td>    0.223</td> <td>   -2.936</td> <td> 0.003</td> <td>   -1.093</td> <td>   -0.218</td>\n</tr>\n<tr>\n  <th>ma.S.L14</th> <td>    0.0363</td> <td>    0.020</td> <td>    1.785</td> <td> 0.074</td> <td>   -0.004</td> <td>    0.076</td>\n</tr>\n<tr>\n  <th>sigma2</th>   <td>    0.0103</td> <td> 9.79e-05</td> <td>  105.735</td> <td> 0.000</td> <td>    0.010</td> <td>    0.011</td>\n</tr>\n</table>\n<table class=\"simpletable\">\n<tr>\n  <th>Ljung-Box (L1) (Q):</th>     <td>0.14</td> <th>  Jarque-Bera (JB):  </th> <td>22814.93</td>\n</tr>\n<tr>\n  <th>Prob(Q):</th>                <td>0.70</td> <th>  Prob(JB):          </th>   <td>0.00</td>  \n</tr>\n<tr>\n  <th>Heteroskedasticity (H):</th> <td>1.07</td> <th>  Skew:              </th>   <td>1.29</td>  \n</tr>\n<tr>\n  <th>Prob(H) (two-sided):</th>    <td>0.28</td> <th>  Kurtosis:          </th>   <td>15.69</td> \n</tr>\n</table><br/><br/>Warnings:<br/>[1] Covariance matrix calculated using the outer product of gradients (complex-step)."
     },
     "execution_count": 21,
     "metadata": {},
     "output_type": "execute_result"
    }
   ],
   "source": [
    "model_fit.summary()"
   ],
   "metadata": {
    "collapsed": false,
    "pycharm": {
     "name": "#%%\n"
    }
   }
  },
  {
   "cell_type": "code",
   "execution_count": 22,
   "outputs": [
    {
     "data": {
      "text/plain": "2021-12-11    0.124152\n2021-12-12    0.147023\n2021-12-13    0.150586\n2021-12-14    0.143164\n2021-12-15    0.134672\n2021-12-16    0.130892\n2021-12-17    0.123714\nFreq: D, Name: predicted_mean, dtype: float64"
     },
     "execution_count": 22,
     "metadata": {},
     "output_type": "execute_result"
    }
   ],
   "source": [
    "model_fit.forecast(steps=7)"
   ],
   "metadata": {
    "collapsed": false,
    "pycharm": {
     "name": "#%%\n"
    }
   }
  },
  {
   "cell_type": "code",
   "execution_count": 23,
   "outputs": [
    {
     "data": {
      "text/plain": "0.06388599425068246"
     },
     "execution_count": 23,
     "metadata": {},
     "output_type": "execute_result"
    }
   ],
   "source": [
    "model_fit.mae"
   ],
   "metadata": {
    "collapsed": false,
    "pycharm": {
     "name": "#%%\n"
    }
   }
  },
  {
   "cell_type": "code",
   "execution_count": 24,
   "outputs": [
    {
     "data": {
      "text/plain": "<Figure size 1080x360 with 1 Axes>",
      "image/png": "[encoded data removed]"
     },
     "metadata": {
      "needs_background": "light"
     },
     "output_type": "display_data"
    }
   ],
   "source": [
    "fig, ax = plt.subplots(figsize=(15, 5))\n",
    "\n",
    "df.loc['2021-10-10':].plot(ax=ax)\n",
    "\n",
    "fcast = model_fit.get_forecast(steps=7).summary_frame()\n",
    "fcast['mean'].plot(ax=ax, style='k--')\n",
    "ax.fill_between(fcast.index, fcast['mean_ci_lower'], fcast['mean_ci_upper'], color='k', alpha=0.1);"
   ],
   "metadata": {
    "collapsed": false,
    "pycharm": {
     "name": "#%%\n"
    }
   }
  },
  {
   "cell_type": "markdown",
   "source": [
    "## Comparing a SARIMA model that uses similar data as the LSTM model"
   ],
   "metadata": {
    "collapsed": false,
    "pycharm": {
     "name": "#%% md\n"
    }
   }
  },
  {
   "cell_type": "code",
   "execution_count": 25,
   "outputs": [
    {
     "data": {
      "text/plain": "                  date  level\n2013-01-01  2013-01-01    510\n2013-01-02  2013-01-02    461\n2013-01-03  2013-01-03    414\n2013-01-04  2013-01-04    378\n2013-01-05  2013-01-05    351\n...                ...    ...\n2021-12-06  2021-12-06    191\n2021-12-07  2021-12-07    245\n2021-12-08  2021-12-08    228\n2021-12-09  2021-12-09    202\n2021-12-10  2021-12-10    197\n\n[3266 rows x 2 columns]",
      "text/html": "<div>\n<style scoped>\n    .dataframe tbody tr th:only-of-type {\n        vertical-align: middle;\n    }\n\n    .dataframe tbody tr th {\n        vertical-align: top;\n    }\n\n    .dataframe thead th {\n        text-align: right;\n    }\n</style>\n<table border=\"1\" class=\"dataframe\">\n  <thead>\n    <tr style=\"text-align: right;\">\n      <th></th>\n      <th>date</th>\n      <th>level</th>\n    </tr>\n  </thead>\n  <tbody>\n    <tr>\n      <th>2013-01-01</th>\n      <td>2013-01-01</td>\n      <td>510</td>\n    </tr>\n    <tr>\n      <th>2013-01-02</th>\n      <td>2013-01-02</td>\n      <td>461</td>\n    </tr>\n    <tr>\n      <th>2013-01-03</th>\n      <td>2013-01-03</td>\n      <td>414</td>\n    </tr>\n    <tr>\n      <th>2013-01-04</th>\n      <td>2013-01-04</td>\n      <td>378</td>\n    </tr>\n    <tr>\n      <th>2013-01-05</th>\n      <td>2013-01-05</td>\n      <td>351</td>\n    </tr>\n    <tr>\n      <th>...</th>\n      <td>...</td>\n      <td>...</td>\n    </tr>\n    <tr>\n      <th>2021-12-06</th>\n      <td>2021-12-06</td>\n      <td>191</td>\n    </tr>\n    <tr>\n      <th>2021-12-07</th>\n      <td>2021-12-07</td>\n      <td>245</td>\n    </tr>\n    <tr>\n      <th>2021-12-08</th>\n      <td>2021-12-08</td>\n      <td>228</td>\n    </tr>\n    <tr>\n      <th>2021-12-09</th>\n      <td>2021-12-09</td>\n      <td>202</td>\n    </tr>\n    <tr>\n      <th>2021-12-10</th>\n      <td>2021-12-10</td>\n      <td>197</td>\n    </tr>\n  </tbody>\n</table>\n<p>3266 rows × 2 columns</p>\n</div>"
     },
     "execution_count": 25,
     "metadata": {},
     "output_type": "execute_result"
    }
   ],
   "source": [
    "df_original"
   ],
   "metadata": {
    "collapsed": false,
    "pycharm": {
     "name": "#%%\n"
    }
   }
  },
  {
   "cell_type": "code",
   "execution_count": 28,
   "outputs": [],
   "source": [
    "df_original = df_original.drop('date', axis=1)"
   ],
   "metadata": {
    "collapsed": false,
    "pycharm": {
     "name": "#%%\n"
    }
   }
  },
  {
   "cell_type": "code",
   "execution_count": 32,
   "outputs": [],
   "source": [
    "train_df = df_original[:int(len(df_original)*0.9)]\n",
    "test_df = df_original[int(0.9*len(df_original)):]"
   ],
   "metadata": {
    "collapsed": false,
    "pycharm": {
     "name": "#%%\n"
    }
   }
  },
  {
   "cell_type": "code",
   "execution_count": 33,
   "outputs": [],
   "source": [
    "assert(len(train_df) + len(test_df) == len(df))"
   ],
   "metadata": {
    "collapsed": false,
    "pycharm": {
     "name": "#%%\n"
    }
   }
  },
  {
   "cell_type": "code",
   "execution_count": 34,
   "metadata": {
    "pycharm": {
     "name": "#%%\n"
    }
   },
   "outputs": [
    {
     "name": "stdout",
     "output_type": "stream",
     "text": [
      "2939 327\n"
     ]
    }
   ],
   "source": [
    "print(len(train_df), len(test_df))"
   ]
  },
  {
   "cell_type": "code",
   "execution_count": 38,
   "outputs": [
    {
     "name": "stderr",
     "output_type": "stream",
     "text": [
      "/home/pascal/anaconda3/envs/forecasting/lib/python3.9/site-packages/sklearn/base.py:438: UserWarning: X has feature names, but RobustScaler was fitted without feature names\n",
      "  warnings.warn(\n",
      "/home/pascal/anaconda3/envs/forecasting/lib/python3.9/site-packages/sklearn/base.py:438: UserWarning: X has feature names, but RobustScaler was fitted without feature names\n",
      "  warnings.warn(\n"
     ]
    }
   ],
   "source": [
    "scaler = RobustScaler().fit(train_df.values)\n",
    "train_scaled = scaler.transform(train_df)\n",
    "test_scaled = scaler.transform(test_df)"
   ],
   "metadata": {
    "collapsed": false,
    "pycharm": {
     "name": "#%%\n"
    }
   }
  },
  {
   "cell_type": "code",
   "execution_count": 39,
   "outputs": [],
   "source": [
    "train_df = pd.DataFrame(train_scaled, index=train_df.index, columns=train_df.columns)\n",
    "test_df = pd.DataFrame(test_scaled, index=test_df.index, columns=test_df.columns)"
   ],
   "metadata": {
    "collapsed": false,
    "pycharm": {
     "name": "#%%\n"
    }
   }
  },
  {
   "cell_type": "code",
   "execution_count": 40,
   "outputs": [
    {
     "name": "stderr",
     "output_type": "stream",
     "text": [
      "/home/pascal/anaconda3/envs/forecasting/lib/python3.9/site-packages/statsmodels/tsa/statespace/sarimax.py:1009: UserWarning: Non-invertible starting seasonal moving average Using zeros as starting parameters.\n",
      "  warn('Non-invertible starting seasonal moving average'\n",
      " This problem is unconstrained.\n"
     ]
    },
    {
     "name": "stdout",
     "output_type": "stream",
     "text": [
      "RUNNING THE L-BFGS-B CODE\n",
      "\n",
      "           * * *\n",
      "\n",
      "Machine precision = 2.220D-16\n",
      " N =            8     M =           10\n",
      "\n",
      "At X0         0 variables are exactly at the bounds\n",
      "\n",
      "At iterate    0    f= -3.21669D-01    |proj g|=  8.99789D+00\n",
      "\n",
      "At iterate    5    f= -5.72764D-01    |proj g|=  4.86074D-01\n",
      "\n",
      "At iterate   10    f= -7.61445D-01    |proj g|=  1.08125D-01\n",
      "\n",
      "At iterate   15    f= -7.84901D-01    |proj g|=  2.36213D-01\n",
      "\n",
      "At iterate   20    f= -8.10729D-01    |proj g|=  5.84806D-02\n",
      "\n",
      "At iterate   25    f= -8.11068D-01    |proj g|=  8.11956D-02\n",
      "\n",
      "At iterate   30    f= -8.13254D-01    |proj g|=  1.00261D-02\n",
      "\n",
      "At iterate   35    f= -8.13266D-01    |proj g|=  1.38654D-04\n",
      "\n",
      "At iterate   40    f= -8.13268D-01    |proj g|=  2.86947D-03\n",
      "\n",
      "At iterate   45    f= -8.13274D-01    |proj g|=  7.09688D-04\n",
      "\n",
      "At iterate   50    f= -8.13275D-01    |proj g|=  7.08983D-04\n",
      "\n",
      "           * * *\n",
      "\n",
      "Tit   = total number of iterations\n",
      "Tnf   = total number of function evaluations\n",
      "Tnint = total number of segments explored during Cauchy searches\n",
      "Skip  = number of BFGS updates skipped\n",
      "Nact  = number of active bounds at final generalized Cauchy point\n",
      "Projg = norm of the final projected gradient\n",
      "F     = final function value\n",
      "\n",
      "           * * *\n",
      "\n",
      "   N    Tit     Tnf  Tnint  Skip  Nact     Projg        F\n",
      "    8     52     68      1     0     0   6.877D-04  -8.133D-01\n",
      "  F = -0.81327563991254737     \n",
      "\n",
      "CONVERGENCE: REL_REDUCTION_OF_F_<=_FACTR*EPSMCH             \n"
     ]
    }
   ],
   "source": [
    "y_order = (3, 0, 1)\n",
    "my_seasonal_order = (1, 0, 2, 7)\n",
    "model = SARIMAX(train_df['level'], order=my_order, seasonal_order=my_seasonal_order, enforce_stationarity=True)\n",
    "model_fit = model.fit(maxiter=200)"
   ],
   "metadata": {
    "collapsed": false,
    "pycharm": {
     "name": "#%%\n"
    }
   }
  },
  {
   "cell_type": "code",
   "execution_count": 60,
   "outputs": [
    {
     "data": {
      "text/plain": "               level\n2021-01-13 -0.639269\n2021-01-14 -0.611872\n2021-01-15 -0.593607\n2021-01-16 -0.045662\n2021-01-17  0.429224",
      "text/html": "<div>\n<style scoped>\n    .dataframe tbody tr th:only-of-type {\n        vertical-align: middle;\n    }\n\n    .dataframe tbody tr th {\n        vertical-align: top;\n    }\n\n    .dataframe thead th {\n        text-align: right;\n    }\n</style>\n<table border=\"1\" class=\"dataframe\">\n  <thead>\n    <tr style=\"text-align: right;\">\n      <th></th>\n      <th>level</th>\n    </tr>\n  </thead>\n  <tbody>\n    <tr>\n      <th>2021-01-13</th>\n      <td>-0.639269</td>\n    </tr>\n    <tr>\n      <th>2021-01-14</th>\n      <td>-0.611872</td>\n    </tr>\n    <tr>\n      <th>2021-01-15</th>\n      <td>-0.593607</td>\n    </tr>\n    <tr>\n      <th>2021-01-16</th>\n      <td>-0.045662</td>\n    </tr>\n    <tr>\n      <th>2021-01-17</th>\n      <td>0.429224</td>\n    </tr>\n  </tbody>\n</table>\n</div>"
     },
     "execution_count": 60,
     "metadata": {},
     "output_type": "execute_result"
    }
   ],
   "source": [
    "train_df.tail()"
   ],
   "metadata": {
    "collapsed": false,
    "pycharm": {
     "name": "#%%\n"
    }
   }
  },
  {
   "cell_type": "code",
   "execution_count": 82,
   "outputs": [],
   "source": [
    "yhats = model_fit.get_forecast(steps=7)"
   ],
   "metadata": {
    "collapsed": false,
    "pycharm": {
     "name": "#%%\n"
    }
   }
  },
  {
   "cell_type": "code",
   "execution_count": 83,
   "outputs": [],
   "source": [
    "def mae(yhats, y):\n",
    "    total_mae = 0\n",
    "    for predictions, truth in zip(yhats, y):\n",
    "        print(truth)\n",
    "        total_mae += abs(predictions-float(truth))\n",
    "    return total_mae / len(yhats)\n"
   ],
   "metadata": {
    "collapsed": false,
    "pycharm": {
     "name": "#%%\n"
    }
   }
  },
  {
   "cell_type": "code",
   "execution_count": 85,
   "outputs": [
    {
     "name": "stdout",
     "output_type": "stream",
     "text": [
      "0.30136986301369867\n",
      "0.10958904109589042\n",
      "0.03652968036529681\n",
      "-0.009132420091324202\n",
      "0.05479452054794521\n",
      "0.3835616438356165\n",
      "0.8310502283105023\n"
     ]
    }
   ],
   "source": [
    "mean_absolute_error = mae(yhats, test_df['level'][:7])"
   ],
   "metadata": {
    "collapsed": false,
    "pycharm": {
     "name": "#%%\n"
    }
   }
  },
  {
   "cell_type": "code",
   "execution_count": 86,
   "outputs": [
    {
     "data": {
      "text/plain": "0.4014415957529313"
     },
     "execution_count": 86,
     "metadata": {},
     "output_type": "execute_result"
    }
   ],
   "source": [
    "mean_absolute_error"
   ],
   "metadata": {
    "collapsed": false,
    "pycharm": {
     "name": "#%%\n"
    }
   }
  },
  {
   "cell_type": "code",
   "execution_count": null,
   "outputs": [],
   "source": [],
   "metadata": {
    "collapsed": false,
    "pycharm": {
     "name": "#%%\n"
    }
   }
  }
 ],
 "metadata": {
  "kernelspec": {
   "display_name": "Python forecasting",
   "language": "python",
   "name": "forecasting"
  },
  "language_info": {
   "codemirror_mode": {
    "name": "ipython",
    "version": 3
   },
   "file_extension": ".py",
   "mimetype": "text/x-python",
   "name": "python",
   "nbconvert_exporter": "python",
   "pygments_lexer": "ipython3",
   "version": "3.9.7"
  }
 },
 "nbformat": 4,
 "nbformat_minor": 2
}